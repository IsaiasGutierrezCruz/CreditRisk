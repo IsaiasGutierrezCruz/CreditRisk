{
 "cells": [
  {
   "cell_type": "markdown",
   "id": "89c6b2a2",
   "metadata": {},
   "source": [
    "# Challenge Credit Risk"
   ]
  },
  {
   "cell_type": "markdown",
   "id": "6327e1ac",
   "metadata": {},
   "source": [
    "**Packages**"
   ]
  },
  {
   "cell_type": "code",
   "execution_count": 123,
   "id": "475370b3",
   "metadata": {},
   "outputs": [],
   "source": [
    "import numpy as np\n",
    "import pandas as pd \n",
    "import matplotlib.pyplot as plt\n",
    "%matplotlib inline\n",
    "import seaborn as sns\n",
    "\n",
    "#from datetime import date, datetime"
   ]
  },
  {
   "cell_type": "code",
   "execution_count": 48,
   "id": "99ea017b",
   "metadata": {},
   "outputs": [],
   "source": [
    "#plt.rcParams['figure.figsize'] = [8,5]\n",
    "#plt.rcParams['font.size'] =14\n",
    "#plt.rcParams['font.weight']= 'bold'\n",
    "#plt.style.use('seaborn-whitegrid')"
   ]
  },
  {
   "cell_type": "markdown",
   "id": "f843eebb",
   "metadata": {},
   "source": [
    "## Business Undestanding"
   ]
  },
  {
   "cell_type": "markdown",
   "id": "627a1202",
   "metadata": {},
   "source": [
    "### Questions to answer \n",
    "\n",
    "- Pick the best clients you will give a loan to, based on the model you created. It\n",
    "could be as complex as you decide (even as simpler as knock out rules), as long as\n",
    "the metrics support it\n",
    "- Propose an amount to be lended to those clients and a term in which the loan will\n",
    "need to be paid back.\n",
    "- Finally choose an anual interest rate the lended amount must have in order to be\n",
    "profitable."
   ]
  },
  {
   "cell_type": "markdown",
   "id": "5e5f8e76",
   "metadata": {},
   "source": [
    "## Data Understanding"
   ]
  },
  {
   "cell_type": "markdown",
   "id": "38f7f7b0",
   "metadata": {},
   "source": [
    "Read datasets"
   ]
  },
  {
   "cell_type": "code",
   "execution_count": 3,
   "id": "5fd9072f",
   "metadata": {},
   "outputs": [],
   "source": [
    "from pathlib import Path\n",
    "root_dir = Path().resolve()"
   ]
  },
  {
   "cell_type": "code",
   "execution_count": 4,
   "id": "e7bf1146",
   "metadata": {},
   "outputs": [],
   "source": [
    "data_users = pd.read_csv('data/users.csv')\n",
    "data_credit_reports = pd.read_csv('data/credit_reports.csv', parse_dates=['account_opening_date', 'account_closing_date'])"
   ]
  },
  {
   "cell_type": "markdown",
   "id": "f06906fc",
   "metadata": {},
   "source": [
    "### Solving the date's format\n",
    "The dataset `data_credit_reports` has '0000-00-00' values in the column `worst_delinquency_date`, probably due to an error in the date's conversion during the data preparation."
   ]
  },
  {
   "cell_type": "code",
   "execution_count": 5,
   "id": "beceb2a5",
   "metadata": {},
   "outputs": [
    {
     "data": {
      "text/plain": [
       "16       0000-00-00\n",
       "22       0000-00-00\n",
       "23       0000-00-00\n",
       "354      0000-00-00\n",
       "355      0000-00-00\n",
       "            ...    \n",
       "15642    0000-00-00\n",
       "15884    0000-00-00\n",
       "15885    0000-00-00\n",
       "15898    0000-00-00\n",
       "15899    0000-00-00\n",
       "Name: worst_delinquency_date, Length: 428, dtype: object"
      ]
     },
     "execution_count": 5,
     "metadata": {},
     "output_type": "execute_result"
    }
   ],
   "source": [
    "data_credit_reports['worst_delinquency_date'].loc[data_credit_reports['worst_delinquency_date'].str.match('.*\\/.*\\/.*') == False]"
   ]
  },
  {
   "cell_type": "code",
   "execution_count": 6,
   "id": "db0a12bb",
   "metadata": {},
   "outputs": [],
   "source": [
    "data_credit_reports['worst_delinquency_date'].replace({\"0000-00-00\": np.NaN}, inplace=True)\n",
    "data_credit_reports['worst_delinquency_date'] = pd.to_datetime(data_credit_reports['worst_delinquency_date'], \n",
    "                                                              format='%m/%d/%y')"
   ]
  },
  {
   "cell_type": "markdown",
   "id": "78f062be",
   "metadata": {},
   "source": [
    "### Exploring user's Income and outcome "
   ]
  },
  {
   "cell_type": "code",
   "execution_count": 7,
   "id": "201ba0a8",
   "metadata": {
    "scrolled": true
   },
   "outputs": [
    {
     "data": {
      "text/html": [
       "<div>\n",
       "<style scoped>\n",
       "    .dataframe tbody tr th:only-of-type {\n",
       "        vertical-align: middle;\n",
       "    }\n",
       "\n",
       "    .dataframe tbody tr th {\n",
       "        vertical-align: top;\n",
       "    }\n",
       "\n",
       "    .dataframe thead th {\n",
       "        text-align: right;\n",
       "    }\n",
       "</style>\n",
       "<table border=\"1\" class=\"dataframe\">\n",
       "  <thead>\n",
       "    <tr style=\"text-align: right;\">\n",
       "      <th></th>\n",
       "      <th>id</th>\n",
       "      <th>monthly_income</th>\n",
       "      <th>monthly_outcome</th>\n",
       "      <th>class</th>\n",
       "    </tr>\n",
       "  </thead>\n",
       "  <tbody>\n",
       "    <tr>\n",
       "      <th>0</th>\n",
       "      <td>0</td>\n",
       "      <td>255359</td>\n",
       "      <td>151439</td>\n",
       "      <td>1</td>\n",
       "    </tr>\n",
       "    <tr>\n",
       "      <th>1</th>\n",
       "      <td>1</td>\n",
       "      <td>8940</td>\n",
       "      <td>789</td>\n",
       "      <td>0</td>\n",
       "    </tr>\n",
       "    <tr>\n",
       "      <th>2</th>\n",
       "      <td>2</td>\n",
       "      <td>11436</td>\n",
       "      <td>3316</td>\n",
       "      <td>0</td>\n",
       "    </tr>\n",
       "    <tr>\n",
       "      <th>3</th>\n",
       "      <td>3</td>\n",
       "      <td>17143</td>\n",
       "      <td>47547</td>\n",
       "      <td>1</td>\n",
       "    </tr>\n",
       "    <tr>\n",
       "      <th>4</th>\n",
       "      <td>4</td>\n",
       "      <td>26990</td>\n",
       "      <td>15585</td>\n",
       "      <td>1</td>\n",
       "    </tr>\n",
       "    <tr>\n",
       "      <th>5</th>\n",
       "      <td>5</td>\n",
       "      <td>166</td>\n",
       "      <td>5240</td>\n",
       "      <td>0</td>\n",
       "    </tr>\n",
       "    <tr>\n",
       "      <th>6</th>\n",
       "      <td>6</td>\n",
       "      <td>111662</td>\n",
       "      <td>108374</td>\n",
       "      <td>1</td>\n",
       "    </tr>\n",
       "    <tr>\n",
       "      <th>7</th>\n",
       "      <td>7</td>\n",
       "      <td>6271</td>\n",
       "      <td>44469</td>\n",
       "      <td>1</td>\n",
       "    </tr>\n",
       "    <tr>\n",
       "      <th>8</th>\n",
       "      <td>8</td>\n",
       "      <td>31695</td>\n",
       "      <td>3021</td>\n",
       "      <td>0</td>\n",
       "    </tr>\n",
       "    <tr>\n",
       "      <th>9</th>\n",
       "      <td>9</td>\n",
       "      <td>2401260</td>\n",
       "      <td>6496313</td>\n",
       "      <td>0</td>\n",
       "    </tr>\n",
       "  </tbody>\n",
       "</table>\n",
       "</div>"
      ],
      "text/plain": [
       "   id  monthly_income  monthly_outcome  class\n",
       "0   0          255359           151439      1\n",
       "1   1            8940              789      0\n",
       "2   2           11436             3316      0\n",
       "3   3           17143            47547      1\n",
       "4   4           26990            15585      1\n",
       "5   5             166             5240      0\n",
       "6   6          111662           108374      1\n",
       "7   7            6271            44469      1\n",
       "8   8           31695             3021      0\n",
       "9   9         2401260          6496313      0"
      ]
     },
     "execution_count": 7,
     "metadata": {},
     "output_type": "execute_result"
    }
   ],
   "source": [
    "data_users.head(10)"
   ]
  },
  {
   "cell_type": "code",
   "execution_count": 127,
   "id": "b8b7047b",
   "metadata": {},
   "outputs": [
    {
     "name": "stdout",
     "output_type": "stream",
     "text": [
      "<class 'pandas.core.frame.DataFrame'>\n",
      "RangeIndex: 1000 entries, 0 to 999\n",
      "Data columns (total 4 columns):\n",
      " #   Column           Non-Null Count  Dtype\n",
      "---  ------           --------------  -----\n",
      " 0   id               1000 non-null   int64\n",
      " 1   monthly_income   1000 non-null   int64\n",
      " 2   monthly_outcome  1000 non-null   int64\n",
      " 3   class            1000 non-null   int64\n",
      "dtypes: int64(4)\n",
      "memory usage: 31.4 KB\n"
     ]
    }
   ],
   "source": [
    "data_users.info()"
   ]
  },
  {
   "cell_type": "markdown",
   "id": "6e6c6216",
   "metadata": {},
   "source": [
    "#### Distribution of user's Income and outcome "
   ]
  },
  {
   "cell_type": "code",
   "execution_count": 126,
   "id": "3d490323",
   "metadata": {
    "scrolled": true
   },
   "outputs": [
    {
     "data": {
      "text/plain": [
       "'\\n# Set up the matplotlib figure\\nsns.set_palette(\"tab10\")\\nfig, axes = plt.subplots(1, 2, figsize=(12, 7), sharex=True)\\nfig.suptitle(\"Monthly Income and outcome for each user\\'s class\")\\n\\n#plt.figure(figsize=(8, 6))\\nsns.boxplot(x=\\'class\\', y=\\'monthly_income\\', data=data_users, showfliers=True, ax=axes[0])\\n#plt.show()\\n\\n#plt.figure(figsize=(8, 6))\\nsns.boxplot(x=\\'class\\', y=\\'monthly_outcome\\', data=data_users, showfliers=True, ax=axes[1])\\n#plt.show()\\n\\naxes1, axes2 = axes.ravel()\\naxes1.set_ylim(0, 0.5e6) \\naxes2.set_ylim(0, 0.5e6) \\n\\n#plt.setp(axes, yticks=[])\\nplt.tight_layout()\\n'"
      ]
     },
     "execution_count": 126,
     "metadata": {},
     "output_type": "execute_result"
    }
   ],
   "source": [
    "\"\"\"\n",
    "# Set up the matplotlib figure\n",
    "sns.set_palette(\"tab10\")\n",
    "fig, axes = plt.subplots(1, 2, figsize=(12, 7), sharex=True)\n",
    "fig.suptitle(\"Monthly Income and outcome for each user's class\")\n",
    "\n",
    "#plt.figure(figsize=(8, 6))\n",
    "sns.boxplot(x='class', y='monthly_income', data=data_users, showfliers=True, ax=axes[0])\n",
    "#plt.show()\n",
    "\n",
    "#plt.figure(figsize=(8, 6))\n",
    "sns.boxplot(x='class', y='monthly_outcome', data=data_users, showfliers=True, ax=axes[1])\n",
    "#plt.show()\n",
    "\n",
    "axes1, axes2 = axes.ravel()\n",
    "axes1.set_ylim(0, 0.5e6) \n",
    "axes2.set_ylim(0, 0.5e6) \n",
    "\n",
    "#plt.setp(axes, yticks=[])\n",
    "plt.tight_layout()\n",
    "\"\"\""
   ]
  },
  {
   "cell_type": "code",
   "execution_count": 177,
   "id": "a4ad8b1c",
   "metadata": {},
   "outputs": [
    {
     "data": {
      "text/html": [
       "<div>\n",
       "<style scoped>\n",
       "    .dataframe tbody tr th:only-of-type {\n",
       "        vertical-align: middle;\n",
       "    }\n",
       "\n",
       "    .dataframe tbody tr th {\n",
       "        vertical-align: top;\n",
       "    }\n",
       "\n",
       "    .dataframe thead th {\n",
       "        text-align: right;\n",
       "    }\n",
       "</style>\n",
       "<table border=\"1\" class=\"dataframe\">\n",
       "  <thead>\n",
       "    <tr style=\"text-align: right;\">\n",
       "      <th></th>\n",
       "      <th>id</th>\n",
       "      <th>monthly_income</th>\n",
       "      <th>monthly_outcome</th>\n",
       "      <th>class</th>\n",
       "    </tr>\n",
       "  </thead>\n",
       "  <tbody>\n",
       "    <tr>\n",
       "      <th>count</th>\n",
       "      <td>1000.000000</td>\n",
       "      <td>1.000000e+03</td>\n",
       "      <td>1.000000e+03</td>\n",
       "      <td>1000.000000</td>\n",
       "    </tr>\n",
       "    <tr>\n",
       "      <th>mean</th>\n",
       "      <td>499.500000</td>\n",
       "      <td>1.216138e+05</td>\n",
       "      <td>1.249657e+05</td>\n",
       "      <td>0.535000</td>\n",
       "    </tr>\n",
       "    <tr>\n",
       "      <th>std</th>\n",
       "      <td>288.819436</td>\n",
       "      <td>4.709416e+05</td>\n",
       "      <td>5.796281e+05</td>\n",
       "      <td>0.499023</td>\n",
       "    </tr>\n",
       "    <tr>\n",
       "      <th>min</th>\n",
       "      <td>0.000000</td>\n",
       "      <td>1.000000e+00</td>\n",
       "      <td>1.000000e+00</td>\n",
       "      <td>0.000000</td>\n",
       "    </tr>\n",
       "    <tr>\n",
       "      <th>25%</th>\n",
       "      <td>249.750000</td>\n",
       "      <td>2.691250e+03</td>\n",
       "      <td>3.397750e+03</td>\n",
       "      <td>0.000000</td>\n",
       "    </tr>\n",
       "    <tr>\n",
       "      <th>50%</th>\n",
       "      <td>499.500000</td>\n",
       "      <td>1.253350e+04</td>\n",
       "      <td>1.424250e+04</td>\n",
       "      <td>1.000000</td>\n",
       "    </tr>\n",
       "    <tr>\n",
       "      <th>75%</th>\n",
       "      <td>749.250000</td>\n",
       "      <td>5.868600e+04</td>\n",
       "      <td>5.722850e+04</td>\n",
       "      <td>1.000000</td>\n",
       "    </tr>\n",
       "    <tr>\n",
       "      <th>max</th>\n",
       "      <td>999.000000</td>\n",
       "      <td>9.344842e+06</td>\n",
       "      <td>9.749651e+06</td>\n",
       "      <td>1.000000</td>\n",
       "    </tr>\n",
       "  </tbody>\n",
       "</table>\n",
       "</div>"
      ],
      "text/plain": [
       "                id  monthly_income  monthly_outcome        class\n",
       "count  1000.000000    1.000000e+03     1.000000e+03  1000.000000\n",
       "mean    499.500000    1.216138e+05     1.249657e+05     0.535000\n",
       "std     288.819436    4.709416e+05     5.796281e+05     0.499023\n",
       "min       0.000000    1.000000e+00     1.000000e+00     0.000000\n",
       "25%     249.750000    2.691250e+03     3.397750e+03     0.000000\n",
       "50%     499.500000    1.253350e+04     1.424250e+04     1.000000\n",
       "75%     749.250000    5.868600e+04     5.722850e+04     1.000000\n",
       "max     999.000000    9.344842e+06     9.749651e+06     1.000000"
      ]
     },
     "execution_count": 177,
     "metadata": {},
     "output_type": "execute_result"
    }
   ],
   "source": [
    "data_users.describe()"
   ]
  },
  {
   "cell_type": "code",
   "execution_count": 124,
   "id": "65d7279b",
   "metadata": {},
   "outputs": [
    {
     "data": {
      "image/png": "[encoded data removed]",
      "text/plain": [
       "<Figure size 864x504 with 2 Axes>"
      ]
     },
     "metadata": {
      "needs_background": "light"
     },
     "output_type": "display_data"
    }
   ],
   "source": [
    "# Set up the matplotlib figure\n",
    "sns.set_palette(\"tab10\")\n",
    "fig, axes = plt.subplots(1, 2, figsize=(12, 7), sharex=True)\n",
    "fig.suptitle(\"Monthly Income and outcome for each user's class\")\n",
    "\n",
    "#plt.figure(figsize=(8, 6))\n",
    "sns.violinplot(x='class', y='monthly_income', data=data_users, showfliers=True, ax=axes[0])\n",
    "#plt.show()\n",
    "\n",
    "#plt.figure(figsize=(8, 6))\n",
    "sns.violinplot(x='class', y='monthly_outcome', data=data_users, showfliers=True, ax=axes[1])\n",
    "#plt.show()\n",
    "\n",
    "#axes1, axes2 = axes.ravel()\n",
    "#axes1.set_ylim(0, 0.5e6) \n",
    "#axes2.set_ylim(0, 0.5e6) \n",
    "\n",
    "#plt.setp(axes, yticks=[])\n",
    "plt.tight_layout()"
   ]
  },
  {
   "cell_type": "markdown",
   "id": "acd8dd0f",
   "metadata": {},
   "source": [
    "Los valores se encuentran sesgados hacia valores mas altos"
   ]
  },
  {
   "cell_type": "markdown",
   "id": "61eedbe0",
   "metadata": {},
   "source": [
    "#### Amount of each class"
   ]
  },
  {
   "cell_type": "code",
   "execution_count": 160,
   "id": "fc6ec9d8",
   "metadata": {},
   "outputs": [
    {
     "data": {
      "image/png": "[encoded data removed]",
      "text/plain": [
       "<Figure size 576x432 with 1 Axes>"
      ]
     },
     "metadata": {},
     "output_type": "display_data"
    }
   ],
   "source": [
    "plt.figure(figsize=(8, 6))\n",
    "class_count = pd.DataFrame(data_users['class'].value_counts())\n",
    "#sns.set(style=\"darkgrid\")\n",
    "sns.barplot(x=class_count.index, y=class_count['class'],  data=class_count, alpha=0.9)\n",
    "plt.title(\"Frequency Distribution of classes' observations\", fontsize=14)\n",
    "plt.ylabel('Number of Occurrences', fontsize=14)\n",
    "plt.xlabel('Class', fontsize=14)\n",
    "plt.show()"
   ]
  },
  {
   "cell_type": "markdown",
   "id": "c0d8b2e2",
   "metadata": {},
   "source": [
    "La cantidad de observaciones en cada clase se encuentran balanceadas. No existen una considerable diferencia entre ambos"
   ]
  },
  {
   "cell_type": "markdown",
   "id": "37085d1d",
   "metadata": {},
   "source": [
    "### Exploring user's credit reports"
   ]
  },
  {
   "cell_type": "code",
   "execution_count": 173,
   "id": "d47628c0",
   "metadata": {
    "scrolled": true
   },
   "outputs": [
    {
     "data": {
      "text/html": [
       "<div>\n",
       "<style scoped>\n",
       "    .dataframe tbody tr th:only-of-type {\n",
       "        vertical-align: middle;\n",
       "    }\n",
       "\n",
       "    .dataframe tbody tr th {\n",
       "        vertical-align: top;\n",
       "    }\n",
       "\n",
       "    .dataframe thead th {\n",
       "        text-align: right;\n",
       "    }\n",
       "</style>\n",
       "<table border=\"1\" class=\"dataframe\">\n",
       "  <thead>\n",
       "    <tr style=\"text-align: right;\">\n",
       "      <th></th>\n",
       "      <th>user_id</th>\n",
       "      <th>institution</th>\n",
       "      <th>account_type</th>\n",
       "      <th>credit_type</th>\n",
       "      <th>total_credit_payments</th>\n",
       "      <th>payment_frequency</th>\n",
       "      <th>amount_to_pay_next_payment</th>\n",
       "      <th>account_opening_date</th>\n",
       "      <th>account_closing_date</th>\n",
       "      <th>maximum_credit_amount</th>\n",
       "      <th>current_balance</th>\n",
       "      <th>credit_limit</th>\n",
       "      <th>past_due_balance</th>\n",
       "      <th>number_of_payments_due</th>\n",
       "      <th>worst_delinquency</th>\n",
       "      <th>worst_delinquency_date</th>\n",
       "      <th>worst_delinquency_past_due_balance</th>\n",
       "    </tr>\n",
       "  </thead>\n",
       "  <tbody>\n",
       "    <tr>\n",
       "      <th>0</th>\n",
       "      <td>0</td>\n",
       "      <td>MERCANCIA PARA HOGAR Y OFICINA</td>\n",
       "      <td>Pagos Fijos</td>\n",
       "      <td>Línea de Crédito</td>\n",
       "      <td>78.0</td>\n",
       "      <td>Semanal</td>\n",
       "      <td>0.0</td>\n",
       "      <td>2014-11-10</td>\n",
       "      <td>2015-12-05</td>\n",
       "      <td>9826.0</td>\n",
       "      <td>0.0</td>\n",
       "      <td>0.0</td>\n",
       "      <td>0.0</td>\n",
       "      <td>0.0</td>\n",
       "      <td>0.0</td>\n",
       "      <td>NaT</td>\n",
       "      <td>0.0</td>\n",
       "    </tr>\n",
       "    <tr>\n",
       "      <th>1</th>\n",
       "      <td>0</td>\n",
       "      <td>MERCANCIA PARA HOGAR Y OFICINA</td>\n",
       "      <td>Pagos Fijos</td>\n",
       "      <td>Préstamo Personal</td>\n",
       "      <td>80.0</td>\n",
       "      <td>Semanal</td>\n",
       "      <td>0.0</td>\n",
       "      <td>2015-12-05</td>\n",
       "      <td>2016-10-14</td>\n",
       "      <td>16000.0</td>\n",
       "      <td>0.0</td>\n",
       "      <td>0.0</td>\n",
       "      <td>0.0</td>\n",
       "      <td>3.0</td>\n",
       "      <td>1.0</td>\n",
       "      <td>2016-05-28</td>\n",
       "      <td>200.0</td>\n",
       "    </tr>\n",
       "    <tr>\n",
       "      <th>2</th>\n",
       "      <td>0</td>\n",
       "      <td>MERCANCIA PARA HOGAR Y OFICINA</td>\n",
       "      <td>Pagos Fijos</td>\n",
       "      <td>Línea de Crédito</td>\n",
       "      <td>102.0</td>\n",
       "      <td>Semanal</td>\n",
       "      <td>100.0</td>\n",
       "      <td>2016-09-02</td>\n",
       "      <td>NaT</td>\n",
       "      <td>10205.0</td>\n",
       "      <td>3505.0</td>\n",
       "      <td>0.0</td>\n",
       "      <td>0.0</td>\n",
       "      <td>3.0</td>\n",
       "      <td>1.0</td>\n",
       "      <td>2017-03-03</td>\n",
       "      <td>100.0</td>\n",
       "    </tr>\n",
       "    <tr>\n",
       "      <th>3</th>\n",
       "      <td>0</td>\n",
       "      <td>MERCANCIA PARA HOGAR Y OFICINA</td>\n",
       "      <td>Pagos Fijos</td>\n",
       "      <td>Préstamo Personal</td>\n",
       "      <td>120.0</td>\n",
       "      <td>Semanal</td>\n",
       "      <td>191.0</td>\n",
       "      <td>2016-10-14</td>\n",
       "      <td>NaT</td>\n",
       "      <td>22920.0</td>\n",
       "      <td>11269.0</td>\n",
       "      <td>0.0</td>\n",
       "      <td>0.0</td>\n",
       "      <td>3.0</td>\n",
       "      <td>1.0</td>\n",
       "      <td>2017-03-03</td>\n",
       "      <td>191.0</td>\n",
       "    </tr>\n",
       "    <tr>\n",
       "      <th>4</th>\n",
       "      <td>0</td>\n",
       "      <td>KONFIO</td>\n",
       "      <td>Pagos Fijos</td>\n",
       "      <td>Préstamo Personal</td>\n",
       "      <td>12.0</td>\n",
       "      <td>Quincenal</td>\n",
       "      <td>0.0</td>\n",
       "      <td>2016-12-27</td>\n",
       "      <td>2017-06-27</td>\n",
       "      <td>150000.0</td>\n",
       "      <td>0.0</td>\n",
       "      <td>0.0</td>\n",
       "      <td>0.0</td>\n",
       "      <td>0.0</td>\n",
       "      <td>0.0</td>\n",
       "      <td>NaT</td>\n",
       "      <td>0.0</td>\n",
       "    </tr>\n",
       "    <tr>\n",
       "      <th>5</th>\n",
       "      <td>0</td>\n",
       "      <td>KONFIO</td>\n",
       "      <td>Pagos Fijos</td>\n",
       "      <td>Préstamo Personal</td>\n",
       "      <td>26.0</td>\n",
       "      <td>Quincenal</td>\n",
       "      <td>10825.0</td>\n",
       "      <td>2017-06-28</td>\n",
       "      <td>NaT</td>\n",
       "      <td>225000.0</td>\n",
       "      <td>159142.0</td>\n",
       "      <td>0.0</td>\n",
       "      <td>0.0</td>\n",
       "      <td>0.0</td>\n",
       "      <td>0.0</td>\n",
       "      <td>NaT</td>\n",
       "      <td>0.0</td>\n",
       "    </tr>\n",
       "    <tr>\n",
       "      <th>6</th>\n",
       "      <td>0</td>\n",
       "      <td>TELEFONIA CELULAR</td>\n",
       "      <td>Revolvente</td>\n",
       "      <td>Línea de Crédito</td>\n",
       "      <td>1000.0</td>\n",
       "      <td>Mensual</td>\n",
       "      <td>0.0</td>\n",
       "      <td>2016-10-06</td>\n",
       "      <td>2017-09-15</td>\n",
       "      <td>0.0</td>\n",
       "      <td>0.0</td>\n",
       "      <td>999.0</td>\n",
       "      <td>0.0</td>\n",
       "      <td>7.0</td>\n",
       "      <td>4.0</td>\n",
       "      <td>2017-05-31</td>\n",
       "      <td>4342.0</td>\n",
       "    </tr>\n",
       "    <tr>\n",
       "      <th>7</th>\n",
       "      <td>0</td>\n",
       "      <td>MERCANCIA PARA HOGAR Y OFICINA</td>\n",
       "      <td>Sin Límite Preestablecido</td>\n",
       "      <td>Crédito Personal al Consumo</td>\n",
       "      <td>0.0</td>\n",
       "      <td>Semanal</td>\n",
       "      <td>0.0</td>\n",
       "      <td>2014-11-10</td>\n",
       "      <td>NaT</td>\n",
       "      <td>0.0</td>\n",
       "      <td>0.0</td>\n",
       "      <td>0.0</td>\n",
       "      <td>0.0</td>\n",
       "      <td>0.0</td>\n",
       "      <td>0.0</td>\n",
       "      <td>NaT</td>\n",
       "      <td>0.0</td>\n",
       "    </tr>\n",
       "    <tr>\n",
       "      <th>8</th>\n",
       "      <td>0</td>\n",
       "      <td>AUTOMOTRIZ</td>\n",
       "      <td>Pagos Fijos</td>\n",
       "      <td>Compra de Automóvil</td>\n",
       "      <td>72.0</td>\n",
       "      <td>Mensual</td>\n",
       "      <td>5874.0</td>\n",
       "      <td>2017-08-22</td>\n",
       "      <td>NaT</td>\n",
       "      <td>513069.0</td>\n",
       "      <td>475245.0</td>\n",
       "      <td>513069.0</td>\n",
       "      <td>0.0</td>\n",
       "      <td>0.0</td>\n",
       "      <td>0.0</td>\n",
       "      <td>NaT</td>\n",
       "      <td>0.0</td>\n",
       "    </tr>\n",
       "    <tr>\n",
       "      <th>9</th>\n",
       "      <td>0</td>\n",
       "      <td>AUTOMOTRIZ</td>\n",
       "      <td>Pagos Fijos</td>\n",
       "      <td>Compra de Automóvil</td>\n",
       "      <td>24.0</td>\n",
       "      <td>Mensual</td>\n",
       "      <td>10557.0</td>\n",
       "      <td>2017-01-31</td>\n",
       "      <td>NaT</td>\n",
       "      <td>247705.0</td>\n",
       "      <td>124316.0</td>\n",
       "      <td>247705.0</td>\n",
       "      <td>0.0</td>\n",
       "      <td>0.0</td>\n",
       "      <td>0.0</td>\n",
       "      <td>NaT</td>\n",
       "      <td>0.0</td>\n",
       "    </tr>\n",
       "  </tbody>\n",
       "</table>\n",
       "</div>"
      ],
      "text/plain": [
       "   user_id                     institution               account_type  \\\n",
       "0        0  MERCANCIA PARA HOGAR Y OFICINA                Pagos Fijos   \n",
       "1        0  MERCANCIA PARA HOGAR Y OFICINA                Pagos Fijos   \n",
       "2        0  MERCANCIA PARA HOGAR Y OFICINA                Pagos Fijos   \n",
       "3        0  MERCANCIA PARA HOGAR Y OFICINA                Pagos Fijos   \n",
       "4        0                          KONFIO                Pagos Fijos   \n",
       "5        0                          KONFIO                Pagos Fijos   \n",
       "6        0               TELEFONIA CELULAR                 Revolvente   \n",
       "7        0  MERCANCIA PARA HOGAR Y OFICINA  Sin Límite Preestablecido   \n",
       "8        0                      AUTOMOTRIZ                Pagos Fijos   \n",
       "9        0                      AUTOMOTRIZ                Pagos Fijos   \n",
       "\n",
       "                   credit_type  total_credit_payments payment_frequency  \\\n",
       "0             Línea de Crédito                   78.0           Semanal   \n",
       "1           Préstamo Personal                    80.0           Semanal   \n",
       "2             Línea de Crédito                  102.0           Semanal   \n",
       "3           Préstamo Personal                   120.0           Semanal   \n",
       "4           Préstamo Personal                    12.0         Quincenal   \n",
       "5           Préstamo Personal                    26.0         Quincenal   \n",
       "6             Línea de Crédito                 1000.0           Mensual   \n",
       "7  Crédito Personal al Consumo                    0.0           Semanal   \n",
       "8          Compra de Automóvil                   72.0           Mensual   \n",
       "9          Compra de Automóvil                   24.0           Mensual   \n",
       "\n",
       "   amount_to_pay_next_payment account_opening_date account_closing_date  \\\n",
       "0                         0.0           2014-11-10           2015-12-05   \n",
       "1                         0.0           2015-12-05           2016-10-14   \n",
       "2                       100.0           2016-09-02                  NaT   \n",
       "3                       191.0           2016-10-14                  NaT   \n",
       "4                         0.0           2016-12-27           2017-06-27   \n",
       "5                     10825.0           2017-06-28                  NaT   \n",
       "6                         0.0           2016-10-06           2017-09-15   \n",
       "7                         0.0           2014-11-10                  NaT   \n",
       "8                      5874.0           2017-08-22                  NaT   \n",
       "9                     10557.0           2017-01-31                  NaT   \n",
       "\n",
       "   maximum_credit_amount  current_balance  credit_limit  past_due_balance  \\\n",
       "0                 9826.0              0.0           0.0               0.0   \n",
       "1                16000.0              0.0           0.0               0.0   \n",
       "2                10205.0           3505.0           0.0               0.0   \n",
       "3                22920.0          11269.0           0.0               0.0   \n",
       "4               150000.0              0.0           0.0               0.0   \n",
       "5               225000.0         159142.0           0.0               0.0   \n",
       "6                    0.0              0.0         999.0               0.0   \n",
       "7                    0.0              0.0           0.0               0.0   \n",
       "8               513069.0         475245.0      513069.0               0.0   \n",
       "9               247705.0         124316.0      247705.0               0.0   \n",
       "\n",
       "   number_of_payments_due  worst_delinquency worst_delinquency_date  \\\n",
       "0                     0.0                0.0                    NaT   \n",
       "1                     3.0                1.0             2016-05-28   \n",
       "2                     3.0                1.0             2017-03-03   \n",
       "3                     3.0                1.0             2017-03-03   \n",
       "4                     0.0                0.0                    NaT   \n",
       "5                     0.0                0.0                    NaT   \n",
       "6                     7.0                4.0             2017-05-31   \n",
       "7                     0.0                0.0                    NaT   \n",
       "8                     0.0                0.0                    NaT   \n",
       "9                     0.0                0.0                    NaT   \n",
       "\n",
       "   worst_delinquency_past_due_balance  \n",
       "0                                 0.0  \n",
       "1                               200.0  \n",
       "2                               100.0  \n",
       "3                               191.0  \n",
       "4                                 0.0  \n",
       "5                                 0.0  \n",
       "6                              4342.0  \n",
       "7                                 0.0  \n",
       "8                                 0.0  \n",
       "9                                 0.0  "
      ]
     },
     "execution_count": 173,
     "metadata": {},
     "output_type": "execute_result"
    }
   ],
   "source": [
    "data_credit_reports.head(10)"
   ]
  },
  {
   "cell_type": "code",
   "execution_count": 179,
   "id": "7f5565b5",
   "metadata": {
    "scrolled": true
   },
   "outputs": [
    {
     "name": "stdout",
     "output_type": "stream",
     "text": [
      "<class 'pandas.core.frame.DataFrame'>\n",
      "RangeIndex: 16309 entries, 0 to 16308\n",
      "Data columns (total 17 columns):\n",
      " #   Column                              Non-Null Count  Dtype         \n",
      "---  ------                              --------------  -----         \n",
      " 0   user_id                             16309 non-null  int64         \n",
      " 1   institution                         16309 non-null  object        \n",
      " 2   account_type                        16309 non-null  object        \n",
      " 3   credit_type                         16309 non-null  object        \n",
      " 4   total_credit_payments               16268 non-null  float64       \n",
      " 5   payment_frequency                   16308 non-null  object        \n",
      " 6   amount_to_pay_next_payment          16304 non-null  float64       \n",
      " 7   account_opening_date                16309 non-null  datetime64[ns]\n",
      " 8   account_closing_date                9068 non-null   datetime64[ns]\n",
      " 9   maximum_credit_amount               16307 non-null  float64       \n",
      " 10  current_balance                     16304 non-null  float64       \n",
      " 11  credit_limit                        16296 non-null  float64       \n",
      " 12  past_due_balance                    16304 non-null  float64       \n",
      " 13  number_of_payments_due              16297 non-null  float64       \n",
      " 14  worst_delinquency                   16255 non-null  float64       \n",
      " 15  worst_delinquency_date              2884 non-null   datetime64[ns]\n",
      " 16  worst_delinquency_past_due_balance  16297 non-null  float64       \n",
      "dtypes: datetime64[ns](3), float64(9), int64(1), object(4)\n",
      "memory usage: 2.1+ MB\n"
     ]
    }
   ],
   "source": [
    "data_credit_reports.info()"
   ]
  },
  {
   "cell_type": "code",
   "execution_count": 180,
   "id": "25ea550a",
   "metadata": {},
   "outputs": [
    {
     "data": {
      "text/html": [
       "<div>\n",
       "<style scoped>\n",
       "    .dataframe tbody tr th:only-of-type {\n",
       "        vertical-align: middle;\n",
       "    }\n",
       "\n",
       "    .dataframe tbody tr th {\n",
       "        vertical-align: top;\n",
       "    }\n",
       "\n",
       "    .dataframe thead th {\n",
       "        text-align: right;\n",
       "    }\n",
       "</style>\n",
       "<table border=\"1\" class=\"dataframe\">\n",
       "  <thead>\n",
       "    <tr style=\"text-align: right;\">\n",
       "      <th></th>\n",
       "      <th>user_id</th>\n",
       "      <th>total_credit_payments</th>\n",
       "      <th>amount_to_pay_next_payment</th>\n",
       "      <th>maximum_credit_amount</th>\n",
       "      <th>current_balance</th>\n",
       "      <th>credit_limit</th>\n",
       "      <th>past_due_balance</th>\n",
       "      <th>number_of_payments_due</th>\n",
       "      <th>worst_delinquency</th>\n",
       "      <th>worst_delinquency_past_due_balance</th>\n",
       "    </tr>\n",
       "  </thead>\n",
       "  <tbody>\n",
       "    <tr>\n",
       "      <th>count</th>\n",
       "      <td>16309.000000</td>\n",
       "      <td>16268.000000</td>\n",
       "      <td>1.630400e+04</td>\n",
       "      <td>1.630700e+04</td>\n",
       "      <td>1.630400e+04</td>\n",
       "      <td>1.629600e+04</td>\n",
       "      <td>1.630400e+04</td>\n",
       "      <td>16297.000000</td>\n",
       "      <td>16255.000000</td>\n",
       "      <td>1.629700e+04</td>\n",
       "    </tr>\n",
       "    <tr>\n",
       "      <th>mean</th>\n",
       "      <td>474.067631</td>\n",
       "      <td>22.405766</td>\n",
       "      <td>2.779242e+03</td>\n",
       "      <td>3.994739e+04</td>\n",
       "      <td>1.993377e+04</td>\n",
       "      <td>2.398115e+04</td>\n",
       "      <td>3.618910e+03</td>\n",
       "      <td>2.291219</td>\n",
       "      <td>1.541618</td>\n",
       "      <td>1.617189e+03</td>\n",
       "    </tr>\n",
       "    <tr>\n",
       "      <th>std</th>\n",
       "      <td>293.165091</td>\n",
       "      <td>77.413143</td>\n",
       "      <td>2.145046e+04</td>\n",
       "      <td>1.337402e+05</td>\n",
       "      <td>1.067213e+05</td>\n",
       "      <td>9.429967e+04</td>\n",
       "      <td>2.816734e+04</td>\n",
       "      <td>8.250868</td>\n",
       "      <td>6.816558</td>\n",
       "      <td>2.845180e+04</td>\n",
       "    </tr>\n",
       "    <tr>\n",
       "      <th>min</th>\n",
       "      <td>0.000000</td>\n",
       "      <td>0.000000</td>\n",
       "      <td>0.000000e+00</td>\n",
       "      <td>0.000000e+00</td>\n",
       "      <td>0.000000e+00</td>\n",
       "      <td>0.000000e+00</td>\n",
       "      <td>0.000000e+00</td>\n",
       "      <td>0.000000</td>\n",
       "      <td>0.000000</td>\n",
       "      <td>0.000000e+00</td>\n",
       "    </tr>\n",
       "    <tr>\n",
       "      <th>25%</th>\n",
       "      <td>213.000000</td>\n",
       "      <td>0.000000</td>\n",
       "      <td>0.000000e+00</td>\n",
       "      <td>2.000000e+03</td>\n",
       "      <td>0.000000e+00</td>\n",
       "      <td>0.000000e+00</td>\n",
       "      <td>0.000000e+00</td>\n",
       "      <td>0.000000</td>\n",
       "      <td>0.000000</td>\n",
       "      <td>0.000000e+00</td>\n",
       "    </tr>\n",
       "    <tr>\n",
       "      <th>50%</th>\n",
       "      <td>466.000000</td>\n",
       "      <td>1.000000</td>\n",
       "      <td>0.000000e+00</td>\n",
       "      <td>6.899000e+03</td>\n",
       "      <td>0.000000e+00</td>\n",
       "      <td>8.925000e+02</td>\n",
       "      <td>0.000000e+00</td>\n",
       "      <td>0.000000</td>\n",
       "      <td>0.000000</td>\n",
       "      <td>0.000000e+00</td>\n",
       "    </tr>\n",
       "    <tr>\n",
       "      <th>75%</th>\n",
       "      <td>726.000000</td>\n",
       "      <td>16.000000</td>\n",
       "      <td>5.830000e+02</td>\n",
       "      <td>2.634750e+04</td>\n",
       "      <td>3.224250e+03</td>\n",
       "      <td>1.440600e+04</td>\n",
       "      <td>0.000000e+00</td>\n",
       "      <td>0.000000</td>\n",
       "      <td>0.000000</td>\n",
       "      <td>0.000000e+00</td>\n",
       "    </tr>\n",
       "    <tr>\n",
       "      <th>max</th>\n",
       "      <td>999.000000</td>\n",
       "      <td>1800.000000</td>\n",
       "      <td>1.263964e+06</td>\n",
       "      <td>4.883200e+06</td>\n",
       "      <td>4.697583e+06</td>\n",
       "      <td>3.269355e+06</td>\n",
       "      <td>1.915973e+06</td>\n",
       "      <td>96.000000</td>\n",
       "      <td>84.000000</td>\n",
       "      <td>3.234351e+06</td>\n",
       "    </tr>\n",
       "  </tbody>\n",
       "</table>\n",
       "</div>"
      ],
      "text/plain": [
       "            user_id  total_credit_payments  amount_to_pay_next_payment  \\\n",
       "count  16309.000000           16268.000000                1.630400e+04   \n",
       "mean     474.067631              22.405766                2.779242e+03   \n",
       "std      293.165091              77.413143                2.145046e+04   \n",
       "min        0.000000               0.000000                0.000000e+00   \n",
       "25%      213.000000               0.000000                0.000000e+00   \n",
       "50%      466.000000               1.000000                0.000000e+00   \n",
       "75%      726.000000              16.000000                5.830000e+02   \n",
       "max      999.000000            1800.000000                1.263964e+06   \n",
       "\n",
       "       maximum_credit_amount  current_balance  credit_limit  past_due_balance  \\\n",
       "count           1.630700e+04     1.630400e+04  1.629600e+04      1.630400e+04   \n",
       "mean            3.994739e+04     1.993377e+04  2.398115e+04      3.618910e+03   \n",
       "std             1.337402e+05     1.067213e+05  9.429967e+04      2.816734e+04   \n",
       "min             0.000000e+00     0.000000e+00  0.000000e+00      0.000000e+00   \n",
       "25%             2.000000e+03     0.000000e+00  0.000000e+00      0.000000e+00   \n",
       "50%             6.899000e+03     0.000000e+00  8.925000e+02      0.000000e+00   \n",
       "75%             2.634750e+04     3.224250e+03  1.440600e+04      0.000000e+00   \n",
       "max             4.883200e+06     4.697583e+06  3.269355e+06      1.915973e+06   \n",
       "\n",
       "       number_of_payments_due  worst_delinquency  \\\n",
       "count            16297.000000       16255.000000   \n",
       "mean                 2.291219           1.541618   \n",
       "std                  8.250868           6.816558   \n",
       "min                  0.000000           0.000000   \n",
       "25%                  0.000000           0.000000   \n",
       "50%                  0.000000           0.000000   \n",
       "75%                  0.000000           0.000000   \n",
       "max                 96.000000          84.000000   \n",
       "\n",
       "       worst_delinquency_past_due_balance  \n",
       "count                        1.629700e+04  \n",
       "mean                         1.617189e+03  \n",
       "std                          2.845180e+04  \n",
       "min                          0.000000e+00  \n",
       "25%                          0.000000e+00  \n",
       "50%                          0.000000e+00  \n",
       "75%                          0.000000e+00  \n",
       "max                          3.234351e+06  "
      ]
     },
     "execution_count": 180,
     "metadata": {},
     "output_type": "execute_result"
    }
   ],
   "source": [
    "data_credit_reports.describe()"
   ]
  },
  {
   "cell_type": "markdown",
   "id": "987a4365",
   "metadata": {},
   "source": [
    "#### Missing Values"
   ]
  },
  {
   "cell_type": "code",
   "execution_count": 172,
   "id": "696b2708",
   "metadata": {},
   "outputs": [
    {
     "data": {
      "image/png": "[encoded data removed]",
      "text/plain": [
       "<Figure size 864x288 with 1 Axes>"
      ]
     },
     "metadata": {},
     "output_type": "display_data"
    }
   ],
   "source": [
    "plt.figure(figsize=(12, 4))\n",
    "sns.heatmap(data_credit_reports.isnull(),cbar=False,cmap='viridis',yticklabels=False)\n",
    "plt.xticks(rotation=80) \n",
    "plt.title('Missing value in the dataset');"
   ]
  },
  {
   "cell_type": "markdown",
   "id": "7305f75e",
   "metadata": {},
   "source": []
  },
  {
   "cell_type": "code",
   "execution_count": 182,
   "id": "4da4accd",
   "metadata": {},
   "outputs": [
    {
     "data": {
      "text/html": [
       "<div>\n",
       "<style scoped>\n",
       "    .dataframe tbody tr th:only-of-type {\n",
       "        vertical-align: middle;\n",
       "    }\n",
       "\n",
       "    .dataframe tbody tr th {\n",
       "        vertical-align: top;\n",
       "    }\n",
       "\n",
       "    .dataframe thead th {\n",
       "        text-align: right;\n",
       "    }\n",
       "</style>\n",
       "<table border=\"1\" class=\"dataframe\">\n",
       "  <thead>\n",
       "    <tr style=\"text-align: right;\">\n",
       "      <th></th>\n",
       "      <th>institution</th>\n",
       "      <th>account_type</th>\n",
       "      <th>credit_type</th>\n",
       "      <th>payment_frequency</th>\n",
       "    </tr>\n",
       "  </thead>\n",
       "  <tbody>\n",
       "    <tr>\n",
       "      <th>count</th>\n",
       "      <td>16309</td>\n",
       "      <td>16309</td>\n",
       "      <td>16309</td>\n",
       "      <td>16308</td>\n",
       "    </tr>\n",
       "    <tr>\n",
       "      <th>unique</th>\n",
       "      <td>54</td>\n",
       "      <td>8</td>\n",
       "      <td>26</td>\n",
       "      <td>10</td>\n",
       "    </tr>\n",
       "    <tr>\n",
       "      <th>top</th>\n",
       "      <td>BANCO</td>\n",
       "      <td>Pagos Fijos</td>\n",
       "      <td>Préstamo Personal</td>\n",
       "      <td>Mensual</td>\n",
       "    </tr>\n",
       "    <tr>\n",
       "      <th>freq</th>\n",
       "      <td>4285</td>\n",
       "      <td>8083</td>\n",
       "      <td>5717</td>\n",
       "      <td>11191</td>\n",
       "    </tr>\n",
       "  </tbody>\n",
       "</table>\n",
       "</div>"
      ],
      "text/plain": [
       "       institution account_type         credit_type payment_frequency\n",
       "count        16309        16309               16309             16308\n",
       "unique          54            8                  26                10\n",
       "top          BANCO  Pagos Fijos  Préstamo Personal            Mensual\n",
       "freq          4285         8083                5717             11191"
      ]
     },
     "execution_count": 182,
     "metadata": {},
     "output_type": "execute_result"
    }
   ],
   "source": [
    "data_credit_reports.describe(include=['object', 'bool'])"
   ]
  },
  {
   "cell_type": "code",
   "execution_count": 211,
   "id": "2ba9ce11",
   "metadata": {},
   "outputs": [
    {
     "data": {
      "image/png": "[encoded data removed]",
      "text/plain": [
       "<Figure size 576x432 with 1 Axes>"
      ]
     },
     "metadata": {},
     "output_type": "display_data"
    }
   ],
   "source": [
    "plt.figure(figsize=(8, 6))\n",
    "institution_count = pd.DataFrame(data_credit_reports['institution'].value_counts())\n",
    "institution_count = institution_count.reset_index()\n",
    "#sns.set(style=\"darkgrid\")\n",
    "\n",
    "sns.barplot(x=institution_count['index'], y='institution',  data=institution_count, alpha=0.9)\n",
    "plt.title(\"Frequency Distribution of classes' observations\", fontsize=14)\n",
    "plt.ylabel('Number of Occurrences', fontsize=14)\n",
    "plt.xlabel('Class', fontsize=14)\n",
    "plt.show()"
   ]
  },
  {
   "cell_type": "code",
   "execution_count": 187,
   "id": "31116ed4",
   "metadata": {},
   "outputs": [
    {
     "data": {
      "text/plain": [
       "<AxesSubplot:xlabel='institution', ylabel='count'>"
      ]
     },
     "execution_count": 187,
     "metadata": {},
     "output_type": "execute_result"
    },
    {
     "data": {
      "image/png": "[encoded data removed]",
      "text/plain": [
       "<Figure size 576x432 with 1 Axes>"
      ]
     },
     "metadata": {},
     "output_type": "display_data"
    }
   ],
   "source": [
    "#sns.catplot(x=\"institution\", kind=\"bar\", data=data_credit_reports)\n",
    "plt.figure(figsize=(8, 6))\n",
    "sns.countplot(x=\"institution\", data=data_credit_reports)"
   ]
  },
  {
   "cell_type": "markdown",
   "id": "ea981c83",
   "metadata": {},
   "source": [
    "## Data Preparation"
   ]
  },
  {
   "cell_type": "code",
   "execution_count": null,
   "id": "3acbff0e",
   "metadata": {},
   "outputs": [],
   "source": []
  },
  {
   "cell_type": "markdown",
   "id": "ba2b8c14",
   "metadata": {},
   "source": [
    "## Modeling"
   ]
  },
  {
   "cell_type": "code",
   "execution_count": null,
   "id": "082fd534",
   "metadata": {},
   "outputs": [],
   "source": []
  },
  {
   "cell_type": "markdown",
   "id": "e767bce0",
   "metadata": {},
   "source": [
    "## Evaluation"
   ]
  },
  {
   "cell_type": "code",
   "execution_count": null,
   "id": "65928d3f",
   "metadata": {},
   "outputs": [],
   "source": []
  },
  {
   "cell_type": "markdown",
   "id": "625dcdc9",
   "metadata": {},
   "source": [
    "## Deployment"
   ]
  },
  {
   "cell_type": "code",
   "execution_count": null,
   "id": "afe068d9",
   "metadata": {},
   "outputs": [],
   "source": []
  }
 ],
 "metadata": {
  "kernelspec": {
   "display_name": "Python 3",
   "language": "python",
   "name": "python3"
  },
  "language_info": {
   "codemirror_mode": {
    "name": "ipython",
    "version": 3
   },
   "file_extension": ".py",
   "mimetype": "text/x-python",
   "name": "python",
   "nbconvert_exporter": "python",
   "pygments_lexer": "ipython3",
   "version": "3.8.8"
  }
 },
 "nbformat": 4,
 "nbformat_minor": 5
}
