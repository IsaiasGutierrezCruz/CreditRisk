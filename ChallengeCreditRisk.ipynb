{
 "cells": [
  {
   "cell_type": "markdown",
   "id": "89c6b2a2",
   "metadata": {},
   "source": [
    "# Challenge Credit Risk"
   ]
  },
  {
   "cell_type": "markdown",
   "id": "6327e1ac",
   "metadata": {},
   "source": [
    "**Packages**"
   ]
  },
  {
   "cell_type": "code",
   "execution_count": 2,
   "id": "475370b3",
   "metadata": {},
   "outputs": [],
   "source": [
    "import numpy as np\n",
    "import pandas as pd \n",
    "import matplotlib.pyplot as plt\n",
    "%matplotlib inline\n",
    "import seaborn as sns\n",
    "\n",
    "#from datetime import date, datetime"
   ]
  },
  {
   "cell_type": "code",
   "execution_count": 3,
   "id": "99ea017b",
   "metadata": {},
   "outputs": [],
   "source": [
    "#plt.rcParams['figure.figsize'] = [8,5]\n",
    "#plt.rcParams['font.size'] =14\n",
    "#plt.rcParams['font.weight']= 'bold'\n",
    "#plt.style.use('seaborn-whitegrid')"
   ]
  },
  {
   "cell_type": "markdown",
   "id": "f843eebb",
   "metadata": {},
   "source": [
    "## Business Undestanding"
   ]
  },
  {
   "cell_type": "markdown",
   "id": "627a1202",
   "metadata": {},
   "source": [
    "### Questions to answer \n",
    "\n",
    "- Pick the best clients you will give a loan to, based on the model you created. It\n",
    "could be as complex as you decide (even as simpler as knock out rules), as long as\n",
    "the metrics support it\n",
    "- Propose an amount to be lended to those clients and a term in which the loan will\n",
    "need to be paid back.\n",
    "- Finally choose an anual interest rate the lended amount must have in order to be\n",
    "profitable."
   ]
  },
  {
   "cell_type": "markdown",
   "id": "5e5f8e76",
   "metadata": {},
   "source": [
    "## Data Understanding"
   ]
  },
  {
   "cell_type": "markdown",
   "id": "38f7f7b0",
   "metadata": {},
   "source": [
    "Read datasets"
   ]
  },
  {
   "cell_type": "code",
   "execution_count": 4,
   "id": "5fd9072f",
   "metadata": {},
   "outputs": [],
   "source": [
    "from pathlib import Path\n",
    "root_dir = Path().resolve()"
   ]
  },
  {
   "cell_type": "code",
   "execution_count": 5,
   "id": "e7bf1146",
   "metadata": {},
   "outputs": [],
   "source": [
    "data_users = pd.read_csv('data/users.csv')\n",
    "data_credit_reports = pd.read_csv('data/credit_reports.csv', parse_dates=['account_opening_date', 'account_closing_date'])"
   ]
  },
  {
   "cell_type": "markdown",
   "id": "f06906fc",
   "metadata": {},
   "source": [
    "### Solving the date's format\n",
    "The dataset `data_credit_reports` has '0000-00-00' values in the column `worst_delinquency_date`, probably due to an error in the date's conversion during the data preparation."
   ]
  },
  {
   "cell_type": "code",
   "execution_count": 6,
   "id": "beceb2a5",
   "metadata": {},
   "outputs": [
    {
     "data": {
      "text/plain": [
       "16       0000-00-00\n",
       "22       0000-00-00\n",
       "23       0000-00-00\n",
       "354      0000-00-00\n",
       "355      0000-00-00\n",
       "            ...    \n",
       "15642    0000-00-00\n",
       "15884    0000-00-00\n",
       "15885    0000-00-00\n",
       "15898    0000-00-00\n",
       "15899    0000-00-00\n",
       "Name: worst_delinquency_date, Length: 428, dtype: object"
      ]
     },
     "execution_count": 6,
     "metadata": {},
     "output_type": "execute_result"
    }
   ],
   "source": [
    "data_credit_reports['worst_delinquency_date'].loc[data_credit_reports['worst_delinquency_date'].str.match('.*\\/.*\\/.*') == False]"
   ]
  },
  {
   "cell_type": "code",
   "execution_count": 7,
   "id": "db0a12bb",
   "metadata": {},
   "outputs": [],
   "source": [
    "data_credit_reports['worst_delinquency_date'].replace({\"0000-00-00\": np.NaN}, inplace=True)\n",
    "data_credit_reports['worst_delinquency_date'] = pd.to_datetime(data_credit_reports['worst_delinquency_date'], \n",
    "                                                              format='%m/%d/%y')"
   ]
  },
  {
   "cell_type": "markdown",
   "id": "057a893b",
   "metadata": {},
   "source": [
    "### Exploring user's Income and outcome "
   ]
  },
  {
   "cell_type": "code",
   "execution_count": 8,
   "id": "201ba0a8",
   "metadata": {
    "scrolled": true
   },
   "outputs": [
    {
     "data": {
      "text/html": [
       "<div>\n",
       "<style scoped>\n",
       "    .dataframe tbody tr th:only-of-type {\n",
       "        vertical-align: middle;\n",
       "    }\n",
       "\n",
       "    .dataframe tbody tr th {\n",
       "        vertical-align: top;\n",
       "    }\n",
       "\n",
       "    .dataframe thead th {\n",
       "        text-align: right;\n",
       "    }\n",
       "</style>\n",
       "<table border=\"1\" class=\"dataframe\">\n",
       "  <thead>\n",
       "    <tr style=\"text-align: right;\">\n",
       "      <th></th>\n",
       "      <th>id</th>\n",
       "      <th>monthly_income</th>\n",
       "      <th>monthly_outcome</th>\n",
       "      <th>class</th>\n",
       "    </tr>\n",
       "  </thead>\n",
       "  <tbody>\n",
       "    <tr>\n",
       "      <th>0</th>\n",
       "      <td>0</td>\n",
       "      <td>255359</td>\n",
       "      <td>151439</td>\n",
       "      <td>1</td>\n",
       "    </tr>\n",
       "    <tr>\n",
       "      <th>1</th>\n",
       "      <td>1</td>\n",
       "      <td>8940</td>\n",
       "      <td>789</td>\n",
       "      <td>0</td>\n",
       "    </tr>\n",
       "    <tr>\n",
       "      <th>2</th>\n",
       "      <td>2</td>\n",
       "      <td>11436</td>\n",
       "      <td>3316</td>\n",
       "      <td>0</td>\n",
       "    </tr>\n",
       "    <tr>\n",
       "      <th>3</th>\n",
       "      <td>3</td>\n",
       "      <td>17143</td>\n",
       "      <td>47547</td>\n",
       "      <td>1</td>\n",
       "    </tr>\n",
       "    <tr>\n",
       "      <th>4</th>\n",
       "      <td>4</td>\n",
       "      <td>26990</td>\n",
       "      <td>15585</td>\n",
       "      <td>1</td>\n",
       "    </tr>\n",
       "    <tr>\n",
       "      <th>5</th>\n",
       "      <td>5</td>\n",
       "      <td>166</td>\n",
       "      <td>5240</td>\n",
       "      <td>0</td>\n",
       "    </tr>\n",
       "    <tr>\n",
       "      <th>6</th>\n",
       "      <td>6</td>\n",
       "      <td>111662</td>\n",
       "      <td>108374</td>\n",
       "      <td>1</td>\n",
       "    </tr>\n",
       "    <tr>\n",
       "      <th>7</th>\n",
       "      <td>7</td>\n",
       "      <td>6271</td>\n",
       "      <td>44469</td>\n",
       "      <td>1</td>\n",
       "    </tr>\n",
       "    <tr>\n",
       "      <th>8</th>\n",
       "      <td>8</td>\n",
       "      <td>31695</td>\n",
       "      <td>3021</td>\n",
       "      <td>0</td>\n",
       "    </tr>\n",
       "    <tr>\n",
       "      <th>9</th>\n",
       "      <td>9</td>\n",
       "      <td>2401260</td>\n",
       "      <td>6496313</td>\n",
       "      <td>0</td>\n",
       "    </tr>\n",
       "  </tbody>\n",
       "</table>\n",
       "</div>"
      ],
      "text/plain": [
       "   id  monthly_income  monthly_outcome  class\n",
       "0   0          255359           151439      1\n",
       "1   1            8940              789      0\n",
       "2   2           11436             3316      0\n",
       "3   3           17143            47547      1\n",
       "4   4           26990            15585      1\n",
       "5   5             166             5240      0\n",
       "6   6          111662           108374      1\n",
       "7   7            6271            44469      1\n",
       "8   8           31695             3021      0\n",
       "9   9         2401260          6496313      0"
      ]
     },
     "execution_count": 8,
     "metadata": {},
     "output_type": "execute_result"
    }
   ],
   "source": [
    "data_users.head(10)"
   ]
  },
  {
   "cell_type": "code",
   "execution_count": 9,
   "id": "76142127",
   "metadata": {},
   "outputs": [
    {
     "name": "stdout",
     "output_type": "stream",
     "text": [
      "<class 'pandas.core.frame.DataFrame'>\n",
      "RangeIndex: 1000 entries, 0 to 999\n",
      "Data columns (total 4 columns):\n",
      " #   Column           Non-Null Count  Dtype\n",
      "---  ------           --------------  -----\n",
      " 0   id               1000 non-null   int64\n",
      " 1   monthly_income   1000 non-null   int64\n",
      " 2   monthly_outcome  1000 non-null   int64\n",
      " 3   class            1000 non-null   int64\n",
      "dtypes: int64(4)\n",
      "memory usage: 31.4 KB\n"
     ]
    }
   ],
   "source": [
    "data_users.info()"
   ]
  },
  {
   "cell_type": "markdown",
   "id": "1250752d",
   "metadata": {},
   "source": [
    "#### Distribution of user's Income and outcome "
   ]
  },
  {
   "cell_type": "code",
   "execution_count": 10,
   "id": "c74e20f6",
   "metadata": {},
   "outputs": [
    {
     "data": {
      "text/html": [
       "<div>\n",
       "<style scoped>\n",
       "    .dataframe tbody tr th:only-of-type {\n",
       "        vertical-align: middle;\n",
       "    }\n",
       "\n",
       "    .dataframe tbody tr th {\n",
       "        vertical-align: top;\n",
       "    }\n",
       "\n",
       "    .dataframe thead th {\n",
       "        text-align: right;\n",
       "    }\n",
       "</style>\n",
       "<table border=\"1\" class=\"dataframe\">\n",
       "  <thead>\n",
       "    <tr style=\"text-align: right;\">\n",
       "      <th></th>\n",
       "      <th>id</th>\n",
       "      <th>monthly_income</th>\n",
       "      <th>monthly_outcome</th>\n",
       "      <th>class</th>\n",
       "    </tr>\n",
       "  </thead>\n",
       "  <tbody>\n",
       "    <tr>\n",
       "      <th>count</th>\n",
       "      <td>1000.000000</td>\n",
       "      <td>1.000000e+03</td>\n",
       "      <td>1.000000e+03</td>\n",
       "      <td>1000.000000</td>\n",
       "    </tr>\n",
       "    <tr>\n",
       "      <th>mean</th>\n",
       "      <td>499.500000</td>\n",
       "      <td>1.216138e+05</td>\n",
       "      <td>1.249657e+05</td>\n",
       "      <td>0.535000</td>\n",
       "    </tr>\n",
       "    <tr>\n",
       "      <th>std</th>\n",
       "      <td>288.819436</td>\n",
       "      <td>4.709416e+05</td>\n",
       "      <td>5.796281e+05</td>\n",
       "      <td>0.499023</td>\n",
       "    </tr>\n",
       "    <tr>\n",
       "      <th>min</th>\n",
       "      <td>0.000000</td>\n",
       "      <td>1.000000e+00</td>\n",
       "      <td>1.000000e+00</td>\n",
       "      <td>0.000000</td>\n",
       "    </tr>\n",
       "    <tr>\n",
       "      <th>25%</th>\n",
       "      <td>249.750000</td>\n",
       "      <td>2.691250e+03</td>\n",
       "      <td>3.397750e+03</td>\n",
       "      <td>0.000000</td>\n",
       "    </tr>\n",
       "    <tr>\n",
       "      <th>50%</th>\n",
       "      <td>499.500000</td>\n",
       "      <td>1.253350e+04</td>\n",
       "      <td>1.424250e+04</td>\n",
       "      <td>1.000000</td>\n",
       "    </tr>\n",
       "    <tr>\n",
       "      <th>75%</th>\n",
       "      <td>749.250000</td>\n",
       "      <td>5.868600e+04</td>\n",
       "      <td>5.722850e+04</td>\n",
       "      <td>1.000000</td>\n",
       "    </tr>\n",
       "    <tr>\n",
       "      <th>max</th>\n",
       "      <td>999.000000</td>\n",
       "      <td>9.344842e+06</td>\n",
       "      <td>9.749651e+06</td>\n",
       "      <td>1.000000</td>\n",
       "    </tr>\n",
       "  </tbody>\n",
       "</table>\n",
       "</div>"
      ],
      "text/plain": [
       "                id  monthly_income  monthly_outcome        class\n",
       "count  1000.000000    1.000000e+03     1.000000e+03  1000.000000\n",
       "mean    499.500000    1.216138e+05     1.249657e+05     0.535000\n",
       "std     288.819436    4.709416e+05     5.796281e+05     0.499023\n",
       "min       0.000000    1.000000e+00     1.000000e+00     0.000000\n",
       "25%     249.750000    2.691250e+03     3.397750e+03     0.000000\n",
       "50%     499.500000    1.253350e+04     1.424250e+04     1.000000\n",
       "75%     749.250000    5.868600e+04     5.722850e+04     1.000000\n",
       "max     999.000000    9.344842e+06     9.749651e+06     1.000000"
      ]
     },
     "execution_count": 10,
     "metadata": {},
     "output_type": "execute_result"
    }
   ],
   "source": [
    "data_users.describe()"
   ]
  },
  {
   "cell_type": "code",
   "execution_count": 11,
   "id": "4537fc2f",
   "metadata": {},
   "outputs": [
    {
     "data": {
      "image/png": "[encoded data removed]",
      "text/plain": [
       "<Figure size 864x504 with 2 Axes>"
      ]
     },
     "metadata": {
      "needs_background": "light"
     },
     "output_type": "display_data"
    }
   ],
   "source": [
    "# Set up the matplotlib figure\n",
    "sns.set_palette(\"tab10\")\n",
    "fig, axes = plt.subplots(1, 2, figsize=(12, 7), sharex=True)\n",
    "fig.suptitle(\"Monthly Income and outcome for each user's class\")\n",
    "\n",
    "#plt.figure(figsize=(8, 6))\n",
    "sns.violinplot(x='class', y='monthly_income', data=data_users, showfliers=True, ax=axes[0])\n",
    "#plt.show()\n",
    "\n",
    "#plt.figure(figsize=(8, 6))\n",
    "sns.violinplot(x='class', y='monthly_outcome', data=data_users, showfliers=True, ax=axes[1])\n",
    "#plt.show()\n",
    "\n",
    "#axes1, axes2 = axes.ravel()\n",
    "#axes1.set_ylim(0, 0.5e6) \n",
    "#axes2.set_ylim(0, 0.5e6) \n",
    "\n",
    "#plt.setp(axes, yticks=[])\n",
    "#plt.tight_layout()\n",
    "sns.set_style(\"darkgrid\")\n",
    "fig.savefig(\"plots/01_datauser_skewed.png\")"
   ]
  },
  {
   "cell_type": "markdown",
   "id": "e5cf1aeb",
   "metadata": {},
   "source": [
    "If we calculate the Fisher-Pearson standardized moment coefficient, we can see that all the variables are skewed"
   ]
  },
  {
   "cell_type": "code",
   "execution_count": 12,
   "id": "3dc685d6",
   "metadata": {},
   "outputs": [
    {
     "data": {
      "text/plain": [
       "monthly_outcome    10.895201\n",
       "monthly_income     10.634858\n",
       "dtype: float64"
      ]
     },
     "execution_count": 12,
     "metadata": {},
     "output_type": "execute_result"
    }
   ],
   "source": [
    "data_users[['monthly_income', 'monthly_outcome']].skew().sort_values(ascending=False)"
   ]
  },
  {
   "cell_type": "markdown",
   "id": "5cb3ac7e",
   "metadata": {},
   "source": [
    "The distribution of the `monthly_income` and `monthly_outcome` variable are skewed to high values. There are some outliers."
   ]
  },
  {
   "cell_type": "markdown",
   "id": "0f92fb36",
   "metadata": {},
   "source": [
    "#### Amount of each class"
   ]
  },
  {
   "cell_type": "code",
   "execution_count": 13,
   "id": "af9d4443",
   "metadata": {},
   "outputs": [
    {
     "data": {
      "image/png": "[encoded data removed]",
      "text/plain": [
       "<Figure size 576x432 with 1 Axes>"
      ]
     },
     "metadata": {},
     "output_type": "display_data"
    }
   ],
   "source": [
    "plt.figure(figsize=(8, 6))\n",
    "class_count = pd.DataFrame(data_users['class'].value_counts())\n",
    "#sns.set(style=\"darkgrid\")\n",
    "p1 = sns.barplot(x=class_count.index, y=class_count['class'],  data=class_count, alpha=0.9)\n",
    "plt.title(\"Frequency Distribution of classes' observations\", fontsize=14)\n",
    "plt.ylabel('Number of Occurrences', fontsize=14)\n",
    "plt.xlabel('Class', fontsize=14)\n",
    "sns.set_style(\"darkgrid\")\n",
    "\n",
    "fig = p1.get_figure()\n",
    "fig.savefig(\"plots/02_datauser_frequency_classes.png\")\n",
    "#plt.show()"
   ]
  },
  {
   "cell_type": "markdown",
   "id": "9152e20d",
   "metadata": {},
   "source": [
    "The number of observation in each class are balanced. There isn't an important difference between both classes. "
   ]
  },
  {
   "cell_type": "markdown",
   "id": "9a637906",
   "metadata": {},
   "source": [
    "### Exploring user's credit reports"
   ]
  },
  {
   "cell_type": "code",
   "execution_count": 14,
   "id": "d47628c0",
   "metadata": {
    "scrolled": true
   },
   "outputs": [
    {
     "data": {
      "text/html": [
       "<div>\n",
       "<style scoped>\n",
       "    .dataframe tbody tr th:only-of-type {\n",
       "        vertical-align: middle;\n",
       "    }\n",
       "\n",
       "    .dataframe tbody tr th {\n",
       "        vertical-align: top;\n",
       "    }\n",
       "\n",
       "    .dataframe thead th {\n",
       "        text-align: right;\n",
       "    }\n",
       "</style>\n",
       "<table border=\"1\" class=\"dataframe\">\n",
       "  <thead>\n",
       "    <tr style=\"text-align: right;\">\n",
       "      <th></th>\n",
       "      <th>user_id</th>\n",
       "      <th>institution</th>\n",
       "      <th>account_type</th>\n",
       "      <th>credit_type</th>\n",
       "      <th>total_credit_payments</th>\n",
       "      <th>payment_frequency</th>\n",
       "      <th>amount_to_pay_next_payment</th>\n",
       "      <th>account_opening_date</th>\n",
       "      <th>account_closing_date</th>\n",
       "      <th>maximum_credit_amount</th>\n",
       "      <th>current_balance</th>\n",
       "      <th>credit_limit</th>\n",
       "      <th>past_due_balance</th>\n",
       "      <th>number_of_payments_due</th>\n",
       "      <th>worst_delinquency</th>\n",
       "      <th>worst_delinquency_date</th>\n",
       "      <th>worst_delinquency_past_due_balance</th>\n",
       "    </tr>\n",
       "  </thead>\n",
       "  <tbody>\n",
       "    <tr>\n",
       "      <th>0</th>\n",
       "      <td>0</td>\n",
       "      <td>MERCANCIA PARA HOGAR Y OFICINA</td>\n",
       "      <td>Pagos Fijos</td>\n",
       "      <td>Línea de Crédito</td>\n",
       "      <td>78.0</td>\n",
       "      <td>Semanal</td>\n",
       "      <td>0.0</td>\n",
       "      <td>2014-11-10</td>\n",
       "      <td>2015-12-05</td>\n",
       "      <td>9826.0</td>\n",
       "      <td>0.0</td>\n",
       "      <td>0.0</td>\n",
       "      <td>0.0</td>\n",
       "      <td>0.0</td>\n",
       "      <td>0.0</td>\n",
       "      <td>NaT</td>\n",
       "      <td>0.0</td>\n",
       "    </tr>\n",
       "    <tr>\n",
       "      <th>1</th>\n",
       "      <td>0</td>\n",
       "      <td>MERCANCIA PARA HOGAR Y OFICINA</td>\n",
       "      <td>Pagos Fijos</td>\n",
       "      <td>Préstamo Personal</td>\n",
       "      <td>80.0</td>\n",
       "      <td>Semanal</td>\n",
       "      <td>0.0</td>\n",
       "      <td>2015-12-05</td>\n",
       "      <td>2016-10-14</td>\n",
       "      <td>16000.0</td>\n",
       "      <td>0.0</td>\n",
       "      <td>0.0</td>\n",
       "      <td>0.0</td>\n",
       "      <td>3.0</td>\n",
       "      <td>1.0</td>\n",
       "      <td>2016-05-28</td>\n",
       "      <td>200.0</td>\n",
       "    </tr>\n",
       "    <tr>\n",
       "      <th>2</th>\n",
       "      <td>0</td>\n",
       "      <td>MERCANCIA PARA HOGAR Y OFICINA</td>\n",
       "      <td>Pagos Fijos</td>\n",
       "      <td>Línea de Crédito</td>\n",
       "      <td>102.0</td>\n",
       "      <td>Semanal</td>\n",
       "      <td>100.0</td>\n",
       "      <td>2016-09-02</td>\n",
       "      <td>NaT</td>\n",
       "      <td>10205.0</td>\n",
       "      <td>3505.0</td>\n",
       "      <td>0.0</td>\n",
       "      <td>0.0</td>\n",
       "      <td>3.0</td>\n",
       "      <td>1.0</td>\n",
       "      <td>2017-03-03</td>\n",
       "      <td>100.0</td>\n",
       "    </tr>\n",
       "    <tr>\n",
       "      <th>3</th>\n",
       "      <td>0</td>\n",
       "      <td>MERCANCIA PARA HOGAR Y OFICINA</td>\n",
       "      <td>Pagos Fijos</td>\n",
       "      <td>Préstamo Personal</td>\n",
       "      <td>120.0</td>\n",
       "      <td>Semanal</td>\n",
       "      <td>191.0</td>\n",
       "      <td>2016-10-14</td>\n",
       "      <td>NaT</td>\n",
       "      <td>22920.0</td>\n",
       "      <td>11269.0</td>\n",
       "      <td>0.0</td>\n",
       "      <td>0.0</td>\n",
       "      <td>3.0</td>\n",
       "      <td>1.0</td>\n",
       "      <td>2017-03-03</td>\n",
       "      <td>191.0</td>\n",
       "    </tr>\n",
       "    <tr>\n",
       "      <th>4</th>\n",
       "      <td>0</td>\n",
       "      <td>KONFIO</td>\n",
       "      <td>Pagos Fijos</td>\n",
       "      <td>Préstamo Personal</td>\n",
       "      <td>12.0</td>\n",
       "      <td>Quincenal</td>\n",
       "      <td>0.0</td>\n",
       "      <td>2016-12-27</td>\n",
       "      <td>2017-06-27</td>\n",
       "      <td>150000.0</td>\n",
       "      <td>0.0</td>\n",
       "      <td>0.0</td>\n",
       "      <td>0.0</td>\n",
       "      <td>0.0</td>\n",
       "      <td>0.0</td>\n",
       "      <td>NaT</td>\n",
       "      <td>0.0</td>\n",
       "    </tr>\n",
       "    <tr>\n",
       "      <th>5</th>\n",
       "      <td>0</td>\n",
       "      <td>KONFIO</td>\n",
       "      <td>Pagos Fijos</td>\n",
       "      <td>Préstamo Personal</td>\n",
       "      <td>26.0</td>\n",
       "      <td>Quincenal</td>\n",
       "      <td>10825.0</td>\n",
       "      <td>2017-06-28</td>\n",
       "      <td>NaT</td>\n",
       "      <td>225000.0</td>\n",
       "      <td>159142.0</td>\n",
       "      <td>0.0</td>\n",
       "      <td>0.0</td>\n",
       "      <td>0.0</td>\n",
       "      <td>0.0</td>\n",
       "      <td>NaT</td>\n",
       "      <td>0.0</td>\n",
       "    </tr>\n",
       "    <tr>\n",
       "      <th>6</th>\n",
       "      <td>0</td>\n",
       "      <td>TELEFONIA CELULAR</td>\n",
       "      <td>Revolvente</td>\n",
       "      <td>Línea de Crédito</td>\n",
       "      <td>1000.0</td>\n",
       "      <td>Mensual</td>\n",
       "      <td>0.0</td>\n",
       "      <td>2016-10-06</td>\n",
       "      <td>2017-09-15</td>\n",
       "      <td>0.0</td>\n",
       "      <td>0.0</td>\n",
       "      <td>999.0</td>\n",
       "      <td>0.0</td>\n",
       "      <td>7.0</td>\n",
       "      <td>4.0</td>\n",
       "      <td>2017-05-31</td>\n",
       "      <td>4342.0</td>\n",
       "    </tr>\n",
       "    <tr>\n",
       "      <th>7</th>\n",
       "      <td>0</td>\n",
       "      <td>MERCANCIA PARA HOGAR Y OFICINA</td>\n",
       "      <td>Sin Límite Preestablecido</td>\n",
       "      <td>Crédito Personal al Consumo</td>\n",
       "      <td>0.0</td>\n",
       "      <td>Semanal</td>\n",
       "      <td>0.0</td>\n",
       "      <td>2014-11-10</td>\n",
       "      <td>NaT</td>\n",
       "      <td>0.0</td>\n",
       "      <td>0.0</td>\n",
       "      <td>0.0</td>\n",
       "      <td>0.0</td>\n",
       "      <td>0.0</td>\n",
       "      <td>0.0</td>\n",
       "      <td>NaT</td>\n",
       "      <td>0.0</td>\n",
       "    </tr>\n",
       "    <tr>\n",
       "      <th>8</th>\n",
       "      <td>0</td>\n",
       "      <td>AUTOMOTRIZ</td>\n",
       "      <td>Pagos Fijos</td>\n",
       "      <td>Compra de Automóvil</td>\n",
       "      <td>72.0</td>\n",
       "      <td>Mensual</td>\n",
       "      <td>5874.0</td>\n",
       "      <td>2017-08-22</td>\n",
       "      <td>NaT</td>\n",
       "      <td>513069.0</td>\n",
       "      <td>475245.0</td>\n",
       "      <td>513069.0</td>\n",
       "      <td>0.0</td>\n",
       "      <td>0.0</td>\n",
       "      <td>0.0</td>\n",
       "      <td>NaT</td>\n",
       "      <td>0.0</td>\n",
       "    </tr>\n",
       "    <tr>\n",
       "      <th>9</th>\n",
       "      <td>0</td>\n",
       "      <td>AUTOMOTRIZ</td>\n",
       "      <td>Pagos Fijos</td>\n",
       "      <td>Compra de Automóvil</td>\n",
       "      <td>24.0</td>\n",
       "      <td>Mensual</td>\n",
       "      <td>10557.0</td>\n",
       "      <td>2017-01-31</td>\n",
       "      <td>NaT</td>\n",
       "      <td>247705.0</td>\n",
       "      <td>124316.0</td>\n",
       "      <td>247705.0</td>\n",
       "      <td>0.0</td>\n",
       "      <td>0.0</td>\n",
       "      <td>0.0</td>\n",
       "      <td>NaT</td>\n",
       "      <td>0.0</td>\n",
       "    </tr>\n",
       "  </tbody>\n",
       "</table>\n",
       "</div>"
      ],
      "text/plain": [
       "   user_id                     institution               account_type  \\\n",
       "0        0  MERCANCIA PARA HOGAR Y OFICINA                Pagos Fijos   \n",
       "1        0  MERCANCIA PARA HOGAR Y OFICINA                Pagos Fijos   \n",
       "2        0  MERCANCIA PARA HOGAR Y OFICINA                Pagos Fijos   \n",
       "3        0  MERCANCIA PARA HOGAR Y OFICINA                Pagos Fijos   \n",
       "4        0                          KONFIO                Pagos Fijos   \n",
       "5        0                          KONFIO                Pagos Fijos   \n",
       "6        0               TELEFONIA CELULAR                 Revolvente   \n",
       "7        0  MERCANCIA PARA HOGAR Y OFICINA  Sin Límite Preestablecido   \n",
       "8        0                      AUTOMOTRIZ                Pagos Fijos   \n",
       "9        0                      AUTOMOTRIZ                Pagos Fijos   \n",
       "\n",
       "                   credit_type  total_credit_payments payment_frequency  \\\n",
       "0             Línea de Crédito                   78.0           Semanal   \n",
       "1           Préstamo Personal                    80.0           Semanal   \n",
       "2             Línea de Crédito                  102.0           Semanal   \n",
       "3           Préstamo Personal                   120.0           Semanal   \n",
       "4           Préstamo Personal                    12.0         Quincenal   \n",
       "5           Préstamo Personal                    26.0         Quincenal   \n",
       "6             Línea de Crédito                 1000.0           Mensual   \n",
       "7  Crédito Personal al Consumo                    0.0           Semanal   \n",
       "8          Compra de Automóvil                   72.0           Mensual   \n",
       "9          Compra de Automóvil                   24.0           Mensual   \n",
       "\n",
       "   amount_to_pay_next_payment account_opening_date account_closing_date  \\\n",
       "0                         0.0           2014-11-10           2015-12-05   \n",
       "1                         0.0           2015-12-05           2016-10-14   \n",
       "2                       100.0           2016-09-02                  NaT   \n",
       "3                       191.0           2016-10-14                  NaT   \n",
       "4                         0.0           2016-12-27           2017-06-27   \n",
       "5                     10825.0           2017-06-28                  NaT   \n",
       "6                         0.0           2016-10-06           2017-09-15   \n",
       "7                         0.0           2014-11-10                  NaT   \n",
       "8                      5874.0           2017-08-22                  NaT   \n",
       "9                     10557.0           2017-01-31                  NaT   \n",
       "\n",
       "   maximum_credit_amount  current_balance  credit_limit  past_due_balance  \\\n",
       "0                 9826.0              0.0           0.0               0.0   \n",
       "1                16000.0              0.0           0.0               0.0   \n",
       "2                10205.0           3505.0           0.0               0.0   \n",
       "3                22920.0          11269.0           0.0               0.0   \n",
       "4               150000.0              0.0           0.0               0.0   \n",
       "5               225000.0         159142.0           0.0               0.0   \n",
       "6                    0.0              0.0         999.0               0.0   \n",
       "7                    0.0              0.0           0.0               0.0   \n",
       "8               513069.0         475245.0      513069.0               0.0   \n",
       "9               247705.0         124316.0      247705.0               0.0   \n",
       "\n",
       "   number_of_payments_due  worst_delinquency worst_delinquency_date  \\\n",
       "0                     0.0                0.0                    NaT   \n",
       "1                     3.0                1.0             2016-05-28   \n",
       "2                     3.0                1.0             2017-03-03   \n",
       "3                     3.0                1.0             2017-03-03   \n",
       "4                     0.0                0.0                    NaT   \n",
       "5                     0.0                0.0                    NaT   \n",
       "6                     7.0                4.0             2017-05-31   \n",
       "7                     0.0                0.0                    NaT   \n",
       "8                     0.0                0.0                    NaT   \n",
       "9                     0.0                0.0                    NaT   \n",
       "\n",
       "   worst_delinquency_past_due_balance  \n",
       "0                                 0.0  \n",
       "1                               200.0  \n",
       "2                               100.0  \n",
       "3                               191.0  \n",
       "4                                 0.0  \n",
       "5                                 0.0  \n",
       "6                              4342.0  \n",
       "7                                 0.0  \n",
       "8                                 0.0  \n",
       "9                                 0.0  "
      ]
     },
     "execution_count": 14,
     "metadata": {},
     "output_type": "execute_result"
    }
   ],
   "source": [
    "data_credit_reports.head(10)"
   ]
  },
  {
   "cell_type": "code",
   "execution_count": 15,
   "id": "17c60d58",
   "metadata": {
    "scrolled": true
   },
   "outputs": [
    {
     "name": "stdout",
     "output_type": "stream",
     "text": [
      "<class 'pandas.core.frame.DataFrame'>\n",
      "RangeIndex: 16309 entries, 0 to 16308\n",
      "Data columns (total 17 columns):\n",
      " #   Column                              Non-Null Count  Dtype         \n",
      "---  ------                              --------------  -----         \n",
      " 0   user_id                             16309 non-null  int64         \n",
      " 1   institution                         16309 non-null  object        \n",
      " 2   account_type                        16309 non-null  object        \n",
      " 3   credit_type                         16309 non-null  object        \n",
      " 4   total_credit_payments               16268 non-null  float64       \n",
      " 5   payment_frequency                   16308 non-null  object        \n",
      " 6   amount_to_pay_next_payment          16304 non-null  float64       \n",
      " 7   account_opening_date                16309 non-null  datetime64[ns]\n",
      " 8   account_closing_date                9068 non-null   datetime64[ns]\n",
      " 9   maximum_credit_amount               16307 non-null  float64       \n",
      " 10  current_balance                     16304 non-null  float64       \n",
      " 11  credit_limit                        16296 non-null  float64       \n",
      " 12  past_due_balance                    16304 non-null  float64       \n",
      " 13  number_of_payments_due              16297 non-null  float64       \n",
      " 14  worst_delinquency                   16255 non-null  float64       \n",
      " 15  worst_delinquency_date              2884 non-null   datetime64[ns]\n",
      " 16  worst_delinquency_past_due_balance  16297 non-null  float64       \n",
      "dtypes: datetime64[ns](3), float64(9), int64(1), object(4)\n",
      "memory usage: 2.1+ MB\n"
     ]
    }
   ],
   "source": [
    "data_credit_reports.info()"
   ]
  },
  {
   "cell_type": "code",
   "execution_count": 16,
   "id": "25ea550a",
   "metadata": {},
   "outputs": [
    {
     "data": {
      "text/html": [
       "<div>\n",
       "<style scoped>\n",
       "    .dataframe tbody tr th:only-of-type {\n",
       "        vertical-align: middle;\n",
       "    }\n",
       "\n",
       "    .dataframe tbody tr th {\n",
       "        vertical-align: top;\n",
       "    }\n",
       "\n",
       "    .dataframe thead th {\n",
       "        text-align: right;\n",
       "    }\n",
       "</style>\n",
       "<table border=\"1\" class=\"dataframe\">\n",
       "  <thead>\n",
       "    <tr style=\"text-align: right;\">\n",
       "      <th></th>\n",
       "      <th>user_id</th>\n",
       "      <th>total_credit_payments</th>\n",
       "      <th>amount_to_pay_next_payment</th>\n",
       "      <th>maximum_credit_amount</th>\n",
       "      <th>current_balance</th>\n",
       "      <th>credit_limit</th>\n",
       "      <th>past_due_balance</th>\n",
       "      <th>number_of_payments_due</th>\n",
       "      <th>worst_delinquency</th>\n",
       "      <th>worst_delinquency_past_due_balance</th>\n",
       "    </tr>\n",
       "  </thead>\n",
       "  <tbody>\n",
       "    <tr>\n",
       "      <th>count</th>\n",
       "      <td>16309.000000</td>\n",
       "      <td>16268.000000</td>\n",
       "      <td>1.630400e+04</td>\n",
       "      <td>1.630700e+04</td>\n",
       "      <td>1.630400e+04</td>\n",
       "      <td>1.629600e+04</td>\n",
       "      <td>1.630400e+04</td>\n",
       "      <td>16297.000000</td>\n",
       "      <td>16255.000000</td>\n",
       "      <td>1.629700e+04</td>\n",
       "    </tr>\n",
       "    <tr>\n",
       "      <th>mean</th>\n",
       "      <td>474.067631</td>\n",
       "      <td>22.405766</td>\n",
       "      <td>2.779242e+03</td>\n",
       "      <td>3.994739e+04</td>\n",
       "      <td>1.993377e+04</td>\n",
       "      <td>2.398115e+04</td>\n",
       "      <td>3.618910e+03</td>\n",
       "      <td>2.291219</td>\n",
       "      <td>1.541618</td>\n",
       "      <td>1.617189e+03</td>\n",
       "    </tr>\n",
       "    <tr>\n",
       "      <th>std</th>\n",
       "      <td>293.165091</td>\n",
       "      <td>77.413143</td>\n",
       "      <td>2.145046e+04</td>\n",
       "      <td>1.337402e+05</td>\n",
       "      <td>1.067213e+05</td>\n",
       "      <td>9.429967e+04</td>\n",
       "      <td>2.816734e+04</td>\n",
       "      <td>8.250868</td>\n",
       "      <td>6.816558</td>\n",
       "      <td>2.845180e+04</td>\n",
       "    </tr>\n",
       "    <tr>\n",
       "      <th>min</th>\n",
       "      <td>0.000000</td>\n",
       "      <td>0.000000</td>\n",
       "      <td>0.000000e+00</td>\n",
       "      <td>0.000000e+00</td>\n",
       "      <td>0.000000e+00</td>\n",
       "      <td>0.000000e+00</td>\n",
       "      <td>0.000000e+00</td>\n",
       "      <td>0.000000</td>\n",
       "      <td>0.000000</td>\n",
       "      <td>0.000000e+00</td>\n",
       "    </tr>\n",
       "    <tr>\n",
       "      <th>25%</th>\n",
       "      <td>213.000000</td>\n",
       "      <td>0.000000</td>\n",
       "      <td>0.000000e+00</td>\n",
       "      <td>2.000000e+03</td>\n",
       "      <td>0.000000e+00</td>\n",
       "      <td>0.000000e+00</td>\n",
       "      <td>0.000000e+00</td>\n",
       "      <td>0.000000</td>\n",
       "      <td>0.000000</td>\n",
       "      <td>0.000000e+00</td>\n",
       "    </tr>\n",
       "    <tr>\n",
       "      <th>50%</th>\n",
       "      <td>466.000000</td>\n",
       "      <td>1.000000</td>\n",
       "      <td>0.000000e+00</td>\n",
       "      <td>6.899000e+03</td>\n",
       "      <td>0.000000e+00</td>\n",
       "      <td>8.925000e+02</td>\n",
       "      <td>0.000000e+00</td>\n",
       "      <td>0.000000</td>\n",
       "      <td>0.000000</td>\n",
       "      <td>0.000000e+00</td>\n",
       "    </tr>\n",
       "    <tr>\n",
       "      <th>75%</th>\n",
       "      <td>726.000000</td>\n",
       "      <td>16.000000</td>\n",
       "      <td>5.830000e+02</td>\n",
       "      <td>2.634750e+04</td>\n",
       "      <td>3.224250e+03</td>\n",
       "      <td>1.440600e+04</td>\n",
       "      <td>0.000000e+00</td>\n",
       "      <td>0.000000</td>\n",
       "      <td>0.000000</td>\n",
       "      <td>0.000000e+00</td>\n",
       "    </tr>\n",
       "    <tr>\n",
       "      <th>max</th>\n",
       "      <td>999.000000</td>\n",
       "      <td>1800.000000</td>\n",
       "      <td>1.263964e+06</td>\n",
       "      <td>4.883200e+06</td>\n",
       "      <td>4.697583e+06</td>\n",
       "      <td>3.269355e+06</td>\n",
       "      <td>1.915973e+06</td>\n",
       "      <td>96.000000</td>\n",
       "      <td>84.000000</td>\n",
       "      <td>3.234351e+06</td>\n",
       "    </tr>\n",
       "  </tbody>\n",
       "</table>\n",
       "</div>"
      ],
      "text/plain": [
       "            user_id  total_credit_payments  amount_to_pay_next_payment  \\\n",
       "count  16309.000000           16268.000000                1.630400e+04   \n",
       "mean     474.067631              22.405766                2.779242e+03   \n",
       "std      293.165091              77.413143                2.145046e+04   \n",
       "min        0.000000               0.000000                0.000000e+00   \n",
       "25%      213.000000               0.000000                0.000000e+00   \n",
       "50%      466.000000               1.000000                0.000000e+00   \n",
       "75%      726.000000              16.000000                5.830000e+02   \n",
       "max      999.000000            1800.000000                1.263964e+06   \n",
       "\n",
       "       maximum_credit_amount  current_balance  credit_limit  past_due_balance  \\\n",
       "count           1.630700e+04     1.630400e+04  1.629600e+04      1.630400e+04   \n",
       "mean            3.994739e+04     1.993377e+04  2.398115e+04      3.618910e+03   \n",
       "std             1.337402e+05     1.067213e+05  9.429967e+04      2.816734e+04   \n",
       "min             0.000000e+00     0.000000e+00  0.000000e+00      0.000000e+00   \n",
       "25%             2.000000e+03     0.000000e+00  0.000000e+00      0.000000e+00   \n",
       "50%             6.899000e+03     0.000000e+00  8.925000e+02      0.000000e+00   \n",
       "75%             2.634750e+04     3.224250e+03  1.440600e+04      0.000000e+00   \n",
       "max             4.883200e+06     4.697583e+06  3.269355e+06      1.915973e+06   \n",
       "\n",
       "       number_of_payments_due  worst_delinquency  \\\n",
       "count            16297.000000       16255.000000   \n",
       "mean                 2.291219           1.541618   \n",
       "std                  8.250868           6.816558   \n",
       "min                  0.000000           0.000000   \n",
       "25%                  0.000000           0.000000   \n",
       "50%                  0.000000           0.000000   \n",
       "75%                  0.000000           0.000000   \n",
       "max                 96.000000          84.000000   \n",
       "\n",
       "       worst_delinquency_past_due_balance  \n",
       "count                        1.629700e+04  \n",
       "mean                         1.617189e+03  \n",
       "std                          2.845180e+04  \n",
       "min                          0.000000e+00  \n",
       "25%                          0.000000e+00  \n",
       "50%                          0.000000e+00  \n",
       "75%                          0.000000e+00  \n",
       "max                          3.234351e+06  "
      ]
     },
     "execution_count": 16,
     "metadata": {},
     "output_type": "execute_result"
    }
   ],
   "source": [
    "data_credit_reports.describe()"
   ]
  },
  {
   "cell_type": "markdown",
   "id": "3726bbb3",
   "metadata": {},
   "source": [
    "#### Missing Values"
   ]
  },
  {
   "cell_type": "code",
   "execution_count": 17,
   "id": "c6bdcaea",
   "metadata": {},
   "outputs": [
    {
     "data": {
      "image/png": "[encoded data removed]",
      "text/plain": [
       "<Figure size 864x864 with 1 Axes>"
      ]
     },
     "metadata": {},
     "output_type": "display_data"
    }
   ],
   "source": [
    "plt.figure(figsize=(12, 12))\n",
    "p1 = sns.heatmap(data_credit_reports.isnull(),cbar=False,cmap='viridis',yticklabels=False)\n",
    "plt.xticks(rotation=80) \n",
    "plt.title('Missing values in the dataset', fontsize=18)\n",
    "plt.margins(0.2)\n",
    "fig = p1.get_figure()\n",
    "fig.savefig(\"plots/03_datacredit_reports_missing_values.png\")\n",
    "plt.show()"
   ]
  },
  {
   "cell_type": "markdown",
   "id": "d5c16cde",
   "metadata": {},
   "source": [
    "We can see that the `account_closing_date` and `worst_delinquency_date` variables have a lot of missing values."
   ]
  },
  {
   "cell_type": "markdown",
   "id": "609e00b5",
   "metadata": {},
   "source": [
    "#### Categorical variables"
   ]
  },
  {
   "cell_type": "code",
   "execution_count": 18,
   "id": "f399a64a",
   "metadata": {},
   "outputs": [
    {
     "data": {
      "text/html": [
       "<div>\n",
       "<style scoped>\n",
       "    .dataframe tbody tr th:only-of-type {\n",
       "        vertical-align: middle;\n",
       "    }\n",
       "\n",
       "    .dataframe tbody tr th {\n",
       "        vertical-align: top;\n",
       "    }\n",
       "\n",
       "    .dataframe thead th {\n",
       "        text-align: right;\n",
       "    }\n",
       "</style>\n",
       "<table border=\"1\" class=\"dataframe\">\n",
       "  <thead>\n",
       "    <tr style=\"text-align: right;\">\n",
       "      <th></th>\n",
       "      <th>institution</th>\n",
       "      <th>account_type</th>\n",
       "      <th>credit_type</th>\n",
       "      <th>payment_frequency</th>\n",
       "    </tr>\n",
       "  </thead>\n",
       "  <tbody>\n",
       "    <tr>\n",
       "      <th>count</th>\n",
       "      <td>16309</td>\n",
       "      <td>16309</td>\n",
       "      <td>16309</td>\n",
       "      <td>16308</td>\n",
       "    </tr>\n",
       "    <tr>\n",
       "      <th>unique</th>\n",
       "      <td>54</td>\n",
       "      <td>8</td>\n",
       "      <td>26</td>\n",
       "      <td>10</td>\n",
       "    </tr>\n",
       "    <tr>\n",
       "      <th>top</th>\n",
       "      <td>BANCO</td>\n",
       "      <td>Pagos Fijos</td>\n",
       "      <td>Préstamo Personal</td>\n",
       "      <td>Mensual</td>\n",
       "    </tr>\n",
       "    <tr>\n",
       "      <th>freq</th>\n",
       "      <td>4285</td>\n",
       "      <td>8083</td>\n",
       "      <td>5717</td>\n",
       "      <td>11191</td>\n",
       "    </tr>\n",
       "  </tbody>\n",
       "</table>\n",
       "</div>"
      ],
      "text/plain": [
       "       institution account_type         credit_type payment_frequency\n",
       "count        16309        16309               16309             16308\n",
       "unique          54            8                  26                10\n",
       "top          BANCO  Pagos Fijos  Préstamo Personal            Mensual\n",
       "freq          4285         8083                5717             11191"
      ]
     },
     "execution_count": 18,
     "metadata": {},
     "output_type": "execute_result"
    }
   ],
   "source": [
    "data_credit_reports.describe(include=['object', 'bool'])"
   ]
  },
  {
   "cell_type": "code",
   "execution_count": 19,
   "id": "33703c26",
   "metadata": {},
   "outputs": [],
   "source": [
    "institution_count = pd.DataFrame(data_credit_reports['institution'].value_counts())\n",
    "institution_count = institution_count.reset_index()\n",
    "\n",
    "account_type_count = pd.DataFrame(data_credit_reports['account_type'].value_counts())\n",
    "account_type_count = account_type_count.reset_index()\n",
    "\n",
    "credit_type_count = pd.DataFrame(data_credit_reports['credit_type'].value_counts())\n",
    "credit_type_count = credit_type_count.reset_index()\n",
    "\n",
    "payment_frequency_count = pd.DataFrame(data_credit_reports['payment_frequency'].value_counts())\n",
    "payment_frequency_count = payment_frequency_count.reset_index()"
   ]
  },
  {
   "cell_type": "code",
   "execution_count": 20,
   "id": "1156af09",
   "metadata": {
    "scrolled": true
   },
   "outputs": [
    {
     "data": {
      "image/png": "[encoded data removed]",
      "text/plain": [
       "<Figure size 1296x936 with 4 Axes>"
      ]
     },
     "metadata": {},
     "output_type": "display_data"
    }
   ],
   "source": [
    "fig, axes = plt.subplots(2, 2, figsize=(18, 13), sharex=True)\n",
    "fig.suptitle(\"Classes's distribution of the Categorical Variables\", size=18)\n",
    "\n",
    "sns.set(style=\"darkgrid\")\n",
    "\n",
    "p1 = sns.barplot(x=institution_count['index'], y='institution',  data=institution_count, alpha=0.9, ax=axes[0,0])\n",
    "#p1.set(xlabel=None)\n",
    "p1.set(xticklabels=[])  \n",
    "p1.set(xlabel='Classes', ylabel='Counts')\n",
    "p1.set(title=\"Classes's Distribution of the Institution Variable\")\n",
    "\n",
    "p2 = sns.barplot(x=account_type_count['index'], y='account_type',  data=account_type_count, alpha=0.9, ax=axes[0,1])\n",
    "p2.set(xticklabels=[])\n",
    "p2.set(xlabel='Classes', ylabel='Counts')\n",
    "p2.set(title=\"Classes's Distribution of the Account Type Variable\")\n",
    "\n",
    "p3 = sns.barplot(x=credit_type_count['index'], y='credit_type',  data=credit_type_count, alpha=0.9, ax=axes[1,0])\n",
    "p3.set(xticklabels=[])\n",
    "p3.set(xlabel='Classes', ylabel='Counts')\n",
    "p3.set(title=\"Classes's Distribution of the Credit Type Variable\")\n",
    "\n",
    "p4 = sns.barplot(x=payment_frequency_count['index'], y='payment_frequency',  data=payment_frequency_count, alpha=0.9, ax=axes[1,1])\n",
    "p4.set(xticklabels=[])  \n",
    "p4.set(xlabel='Classes', ylabel='Counts')\n",
    "p4.set(title=\"Classes's Distribution of the Payment Frecuency Variable\")\n",
    "\n",
    "axes1, axes2, axes3, axes4 = axes.ravel()\n",
    "axes1.set_xlim(-1, 25)\n",
    "#axes1.set_ylim(0, 0.5e6) \n",
    "#axes2.set_ylim(0, 0.5e6) \n",
    "#plt.set(xlabel=None)\n",
    "\n",
    "#plt.setp(axes, yticks=[])\n",
    "#plt.tight_layout()\n",
    "#fig = p1.get_figure()\n",
    "fig.savefig(\"plots/04_datacredit_reports_distribution_classes.png\")\n",
    "plt.show()"
   ]
  },
  {
   "cell_type": "markdown",
   "id": "ac857b70",
   "metadata": {},
   "source": [
    "There is a problem of High cardinality and imbalanced classes, specially in the `institution`, `account_type` and `payment_frecuency` variables."
   ]
  },
  {
   "cell_type": "markdown",
   "id": "9026fd74",
   "metadata": {},
   "source": [
    "#### Quantitative variables"
   ]
  },
  {
   "cell_type": "code",
   "execution_count": 21,
   "id": "0d13daf9",
   "metadata": {},
   "outputs": [
    {
     "name": "stderr",
     "output_type": "stream",
     "text": [
      "<ipython-input-21-a63a6d9f278a>:5: UserWarning: To output multiple subplots, the figure containing the passed axes is being cleared\n",
      "  data_credit_reports[[\"total_credit_payments\",\n"
     ]
    },
    {
     "data": {
      "image/png": "[encoded data removed]",
      "text/plain": [
       "<Figure size 936x1152 with 9 Axes>"
      ]
     },
     "metadata": {},
     "output_type": "display_data"
    }
   ],
   "source": [
    "fig = plt.figure(figsize = (13,16))\n",
    "ax = fig.gca()\n",
    "#df.hist(ax = ax)\n",
    "\n",
    "data_credit_reports[[\"total_credit_payments\", \n",
    "                    \"amount_to_pay_next_payment\", \"maximum_credit_amount\", \n",
    "                    \"current_balance\", \"credit_limit\", \"past_due_balance\", \n",
    "                    \"number_of_payments_due\", \"worst_delinquency\",  \n",
    "                    \"worst_delinquency_past_due_balance\"]].hist(ax=ax)\n",
    "\n",
    "\n",
    "#fig = p1.get_figure()\n",
    "fig.savefig(\"plots/05_datacredit_reports_quantitative_variables_distribution.png\")\n",
    "plt.show()"
   ]
  },
  {
   "cell_type": "markdown",
   "id": "f27a26f8",
   "metadata": {},
   "source": [
    "If we calculate the Fisher-Pearson standardized moment coefficient, we can see that all the variables are skewed"
   ]
  },
  {
   "cell_type": "code",
   "execution_count": 22,
   "id": "8434bbce",
   "metadata": {},
   "outputs": [
    {
     "data": {
      "text/plain": [
       "worst_delinquency_past_due_balance    92.203928\n",
       "past_due_balance                      29.371754\n",
       "amount_to_pay_next_payment            28.750662\n",
       "current_balance                       17.921639\n",
       "credit_limit                          15.164412\n",
       "maximum_credit_amount                 13.563707\n",
       "total_credit_payments                  9.638661\n",
       "worst_delinquency                      8.683708\n",
       "number_of_payments_due                 7.244236\n",
       "dtype: float64"
      ]
     },
     "execution_count": 22,
     "metadata": {},
     "output_type": "execute_result"
    }
   ],
   "source": [
    "variables = [\"total_credit_payments\", \n",
    "                    \"amount_to_pay_next_payment\", \"maximum_credit_amount\", \n",
    "                    \"current_balance\", \"credit_limit\", \"past_due_balance\", \n",
    "                    \"number_of_payments_due\", \"worst_delinquency\",  \n",
    "                    \"worst_delinquency_past_due_balance\"]\n",
    "\n",
    "data_credit_reports[variables].skew().sort_values(ascending=False)"
   ]
  },
  {
   "cell_type": "markdown",
   "id": "ea981c83",
   "metadata": {},
   "source": [
    "## Data Preparation"
   ]
  },
  {
   "cell_type": "code",
   "execution_count": 23,
   "id": "3acbff0e",
   "metadata": {},
   "outputs": [],
   "source": [
    "#data1 = data_users.copy()\n",
    "#data2 = data_credit_reports.copy()"
   ]
  },
  {
   "cell_type": "markdown",
   "id": "d66ab850",
   "metadata": {},
   "source": [
    "### Remove the columns with a high amount of missing values"
   ]
  },
  {
   "cell_type": "markdown",
   "id": "db74e618",
   "metadata": {},
   "source": [
    "The variables with a high number of missing values won't provided enough information to the model"
   ]
  },
  {
   "cell_type": "code",
   "execution_count": 24,
   "id": "f8046666",
   "metadata": {},
   "outputs": [],
   "source": [
    "mask = data_credit_reports.isna().sum() / len(data_credit_reports) < 0.3\n",
    "data_credit_reports = data_credit_reports.loc[:, mask]"
   ]
  },
  {
   "cell_type": "markdown",
   "id": "8df629b3",
   "metadata": {},
   "source": [
    "### Remove Missing Values"
   ]
  },
  {
   "cell_type": "code",
   "execution_count": 25,
   "id": "b5669a89",
   "metadata": {},
   "outputs": [],
   "source": [
    "from sklearn.base import BaseEstimator, TransformerMixin\n",
    "from sklearn.impute import SimpleImputer\n",
    "\n",
    "class CreditReportsImputer(BaseEstimator, TransformerMixin):\n",
    "    # it is used by BaseEstimator\n",
    "    def fit(self,X, y=None):\n",
    "        return self\n",
    "    \n",
    "    def transform(self, X):\n",
    "        imputer = SimpleImputer(strategy=\"mean\")\n",
    "        imputer2 = SimpleImputer(strategy=\"median\")\n",
    "        X['total_credit_payments'] = imputer.fit_transform(X[['total_credit_payments']])\n",
    "        X['amount_to_pay_next_payment'] = imputer.fit_transform(X[['amount_to_pay_next_payment']])\n",
    "        X['maximum_credit_amount'] = imputer.fit_transform(X[['maximum_credit_amount']])\n",
    "        X['current_balance'] = imputer.fit_transform(X[['current_balance']])\n",
    "        X['credit_limit'] = imputer.fit_transform(X[['credit_limit']])\n",
    "        X['past_due_balance'] = imputer.fit_transform(X[['past_due_balance']])\n",
    "        X['number_of_payments_due'] = imputer.fit_transform(X[['number_of_payments_due']])\n",
    "        X['worst_delinquency'] = imputer2.fit_transform(X[['worst_delinquency']])\n",
    "        X['worst_delinquency_past_due_balance'] = imputer.fit_transform(X[['worst_delinquency_past_due_balance']])\n",
    "        return X"
   ]
  },
  {
   "cell_type": "code",
   "execution_count": 26,
   "id": "4de30c0a",
   "metadata": {},
   "outputs": [],
   "source": [
    "from sklearn.pipeline import Pipeline\n",
    "pipeline_na_values = Pipeline([('creditreporstimputer', CreditReportsImputer())])"
   ]
  },
  {
   "cell_type": "code",
   "execution_count": 27,
   "id": "f5eb290e",
   "metadata": {},
   "outputs": [],
   "source": [
    "data_credit_reports = pipeline_na_values.fit_transform(data_credit_reports)"
   ]
  },
  {
   "cell_type": "markdown",
   "id": "5d3378c0",
   "metadata": {},
   "source": [
    "### Treating categorical variables in `data_credit_reports`"
   ]
  },
  {
   "cell_type": "markdown",
   "id": "e405a397",
   "metadata": {},
   "source": [
    "There are a high number of classes in the categorical variables, and many of them don't provide us with enough information because of their low number of observations. For this reason, it is a better option to group the classes with low frequency in an unique class.\n",
    "\n",
    "Furthermore, having a lot of classes in the categorical variables could cause having the heaviest data set after encoding them. Finally, if we use One-Hot encoding the variables could end up being too many (The Curse of Dimensionality). "
   ]
  },
  {
   "cell_type": "code",
   "execution_count": 28,
   "id": "61de997b",
   "metadata": {},
   "outputs": [],
   "source": [
    "def createDataToNewColumn(values_to_scan, classes):\n",
    "    data_to_new_column = list()\n",
    "    for i in values_to_scan:\n",
    "        if ((i == classes).any()):\n",
    "            data_to_new_column.append(i)\n",
    "        else:\n",
    "            data_to_new_column.append('Other')\n",
    "    return data_to_new_column"
   ]
  },
  {
   "cell_type": "markdown",
   "id": "d37caa0c",
   "metadata": {},
   "source": [
    "Group the classes of the variable `institution`"
   ]
  },
  {
   "cell_type": "code",
   "execution_count": 29,
   "id": "76faa9a9",
   "metadata": {},
   "outputs": [],
   "source": [
    "classes = institution_count[institution_count.institution > institution_count.institution.quantile(0.80)]['index']#.sum()\n",
    "new_column = createDataToNewColumn(data_credit_reports['institution'], classes)\n",
    "data_credit_reports.insert(1, 'institution_mod', new_column, True)\n",
    "data_credit_reports.drop(['institution'], axis=1, inplace=True)"
   ]
  },
  {
   "cell_type": "markdown",
   "id": "9c3c40f4",
   "metadata": {},
   "source": [
    "Group the classes of the variable `account_type`"
   ]
  },
  {
   "cell_type": "code",
   "execution_count": 30,
   "id": "b0da083a",
   "metadata": {},
   "outputs": [],
   "source": [
    "classes = account_type_count[account_type_count.account_type > account_type_count.account_type.quantile(0.75)]['index']#.sum()\n",
    "new_column = createDataToNewColumn(data_credit_reports['account_type'], classes)\n",
    "data_credit_reports.insert(2, 'account_type_mod', new_column, True)\n",
    "data_credit_reports.drop(['account_type'], axis=1, inplace=True)"
   ]
  },
  {
   "cell_type": "markdown",
   "id": "f556a351",
   "metadata": {},
   "source": [
    "Group the classes of the variable `credit_type`"
   ]
  },
  {
   "cell_type": "code",
   "execution_count": 31,
   "id": "09b8c910",
   "metadata": {},
   "outputs": [],
   "source": [
    "classes = credit_type_count[credit_type_count.credit_type > credit_type_count.credit_type.quantile(0.9)]['index']#.sum()\n",
    "new_column = createDataToNewColumn(data_credit_reports['credit_type'], classes)\n",
    "data_credit_reports.insert(3, 'credit_type_mod', new_column, True)\n",
    "data_credit_reports.drop(['credit_type'], axis=1, inplace=True)"
   ]
  },
  {
   "cell_type": "markdown",
   "id": "19a27a20",
   "metadata": {},
   "source": [
    "Group the classes of the variable `payment_frequency`"
   ]
  },
  {
   "cell_type": "code",
   "execution_count": 32,
   "id": "9e1b19e1",
   "metadata": {},
   "outputs": [],
   "source": [
    "classes = payment_frequency_count[payment_frequency_count.payment_frequency > payment_frequency_count.payment_frequency.quantile(0.9)]['index']#.sum()\n",
    "new_column = createDataToNewColumn(data_credit_reports['payment_frequency'], classes)\n",
    "data_credit_reports.insert(5, 'payment_frequency_mod', new_column, True)\n",
    "data_credit_reports.drop(['payment_frequency'], axis=1, inplace=True)"
   ]
  },
  {
   "cell_type": "markdown",
   "id": "35930d0c",
   "metadata": {},
   "source": [
    "#### New distributions"
   ]
  },
  {
   "cell_type": "code",
   "execution_count": 33,
   "id": "09917d57",
   "metadata": {},
   "outputs": [],
   "source": [
    "institution_count = pd.DataFrame(data_credit_reports['institution_mod'].value_counts())\n",
    "institution_count = institution_count.reset_index()\n",
    "\n",
    "account_type_count = pd.DataFrame(data_credit_reports['account_type_mod'].value_counts())\n",
    "account_type_count = account_type_count.reset_index()\n",
    "\n",
    "credit_type_count = pd.DataFrame(data_credit_reports['credit_type_mod'].value_counts())\n",
    "credit_type_count = credit_type_count.reset_index()\n",
    "\n",
    "payment_frequency_count = pd.DataFrame(data_credit_reports['payment_frequency_mod'].value_counts())\n",
    "payment_frequency_count = payment_frequency_count.reset_index()"
   ]
  },
  {
   "cell_type": "code",
   "execution_count": 34,
   "id": "d3c9b6bb",
   "metadata": {},
   "outputs": [
    {
     "data": {
      "image/png": "[encoded data removed]",
      "text/plain": [
       "<Figure size 1296x936 with 4 Axes>"
      ]
     },
     "metadata": {},
     "output_type": "display_data"
    }
   ],
   "source": [
    "fig, axes = plt.subplots(2, 2, figsize=(18, 13), sharex=True)\n",
    "fig.suptitle(\"Classes's distribution of the Categorical Variables after Groupping\", size=18)\n",
    "\n",
    "sns.set(style=\"darkgrid\")\n",
    "\n",
    "p1 = sns.barplot(x=institution_count['index'], y='institution_mod',  data=institution_count, alpha=0.9, ax=axes[0,0])\n",
    "#p1.set(xlabel=None)\n",
    "p1.set(xticklabels=[])  \n",
    "p1.set(xlabel='Classes', ylabel='Counts')\n",
    "p1.set(title=\"Classes's Distribution of the Institution Variable\")\n",
    "\n",
    "p2 = sns.barplot(x=account_type_count['index'], y='account_type_mod',  data=account_type_count, alpha=0.9, ax=axes[0,1])\n",
    "p2.set(xticklabels=[])\n",
    "p2.set(xlabel='Classes', ylabel='Counts')\n",
    "p2.set(title=\"Classes's Distribution of the Account Type Variable\")\n",
    "\n",
    "p3 = sns.barplot(x=credit_type_count['index'], y='credit_type_mod',  data=credit_type_count, alpha=0.9, ax=axes[1,0])\n",
    "p3.set(xticklabels=[])\n",
    "p3.set(xlabel='Classes', ylabel='Counts')\n",
    "p3.set(title=\"Classes's Distribution of the Credit Type Variable\")\n",
    "\n",
    "p4 = sns.barplot(x=payment_frequency_count['index'], y='payment_frequency_mod',  data=payment_frequency_count, alpha=0.9, ax=axes[1,1])\n",
    "p4.set(xticklabels=[])  \n",
    "p4.set(xlabel='Classes', ylabel='Counts')\n",
    "p4.set(title=\"Classes's Distribution of the Payment Frecuency Variable\")\n",
    "\n",
    "axes1, axes2, axes3, axes4 = axes.ravel()\n",
    "axes1.set_xlim(-1, 25)\n",
    "#axes1.set_ylim(0, 0.5e6) \n",
    "#axes2.set_ylim(0, 0.5e6) \n",
    "#plt.set(xlabel=None)\n",
    "\n",
    "#plt.setp(axes, yticks=[])\n",
    "#plt.tight_layout()\n",
    "#fig = p1.get_figure()\n",
    "fig.savefig(\"plots/06_datacredit_reports_distribution_classes_aftergroup.png\")\n",
    "plt.show()"
   ]
  },
  {
   "cell_type": "markdown",
   "id": "a3e995aa",
   "metadata": {},
   "source": [
    "### Add new columns to variables related with the `account_opening_date`"
   ]
  },
  {
   "cell_type": "code",
   "execution_count": 35,
   "id": "0b8573f9",
   "metadata": {},
   "outputs": [],
   "source": [
    "data_credit_reports['account_opening_year'] = data_credit_reports['account_opening_date'].dt.year\n",
    "data_credit_reports['account_opening_month'] = data_credit_reports['account_opening_date'].dt.month\n",
    "data_credit_reports['account_opening_week'] = data_credit_reports['account_opening_date'].dt.isocalendar().week"
   ]
  },
  {
   "cell_type": "code",
   "execution_count": 36,
   "id": "72d7b0a9",
   "metadata": {},
   "outputs": [],
   "source": [
    "data_credit_reports.drop(['account_opening_date'], axis=1, inplace=True)"
   ]
  },
  {
   "cell_type": "markdown",
   "id": "54f07587",
   "metadata": {},
   "source": [
    "### Merge both dataframes"
   ]
  },
  {
   "cell_type": "markdown",
   "id": "f06d632c",
   "metadata": {},
   "source": [
    "#### Group the categorical and date variables from the `data_credit_reports` dataset"
   ]
  },
  {
   "cell_type": "code",
   "execution_count": 37,
   "id": "028acf74",
   "metadata": {},
   "outputs": [
    {
     "name": "stderr",
     "output_type": "stream",
     "text": [
      "<ipython-input-37-8e1e45567b75>:1: FutureWarning: Indexing with multiple keys (implicitly converted to a tuple of keys) will be deprecated, use a list instead.\n",
      "  agg_data2_cate = data_credit_reports.groupby(['user_id'])['institution_mod', 'account_type_mod',\n"
     ]
    }
   ],
   "source": [
    "agg_data2_cate = data_credit_reports.groupby(['user_id'])['institution_mod', 'account_type_mod', \n",
    "                                            'credit_type_mod', 'payment_frequency_mod', \n",
    "                                            'account_opening_year', 'account_opening_month',\n",
    "                                           'account_opening_week'].agg(lambda x: pd.Series.mode(x)[0])"
   ]
  },
  {
   "cell_type": "code",
   "execution_count": 38,
   "id": "a17396c3",
   "metadata": {},
   "outputs": [
    {
     "data": {
      "text/html": [
       "<div>\n",
       "<style scoped>\n",
       "    .dataframe tbody tr th:only-of-type {\n",
       "        vertical-align: middle;\n",
       "    }\n",
       "\n",
       "    .dataframe tbody tr th {\n",
       "        vertical-align: top;\n",
       "    }\n",
       "\n",
       "    .dataframe thead th {\n",
       "        text-align: right;\n",
       "    }\n",
       "</style>\n",
       "<table border=\"1\" class=\"dataframe\">\n",
       "  <thead>\n",
       "    <tr style=\"text-align: right;\">\n",
       "      <th></th>\n",
       "      <th>institution_mod</th>\n",
       "      <th>account_type_mod</th>\n",
       "      <th>credit_type_mod</th>\n",
       "      <th>payment_frequency_mod</th>\n",
       "    </tr>\n",
       "  </thead>\n",
       "  <tbody>\n",
       "    <tr>\n",
       "      <th>count</th>\n",
       "      <td>1000</td>\n",
       "      <td>1000</td>\n",
       "      <td>1000</td>\n",
       "      <td>1000</td>\n",
       "    </tr>\n",
       "    <tr>\n",
       "      <th>unique</th>\n",
       "      <td>12</td>\n",
       "      <td>3</td>\n",
       "      <td>4</td>\n",
       "      <td>2</td>\n",
       "    </tr>\n",
       "    <tr>\n",
       "      <th>top</th>\n",
       "      <td>BANCO</td>\n",
       "      <td>Pagos Fijos</td>\n",
       "      <td>Línea de Crédito</td>\n",
       "      <td>Mensual</td>\n",
       "    </tr>\n",
       "    <tr>\n",
       "      <th>freq</th>\n",
       "      <td>418</td>\n",
       "      <td>481</td>\n",
       "      <td>318</td>\n",
       "      <td>839</td>\n",
       "    </tr>\n",
       "  </tbody>\n",
       "</table>\n",
       "</div>"
      ],
      "text/plain": [
       "       institution_mod account_type_mod   credit_type_mod  \\\n",
       "count             1000             1000              1000   \n",
       "unique              12                3                 4   \n",
       "top              BANCO      Pagos Fijos  Línea de Crédito   \n",
       "freq               418              481               318   \n",
       "\n",
       "       payment_frequency_mod  \n",
       "count                   1000  \n",
       "unique                     2  \n",
       "top                  Mensual  \n",
       "freq                     839  "
      ]
     },
     "execution_count": 38,
     "metadata": {},
     "output_type": "execute_result"
    }
   ],
   "source": [
    "agg_data2_cate.describe(include=['object', 'bool'])"
   ]
  },
  {
   "cell_type": "markdown",
   "id": "84f02261",
   "metadata": {},
   "source": [
    "#### Group the quantitative variables from the `data_credit_reports` dataset"
   ]
  },
  {
   "cell_type": "code",
   "execution_count": 39,
   "id": "ebe6cfe3",
   "metadata": {},
   "outputs": [],
   "source": [
    "agg_data2_qua = data_credit_reports.groupby('user_id').agg({'total_credit_payments': ['mean'], \n",
    "                                              'amount_to_pay_next_payment':['mean'],\n",
    "                                             'maximum_credit_amount':['mean'],\n",
    "                                             'current_balance':['mean'],\n",
    "                                             'credit_limit':['mean'],\n",
    "                                             'past_due_balance':['mean'],\n",
    "                                             'number_of_payments_due':['mean'],\n",
    "                                             'worst_delinquency':['mean'],\n",
    "                                             'worst_delinquency_past_due_balance':['mean']})"
   ]
  },
  {
   "cell_type": "code",
   "execution_count": 40,
   "id": "884f581f",
   "metadata": {},
   "outputs": [],
   "source": [
    "agg_data2_qua.reset_index()\n",
    "\n",
    "variables = [\"total_credit_payments\", \n",
    "                    \"amount_to_pay_next_payment\", \"maximum_credit_amount\", \n",
    "                    \"current_balance\", \"credit_limit\", \"past_due_balance\", \n",
    "                    \"number_of_payments_due\", \"worst_delinquency\",  \n",
    "                    \"worst_delinquency_past_due_balance\"]\n",
    "agg_data2_qua.columns = variables"
   ]
  },
  {
   "cell_type": "markdown",
   "id": "05979603",
   "metadata": {},
   "source": [
    "#### Merge the data"
   ]
  },
  {
   "cell_type": "code",
   "execution_count": 41,
   "id": "669a7b1f",
   "metadata": {},
   "outputs": [],
   "source": [
    "data_merged = pd.concat([data_users, agg_data2_qua, agg_data2_cate], axis=1)"
   ]
  },
  {
   "cell_type": "code",
   "execution_count": 42,
   "id": "76ca8e06",
   "metadata": {},
   "outputs": [
    {
     "data": {
      "text/html": [
       "<div>\n",
       "<style scoped>\n",
       "    .dataframe tbody tr th:only-of-type {\n",
       "        vertical-align: middle;\n",
       "    }\n",
       "\n",
       "    .dataframe tbody tr th {\n",
       "        vertical-align: top;\n",
       "    }\n",
       "\n",
       "    .dataframe thead th {\n",
       "        text-align: right;\n",
       "    }\n",
       "</style>\n",
       "<table border=\"1\" class=\"dataframe\">\n",
       "  <thead>\n",
       "    <tr style=\"text-align: right;\">\n",
       "      <th></th>\n",
       "      <th>id</th>\n",
       "      <th>monthly_income</th>\n",
       "      <th>monthly_outcome</th>\n",
       "      <th>class</th>\n",
       "      <th>total_credit_payments</th>\n",
       "      <th>amount_to_pay_next_payment</th>\n",
       "      <th>maximum_credit_amount</th>\n",
       "      <th>current_balance</th>\n",
       "      <th>credit_limit</th>\n",
       "      <th>past_due_balance</th>\n",
       "      <th>number_of_payments_due</th>\n",
       "      <th>worst_delinquency</th>\n",
       "      <th>worst_delinquency_past_due_balance</th>\n",
       "      <th>institution_mod</th>\n",
       "      <th>account_type_mod</th>\n",
       "      <th>credit_type_mod</th>\n",
       "      <th>payment_frequency_mod</th>\n",
       "      <th>account_opening_year</th>\n",
       "      <th>account_opening_month</th>\n",
       "      <th>account_opening_week</th>\n",
       "    </tr>\n",
       "  </thead>\n",
       "  <tbody>\n",
       "    <tr>\n",
       "      <th>0</th>\n",
       "      <td>0</td>\n",
       "      <td>255359</td>\n",
       "      <td>151439</td>\n",
       "      <td>1</td>\n",
       "      <td>66.200000</td>\n",
       "      <td>2265.933333</td>\n",
       "      <td>63081.266667</td>\n",
       "      <td>40074.566667</td>\n",
       "      <td>37915.933333</td>\n",
       "      <td>144.733333</td>\n",
       "      <td>0.766667</td>\n",
       "      <td>0.333333</td>\n",
       "      <td>177.466667</td>\n",
       "      <td>MERCANCIA PARA HOGAR Y OFICINA</td>\n",
       "      <td>Pagos Fijos</td>\n",
       "      <td>Línea de Crédito</td>\n",
       "      <td>Mensual</td>\n",
       "      <td>2016</td>\n",
       "      <td>9</td>\n",
       "      <td>35</td>\n",
       "    </tr>\n",
       "    <tr>\n",
       "      <th>1</th>\n",
       "      <td>1</td>\n",
       "      <td>8940</td>\n",
       "      <td>789</td>\n",
       "      <td>0</td>\n",
       "      <td>81.000000</td>\n",
       "      <td>615.875000</td>\n",
       "      <td>43510.125000</td>\n",
       "      <td>79785.375000</td>\n",
       "      <td>32448.500000</td>\n",
       "      <td>18260.375000</td>\n",
       "      <td>17.875000</td>\n",
       "      <td>15.000000</td>\n",
       "      <td>5298.000000</td>\n",
       "      <td>MERCANCIA PARA HOGAR Y OFICINA</td>\n",
       "      <td>Pagos Fijos</td>\n",
       "      <td>Préstamo Personal</td>\n",
       "      <td>Other</td>\n",
       "      <td>2004</td>\n",
       "      <td>5</td>\n",
       "      <td>21</td>\n",
       "    </tr>\n",
       "    <tr>\n",
       "      <th>2</th>\n",
       "      <td>2</td>\n",
       "      <td>11436</td>\n",
       "      <td>3316</td>\n",
       "      <td>0</td>\n",
       "      <td>20.250000</td>\n",
       "      <td>210.500000</td>\n",
       "      <td>3817.375000</td>\n",
       "      <td>2538.000000</td>\n",
       "      <td>293.875000</td>\n",
       "      <td>28.750000</td>\n",
       "      <td>2.500000</td>\n",
       "      <td>0.500000</td>\n",
       "      <td>58.625000</td>\n",
       "      <td>MERCANCIA PARA HOGAR Y OFICINA</td>\n",
       "      <td>Other</td>\n",
       "      <td>Préstamo Personal</td>\n",
       "      <td>Other</td>\n",
       "      <td>2017</td>\n",
       "      <td>7</td>\n",
       "      <td>19</td>\n",
       "    </tr>\n",
       "    <tr>\n",
       "      <th>3</th>\n",
       "      <td>3</td>\n",
       "      <td>17143</td>\n",
       "      <td>47547</td>\n",
       "      <td>1</td>\n",
       "      <td>36.000000</td>\n",
       "      <td>7358.000000</td>\n",
       "      <td>22892.500000</td>\n",
       "      <td>14820.000000</td>\n",
       "      <td>19675.000000</td>\n",
       "      <td>7175.000000</td>\n",
       "      <td>0.000000</td>\n",
       "      <td>0.000000</td>\n",
       "      <td>0.000000</td>\n",
       "      <td>BANCO</td>\n",
       "      <td>Pagos Fijos</td>\n",
       "      <td>Other</td>\n",
       "      <td>Mensual</td>\n",
       "      <td>2011</td>\n",
       "      <td>4</td>\n",
       "      <td>15</td>\n",
       "    </tr>\n",
       "    <tr>\n",
       "      <th>4</th>\n",
       "      <td>4</td>\n",
       "      <td>26990</td>\n",
       "      <td>15585</td>\n",
       "      <td>1</td>\n",
       "      <td>0.000000</td>\n",
       "      <td>0.000000</td>\n",
       "      <td>15016.000000</td>\n",
       "      <td>0.000000</td>\n",
       "      <td>17166.833333</td>\n",
       "      <td>3081.000000</td>\n",
       "      <td>0.000000</td>\n",
       "      <td>0.000000</td>\n",
       "      <td>0.000000</td>\n",
       "      <td>BANCO</td>\n",
       "      <td>Revolvente</td>\n",
       "      <td>Tarjeta de Crédito</td>\n",
       "      <td>Mensual</td>\n",
       "      <td>2012</td>\n",
       "      <td>5</td>\n",
       "      <td>22</td>\n",
       "    </tr>\n",
       "    <tr>\n",
       "      <th>...</th>\n",
       "      <td>...</td>\n",
       "      <td>...</td>\n",
       "      <td>...</td>\n",
       "      <td>...</td>\n",
       "      <td>...</td>\n",
       "      <td>...</td>\n",
       "      <td>...</td>\n",
       "      <td>...</td>\n",
       "      <td>...</td>\n",
       "      <td>...</td>\n",
       "      <td>...</td>\n",
       "      <td>...</td>\n",
       "      <td>...</td>\n",
       "      <td>...</td>\n",
       "      <td>...</td>\n",
       "      <td>...</td>\n",
       "      <td>...</td>\n",
       "      <td>...</td>\n",
       "      <td>...</td>\n",
       "      <td>...</td>\n",
       "    </tr>\n",
       "    <tr>\n",
       "      <th>995</th>\n",
       "      <td>995</td>\n",
       "      <td>4157</td>\n",
       "      <td>18828</td>\n",
       "      <td>0</td>\n",
       "      <td>14.555556</td>\n",
       "      <td>1876.277778</td>\n",
       "      <td>4759.944444</td>\n",
       "      <td>3059.777778</td>\n",
       "      <td>2945.055556</td>\n",
       "      <td>195.444444</td>\n",
       "      <td>0.333333</td>\n",
       "      <td>0.166667</td>\n",
       "      <td>143.777778</td>\n",
       "      <td>SOCIEDAD FINANCIERA DE OBJETO MULTIPLE</td>\n",
       "      <td>Pagos Fijos</td>\n",
       "      <td>Préstamo Personal</td>\n",
       "      <td>Other</td>\n",
       "      <td>2017</td>\n",
       "      <td>9</td>\n",
       "      <td>39</td>\n",
       "    </tr>\n",
       "    <tr>\n",
       "      <th>996</th>\n",
       "      <td>996</td>\n",
       "      <td>14094</td>\n",
       "      <td>35554</td>\n",
       "      <td>1</td>\n",
       "      <td>14.511628</td>\n",
       "      <td>619.511628</td>\n",
       "      <td>22092.093023</td>\n",
       "      <td>5155.162791</td>\n",
       "      <td>3154.930233</td>\n",
       "      <td>668.953488</td>\n",
       "      <td>2.255814</td>\n",
       "      <td>1.255814</td>\n",
       "      <td>1184.790698</td>\n",
       "      <td>Other</td>\n",
       "      <td>Pagos Fijos</td>\n",
       "      <td>Préstamo Personal</td>\n",
       "      <td>Mensual</td>\n",
       "      <td>2016</td>\n",
       "      <td>3</td>\n",
       "      <td>33</td>\n",
       "    </tr>\n",
       "    <tr>\n",
       "      <th>997</th>\n",
       "      <td>997</td>\n",
       "      <td>7437</td>\n",
       "      <td>32840</td>\n",
       "      <td>1</td>\n",
       "      <td>17.100000</td>\n",
       "      <td>545.233333</td>\n",
       "      <td>36218.066667</td>\n",
       "      <td>6091.366667</td>\n",
       "      <td>28270.700000</td>\n",
       "      <td>68.633333</td>\n",
       "      <td>1.800000</td>\n",
       "      <td>0.533333</td>\n",
       "      <td>474.066667</td>\n",
       "      <td>BANCOS</td>\n",
       "      <td>Pagos Fijos</td>\n",
       "      <td>Préstamo Personal</td>\n",
       "      <td>Other</td>\n",
       "      <td>2015</td>\n",
       "      <td>5</td>\n",
       "      <td>21</td>\n",
       "    </tr>\n",
       "    <tr>\n",
       "      <th>998</th>\n",
       "      <td>998</td>\n",
       "      <td>256645</td>\n",
       "      <td>166441</td>\n",
       "      <td>1</td>\n",
       "      <td>21.285714</td>\n",
       "      <td>5788.809524</td>\n",
       "      <td>106987.333333</td>\n",
       "      <td>54924.523810</td>\n",
       "      <td>23724.380952</td>\n",
       "      <td>10470.952381</td>\n",
       "      <td>3.714286</td>\n",
       "      <td>0.238095</td>\n",
       "      <td>793.238095</td>\n",
       "      <td>BANCO</td>\n",
       "      <td>Revolvente</td>\n",
       "      <td>Tarjeta de Crédito</td>\n",
       "      <td>Mensual</td>\n",
       "      <td>2009</td>\n",
       "      <td>5</td>\n",
       "      <td>3</td>\n",
       "    </tr>\n",
       "    <tr>\n",
       "      <th>999</th>\n",
       "      <td>999</td>\n",
       "      <td>168517</td>\n",
       "      <td>211733</td>\n",
       "      <td>1</td>\n",
       "      <td>46.750000</td>\n",
       "      <td>1028.875000</td>\n",
       "      <td>28767.500000</td>\n",
       "      <td>33091.750000</td>\n",
       "      <td>26935.000000</td>\n",
       "      <td>700.500000</td>\n",
       "      <td>3.000000</td>\n",
       "      <td>1.625000</td>\n",
       "      <td>700.500000</td>\n",
       "      <td>Other</td>\n",
       "      <td>Other</td>\n",
       "      <td>Línea de Crédito</td>\n",
       "      <td>Mensual</td>\n",
       "      <td>2009</td>\n",
       "      <td>7</td>\n",
       "      <td>8</td>\n",
       "    </tr>\n",
       "  </tbody>\n",
       "</table>\n",
       "<p>1000 rows × 20 columns</p>\n",
       "</div>"
      ],
      "text/plain": [
       "      id  monthly_income  monthly_outcome  class  total_credit_payments  \\\n",
       "0      0          255359           151439      1              66.200000   \n",
       "1      1            8940              789      0              81.000000   \n",
       "2      2           11436             3316      0              20.250000   \n",
       "3      3           17143            47547      1              36.000000   \n",
       "4      4           26990            15585      1               0.000000   \n",
       "..   ...             ...              ...    ...                    ...   \n",
       "995  995            4157            18828      0              14.555556   \n",
       "996  996           14094            35554      1              14.511628   \n",
       "997  997            7437            32840      1              17.100000   \n",
       "998  998          256645           166441      1              21.285714   \n",
       "999  999          168517           211733      1              46.750000   \n",
       "\n",
       "     amount_to_pay_next_payment  maximum_credit_amount  current_balance  \\\n",
       "0                   2265.933333           63081.266667     40074.566667   \n",
       "1                    615.875000           43510.125000     79785.375000   \n",
       "2                    210.500000            3817.375000      2538.000000   \n",
       "3                   7358.000000           22892.500000     14820.000000   \n",
       "4                      0.000000           15016.000000         0.000000   \n",
       "..                          ...                    ...              ...   \n",
       "995                 1876.277778            4759.944444      3059.777778   \n",
       "996                  619.511628           22092.093023      5155.162791   \n",
       "997                  545.233333           36218.066667      6091.366667   \n",
       "998                 5788.809524          106987.333333     54924.523810   \n",
       "999                 1028.875000           28767.500000     33091.750000   \n",
       "\n",
       "     credit_limit  past_due_balance  number_of_payments_due  \\\n",
       "0    37915.933333        144.733333                0.766667   \n",
       "1    32448.500000      18260.375000               17.875000   \n",
       "2      293.875000         28.750000                2.500000   \n",
       "3    19675.000000       7175.000000                0.000000   \n",
       "4    17166.833333       3081.000000                0.000000   \n",
       "..            ...               ...                     ...   \n",
       "995   2945.055556        195.444444                0.333333   \n",
       "996   3154.930233        668.953488                2.255814   \n",
       "997  28270.700000         68.633333                1.800000   \n",
       "998  23724.380952      10470.952381                3.714286   \n",
       "999  26935.000000        700.500000                3.000000   \n",
       "\n",
       "     worst_delinquency  worst_delinquency_past_due_balance  \\\n",
       "0             0.333333                          177.466667   \n",
       "1            15.000000                         5298.000000   \n",
       "2             0.500000                           58.625000   \n",
       "3             0.000000                            0.000000   \n",
       "4             0.000000                            0.000000   \n",
       "..                 ...                                 ...   \n",
       "995           0.166667                          143.777778   \n",
       "996           1.255814                         1184.790698   \n",
       "997           0.533333                          474.066667   \n",
       "998           0.238095                          793.238095   \n",
       "999           1.625000                          700.500000   \n",
       "\n",
       "                            institution_mod account_type_mod  \\\n",
       "0            MERCANCIA PARA HOGAR Y OFICINA      Pagos Fijos   \n",
       "1            MERCANCIA PARA HOGAR Y OFICINA      Pagos Fijos   \n",
       "2            MERCANCIA PARA HOGAR Y OFICINA            Other   \n",
       "3                                     BANCO      Pagos Fijos   \n",
       "4                                     BANCO       Revolvente   \n",
       "..                                      ...              ...   \n",
       "995  SOCIEDAD FINANCIERA DE OBJETO MULTIPLE      Pagos Fijos   \n",
       "996                                   Other      Pagos Fijos   \n",
       "997                                  BANCOS      Pagos Fijos   \n",
       "998                                   BANCO       Revolvente   \n",
       "999                                   Other            Other   \n",
       "\n",
       "        credit_type_mod payment_frequency_mod  account_opening_year  \\\n",
       "0      Línea de Crédito               Mensual                  2016   \n",
       "1    Préstamo Personal                  Other                  2004   \n",
       "2    Préstamo Personal                  Other                  2017   \n",
       "3                 Other               Mensual                  2011   \n",
       "4    Tarjeta de Crédito               Mensual                  2012   \n",
       "..                  ...                   ...                   ...   \n",
       "995  Préstamo Personal                  Other                  2017   \n",
       "996  Préstamo Personal                Mensual                  2016   \n",
       "997  Préstamo Personal                  Other                  2015   \n",
       "998  Tarjeta de Crédito               Mensual                  2009   \n",
       "999    Línea de Crédito               Mensual                  2009   \n",
       "\n",
       "     account_opening_month  account_opening_week  \n",
       "0                        9                    35  \n",
       "1                        5                    21  \n",
       "2                        7                    19  \n",
       "3                        4                    15  \n",
       "4                        5                    22  \n",
       "..                     ...                   ...  \n",
       "995                      9                    39  \n",
       "996                      3                    33  \n",
       "997                      5                    21  \n",
       "998                      5                     3  \n",
       "999                      7                     8  \n",
       "\n",
       "[1000 rows x 20 columns]"
      ]
     },
     "execution_count": 42,
     "metadata": {},
     "output_type": "execute_result"
    }
   ],
   "source": [
    "data_merged"
   ]
  },
  {
   "cell_type": "markdown",
   "id": "6dbd675f",
   "metadata": {},
   "source": [
    "#### Keep the data"
   ]
  },
  {
   "cell_type": "code",
   "execution_count": 43,
   "id": "9e6f03a8",
   "metadata": {},
   "outputs": [],
   "source": [
    "#data_merged.to_csv('processed_data/data_merged.csv', index=False)"
   ]
  },
  {
   "cell_type": "code",
   "execution_count": 44,
   "id": "af1b78bd",
   "metadata": {},
   "outputs": [],
   "source": [
    "data_merged = pd.read_csv('processed_data/data_merged.csv')"
   ]
  },
  {
   "cell_type": "markdown",
   "id": "e784cf65",
   "metadata": {},
   "source": [
    "### Correlation among the variables"
   ]
  },
  {
   "cell_type": "markdown",
   "id": "3d62fadc",
   "metadata": {},
   "source": [
    "#### Person's Coefficient"
   ]
  },
  {
   "cell_type": "code",
   "execution_count": 45,
   "id": "297ac887",
   "metadata": {},
   "outputs": [
    {
     "data": {
      "image/png": "[encoded data removed]",
      "text/plain": [
       "<Figure size 1008x864 with 2 Axes>"
      ]
     },
     "metadata": {},
     "output_type": "display_data"
    }
   ],
   "source": [
    "plt.figure(figsize=(14, 12))\n",
    "p1 = sns.heatmap(data_merged.corr(), cmap=\"YlGnBu\")\n",
    "plt.title(\"Correlation Among the Dataset's Variables using Pearson's Coefficient\", fontsize=18)\n",
    "plt.margins(0.2)\n",
    "fig = p1.get_figure()\n",
    "fig.savefig(\"plots/07_correlation_among_variables.png\")\n",
    "plt.show()"
   ]
  },
  {
   "cell_type": "markdown",
   "id": "ed1a5ee1",
   "metadata": {},
   "source": [
    "We can see that the variables `monthly_income`, `monthly_outcome`, `maximum_credit_amount`, `current_balance`, `credit_limit`, have a relatively high correlation with the `class` variable. That is, if some of those variables increase, the `class` variable will also increase. On the other hand, there is a negative correlation with the following variables: `amount_to_pay_next_payment`, `past_due_balance`, `number_of_payments_due`, `worst_delinquency`, and `worst_delinquency_past_due_balance`"
   ]
  },
  {
   "cell_type": "markdown",
   "id": "74807a6f",
   "metadata": {},
   "source": [
    "#### Mutual Information (MI)"
   ]
  },
  {
   "cell_type": "code",
   "execution_count": 46,
   "id": "7eaeb098",
   "metadata": {},
   "outputs": [
    {
     "data": {
      "text/plain": [
       "'\\nvariables = [\"id\", \"monthly_income\", \"monthly_outcome\",\"class\", \"total_credit_payments\", \\n                    \"amount_to_pay_next_payment\", \"maximum_credit_amount\", \\n                    \"current_balance\", \"credit_limit\", \"past_due_balance\", \\n                    \"number_of_payments_due\", \"worst_delinquency\",  \\n                    \"worst_delinquency_past_due_balance\", \\n            \\'account_opening_year\\', \\'account_opening_month\\',\\n       \\'account_opening_week\\']\\n\\ndata_merged[variables]\\n'"
      ]
     },
     "execution_count": 46,
     "metadata": {},
     "output_type": "execute_result"
    }
   ],
   "source": [
    "\"\"\"\n",
    "variables = [\"id\", \"monthly_income\", \"monthly_outcome\",\"class\", \"total_credit_payments\", \n",
    "                    \"amount_to_pay_next_payment\", \"maximum_credit_amount\", \n",
    "                    \"current_balance\", \"credit_limit\", \"past_due_balance\", \n",
    "                    \"number_of_payments_due\", \"worst_delinquency\",  \n",
    "                    \"worst_delinquency_past_due_balance\", \n",
    "            'account_opening_year', 'account_opening_month',\n",
    "       'account_opening_week']\n",
    "\n",
    "data_merged[variables]\n",
    "\"\"\""
   ]
  },
  {
   "cell_type": "code",
   "execution_count": 47,
   "id": "8c609136",
   "metadata": {},
   "outputs": [],
   "source": [
    "#pairwise2 = pairwise_corr(data[variables], drop_nan=True)"
   ]
  },
  {
   "cell_type": "code",
   "execution_count": 48,
   "id": "570914c9",
   "metadata": {},
   "outputs": [
    {
     "data": {
      "text/plain": [
       "'\\nplt.figure(figsize=(14, 12))\\np1 = sns.heatmap(pairwise2, cmap=\"YlGnBu\")\\nplt.title(\"Correlation Among the Dataset\\'s Variables using Mutual Information\", fontsize=18)\\nplt.margins(0.2)\\nfig = p1.get_figure()\\nsns.set_style(\"darkgrid\")\\nfig.savefig(\"08_correlation_among_variables_mutual_information.png\")\\nplt.show()\\n'"
      ]
     },
     "execution_count": 48,
     "metadata": {},
     "output_type": "execute_result"
    }
   ],
   "source": [
    "\"\"\"\n",
    "plt.figure(figsize=(14, 12))\n",
    "p1 = sns.heatmap(pairwise2, cmap=\"YlGnBu\")\n",
    "plt.title(\"Correlation Among the Dataset's Variables using Mutual Information\", fontsize=18)\n",
    "plt.margins(0.2)\n",
    "fig = p1.get_figure()\n",
    "sns.set_style(\"darkgrid\")\n",
    "fig.savefig(\"08_correlation_among_variables_mutual_information.png\")\n",
    "plt.show()\n",
    "\"\"\""
   ]
  },
  {
   "cell_type": "markdown",
   "id": "042b8570",
   "metadata": {},
   "source": [
    "![CorrelationMutualInformation](plots/08.png)"
   ]
  },
  {
   "cell_type": "markdown",
   "id": "1d736dd4",
   "metadata": {},
   "source": [
    "### Treat the skewed variables"
   ]
  },
  {
   "cell_type": "markdown",
   "id": "d9c7cb71",
   "metadata": {},
   "source": [
    "#### `data_users`"
   ]
  },
  {
   "cell_type": "code",
   "execution_count": 49,
   "id": "574fecfa",
   "metadata": {},
   "outputs": [],
   "source": [
    "data_merged['monthly_income'] = np.log(data_merged['monthly_income'])\n",
    "data_merged['monthly_outcome'] = np.log(data_merged['monthly_outcome'])"
   ]
  },
  {
   "cell_type": "code",
   "execution_count": 50,
   "id": "a62c64f8",
   "metadata": {},
   "outputs": [
    {
     "data": {
      "image/png": "[encoded data removed]",
      "text/plain": [
       "<Figure size 864x504 with 2 Axes>"
      ]
     },
     "metadata": {},
     "output_type": "display_data"
    }
   ],
   "source": [
    "# Set up the matplotlib figure\n",
    "sns.set_palette(\"tab10\")\n",
    "fig, axes = plt.subplots(1, 2, figsize=(12, 7), sharex=True)\n",
    "fig.suptitle(\"Monthly Income and outcome for each user's class\")\n",
    "\n",
    "#plt.figure(figsize=(8, 6))\n",
    "sns.violinplot(x='class', y='monthly_income', data=data_merged, showfliers=True, ax=axes[0])\n",
    "#plt.show()\n",
    "\n",
    "#plt.figure(figsize=(8, 6))\n",
    "sns.violinplot(x='class', y='monthly_outcome', data=data_merged, showfliers=True, ax=axes[1])\n",
    "#plt.show()\n",
    "\n",
    "#axes1, axes2 = axes.ravel()\n",
    "#axes1.set_ylim(0, 0.5e6) \n",
    "#axes2.set_ylim(0, 0.5e6) \n",
    "\n",
    "#plt.setp(axes, yticks=[])\n",
    "#fig = p1.get_figure()\n",
    "fig.savefig(\"plots/09_datauser_skewed_after_treatment.png\")\n",
    "plt.tight_layout()"
   ]
  },
  {
   "cell_type": "code",
   "execution_count": 51,
   "id": "fac64fe6",
   "metadata": {},
   "outputs": [
    {
     "data": {
      "text/plain": [
       "monthly_income    -0.264397\n",
       "monthly_outcome   -0.332458\n",
       "dtype: float64"
      ]
     },
     "execution_count": 51,
     "metadata": {},
     "output_type": "execute_result"
    }
   ],
   "source": [
    "data_merged[['monthly_income', 'monthly_outcome']].skew().sort_values(ascending=False)"
   ]
  },
  {
   "cell_type": "markdown",
   "id": "eefa6258",
   "metadata": {},
   "source": [
    "`data_credit_reports`"
   ]
  },
  {
   "cell_type": "code",
   "execution_count": 52,
   "id": "a76c165d",
   "metadata": {},
   "outputs": [],
   "source": [
    "variables = [\"total_credit_payments\", \n",
    "                    \"amount_to_pay_next_payment\", \"maximum_credit_amount\", \n",
    "                    \"current_balance\", \"credit_limit\", \"past_due_balance\", \n",
    "                    \"number_of_payments_due\", \"worst_delinquency\",  \n",
    "                    \"worst_delinquency_past_due_balance\"]\n",
    "\n",
    "data_merged[variables] = data_merged[variables] +1"
   ]
  },
  {
   "cell_type": "code",
   "execution_count": 53,
   "id": "5a357c91",
   "metadata": {},
   "outputs": [],
   "source": [
    "# Log transform multiple columns in dataframe \n",
    "data_merged[variables] = data_merged[variables].apply(lambda x: np.log(x))"
   ]
  },
  {
   "cell_type": "code",
   "execution_count": 54,
   "id": "a879a4f0",
   "metadata": {},
   "outputs": [
    {
     "name": "stderr",
     "output_type": "stream",
     "text": [
      "<ipython-input-54-b47eeb1b47e1>:4: UserWarning: To output multiple subplots, the figure containing the passed axes is being cleared\n",
      "  data_merged[[\"total_credit_payments\",\n"
     ]
    },
    {
     "data": {
      "image/png": "[encoded data removed]",
      "text/plain": [
       "<Figure size 936x1152 with 9 Axes>"
      ]
     },
     "metadata": {},
     "output_type": "display_data"
    }
   ],
   "source": [
    "fig = plt.figure(figsize = (13,16))\n",
    "ax = fig.gca()\n",
    "#df.hist(ax = ax)\n",
    "data_merged[[\"total_credit_payments\", \n",
    "                    \"amount_to_pay_next_payment\", \"maximum_credit_amount\", \n",
    "                    \"current_balance\", \"credit_limit\", \"past_due_balance\", \n",
    "                    \"number_of_payments_due\", \"worst_delinquency\",  \n",
    "                    \"worst_delinquency_past_due_balance\"]].hist(ax=ax)\n",
    "#fig = p1.get_figure()\n",
    "fig.savefig(\"plots/10_datacredit_reports_quantitative_variables_distribution_after_treatment.png\")\n",
    "plt.show()"
   ]
  },
  {
   "cell_type": "code",
   "execution_count": 55,
   "id": "677e6c59",
   "metadata": {},
   "outputs": [
    {
     "data": {
      "text/plain": [
       "worst_delinquency                     1.295375\n",
       "number_of_payments_due                0.816122\n",
       "worst_delinquency_past_due_balance   -0.160485\n",
       "total_credit_payments                -0.323603\n",
       "past_due_balance                     -0.413872\n",
       "maximum_credit_amount                -1.080572\n",
       "amount_to_pay_next_payment           -1.542002\n",
       "current_balance                      -2.070861\n",
       "credit_limit                         -2.341017\n",
       "dtype: float64"
      ]
     },
     "execution_count": 55,
     "metadata": {},
     "output_type": "execute_result"
    }
   ],
   "source": [
    "variables = [\"total_credit_payments\", \n",
    "                    \"amount_to_pay_next_payment\", \"maximum_credit_amount\", \n",
    "                    \"current_balance\", \"credit_limit\", \"past_due_balance\", \n",
    "                    \"number_of_payments_due\", \"worst_delinquency\",  \n",
    "                    \"worst_delinquency_past_due_balance\"]\n",
    "\n",
    "data_merged[variables].skew().sort_values(ascending=False)"
   ]
  },
  {
   "cell_type": "markdown",
   "id": "2f336e8c",
   "metadata": {},
   "source": [
    "### Split the data"
   ]
  },
  {
   "cell_type": "code",
   "execution_count": 56,
   "id": "5a947a7e",
   "metadata": {},
   "outputs": [
    {
     "data": {
      "text/plain": [
       "Index(['id', 'monthly_income', 'monthly_outcome', 'class',\n",
       "       'total_credit_payments', 'amount_to_pay_next_payment',\n",
       "       'maximum_credit_amount', 'current_balance', 'credit_limit',\n",
       "       'past_due_balance', 'number_of_payments_due', 'worst_delinquency',\n",
       "       'worst_delinquency_past_due_balance', 'institution_mod',\n",
       "       'account_type_mod', 'credit_type_mod', 'payment_frequency_mod',\n",
       "       'account_opening_year', 'account_opening_month',\n",
       "       'account_opening_week'],\n",
       "      dtype='object')"
      ]
     },
     "execution_count": 56,
     "metadata": {},
     "output_type": "execute_result"
    }
   ],
   "source": [
    "data_merged.columns"
   ]
  },
  {
   "cell_type": "code",
   "execution_count": 57,
   "id": "b85b8f64",
   "metadata": {},
   "outputs": [],
   "source": [
    "from sklearn.model_selection import StratifiedShuffleSplit"
   ]
  },
  {
   "cell_type": "code",
   "execution_count": 58,
   "id": "af0c327c",
   "metadata": {},
   "outputs": [],
   "source": [
    "split = StratifiedShuffleSplit(n_splits=1, test_size=0.2)\n",
    "#for train_indices, test_indices in split.split(data_merged, data_merged[[\"class\",  \"credit_type_mod\", \"payment_frequency_mod\"]]):\n",
    "for train_indices, test_indices in split.split(data_merged, data_merged[[\"class\",  \"institution_mod\", \"payment_frequency_mod\"]]):\n",
    "    strat_train_set = data_merged.loc[train_indices]\n",
    "    strat_test_set = data_merged.loc[test_indices]"
   ]
  },
  {
   "cell_type": "code",
   "execution_count": 59,
   "id": "c3f344f7",
   "metadata": {},
   "outputs": [
    {
     "data": {
      "image/png": "[encoded data removed]",
      "text/plain": [
       "<Figure size 720x720 with 4 Axes>"
      ]
     },
     "metadata": {},
     "output_type": "display_data"
    }
   ],
   "source": [
    "fig = plt.figure(figsize = (10,10))\n",
    "\n",
    "plt.subplot(2,2, 1)\n",
    "strat_train_set[\"class\"].hist()\n",
    "#strat_train_set[\"institution_mod\"].hist()\n",
    "#strat_train_set[\"credit_type_mod\"].hist()\n",
    "#strat_train_set[\"payment_frequency_mod\"].hist()\n",
    "\n",
    "plt.subplot(2, 2, 2)\n",
    "strat_test_set[\"class\"].hist()\n",
    "#strat_test_set[\"institution_mod\"].hist()\n",
    "#strat_test_set[\"credit_type_mod\"].hist()\n",
    "#strat_test_set[\"payment_frequency_mod\"].hist()\n",
    "\n",
    "plt.subplot(2,2, 3)\n",
    "strat_train_set[\"payment_frequency_mod\"].hist()\n",
    "\n",
    "plt.subplot(2,2, 4)\n",
    "\n",
    "strat_test_set[\"payment_frequency_mod\"].hist()\n",
    "#fig = p1.get_figure()\n",
    "fig.savefig(\"plots/11_sampling_train_test_sets.png\")\n",
    "plt.show()"
   ]
  },
  {
   "cell_type": "markdown",
   "id": "c03ed061",
   "metadata": {},
   "source": [
    "### Encode the categorical variables and drop the useless variables"
   ]
  },
  {
   "cell_type": "code",
   "execution_count": 60,
   "id": "26837865",
   "metadata": {},
   "outputs": [
    {
     "data": {
      "text/plain": [
       "Línea de Crédito      318\n",
       "Préstamo Personal     264\n",
       "Tarjeta de Crédito    220\n",
       "Other                 198\n",
       "Name: credit_type_mod, dtype: int64"
      ]
     },
     "execution_count": 60,
     "metadata": {},
     "output_type": "execute_result"
    }
   ],
   "source": [
    "data_merged['credit_type_mod'].value_counts()"
   ]
  },
  {
   "cell_type": "code",
   "execution_count": 61,
   "id": "c616b282",
   "metadata": {},
   "outputs": [],
   "source": [
    "from sklearn.preprocessing import OneHotEncoder, LabelEncoder, LabelBinarizer\n",
    "\n",
    "class FeatureEncoder(BaseEstimator, TransformerMixin):\n",
    "    def fit(self, X, y=None):\n",
    "        return self\n",
    "    \n",
    "    def transform(self, X):\n",
    "        #Label enconder\n",
    "        encoder_label = LabelEncoder()\n",
    "        X[\"institution_enc\"] = encoder_label.fit_transform(X[[\"institution_mod\"]].values.ravel())\n",
    "        \n",
    "        # Label Binarizer\n",
    "        encoder_binary = LabelBinarizer()\n",
    "        X[\"payment_frequency_enc\"] = encoder_binary.fit_transform(X[[\"payment_frequency_mod\"]].values.ravel())\n",
    "        \n",
    "        #OneHot encoder\n",
    "        encoder_onehot = OneHotEncoder()\n",
    "        matrix = encoder_onehot.fit_transform(X[[\"account_type_mod\"]].values.reshape(-1,1)).toarray()\n",
    "        \n",
    "        column_names = [\"account_PF\", \"account_RE\", \"account_oth\"]\n",
    "        \n",
    "        for i in range(len(matrix.T)):\n",
    "            X[column_names[i]] = matrix.T[i]\n",
    "        \n",
    "        \n",
    "        matrix = encoder_onehot.fit_transform(X[['credit_type_mod']].values.reshape(-1,1)).toarray()\n",
    "        \n",
    "        column_names = [\"cred_LC\", \"cred_PP\", \"cred_TC\", \"cred_oth\"]\n",
    "        \n",
    "        for i in range(len(matrix.T)):\n",
    "            X[column_names[i]] = matrix.T[i]\n",
    "        \n",
    "        return X"
   ]
  },
  {
   "cell_type": "code",
   "execution_count": 62,
   "id": "0ffb338d",
   "metadata": {},
   "outputs": [],
   "source": [
    "class FeatureDropper(BaseEstimator, TransformerMixin):\n",
    "    def fit(self, X, y=None):\n",
    "        return self\n",
    "    \n",
    "    def transform(self, X):\n",
    "        return X.drop([\"institution_mod\", \"payment_frequency_mod\", \"account_type_mod\", \n",
    "                       \"credit_type_mod\", \"id\", \"total_credit_payments\", \n",
    "                      \"account_opening_month\", \"account_opening_week\"], axis=1, errors='ignore')"
   ]
  },
  {
   "cell_type": "code",
   "execution_count": 63,
   "id": "8edb14e3",
   "metadata": {},
   "outputs": [],
   "source": [
    "pipeline = Pipeline([('featureencoder', FeatureEncoder()),\n",
    "                    ('featuredropper', FeatureDropper())])"
   ]
  },
  {
   "cell_type": "markdown",
   "id": "4eb47357",
   "metadata": {},
   "source": [
    "#### Format the train and test sets"
   ]
  },
  {
   "cell_type": "markdown",
   "id": "a523a4ee",
   "metadata": {},
   "source": [
    "**Train sets**"
   ]
  },
  {
   "cell_type": "code",
   "execution_count": 64,
   "id": "8406be83",
   "metadata": {},
   "outputs": [],
   "source": [
    "strat_train_set = pipeline.fit_transform(strat_train_set)"
   ]
  },
  {
   "cell_type": "code",
   "execution_count": 65,
   "id": "432cddcb",
   "metadata": {},
   "outputs": [
    {
     "name": "stdout",
     "output_type": "stream",
     "text": [
      "<class 'pandas.core.frame.DataFrame'>\n",
      "Int64Index: 800 entries, 761 to 212\n",
      "Data columns (total 21 columns):\n",
      " #   Column                              Non-Null Count  Dtype  \n",
      "---  ------                              --------------  -----  \n",
      " 0   monthly_income                      800 non-null    float64\n",
      " 1   monthly_outcome                     800 non-null    float64\n",
      " 2   class                               800 non-null    int64  \n",
      " 3   amount_to_pay_next_payment          800 non-null    float64\n",
      " 4   maximum_credit_amount               800 non-null    float64\n",
      " 5   current_balance                     800 non-null    float64\n",
      " 6   credit_limit                        800 non-null    float64\n",
      " 7   past_due_balance                    800 non-null    float64\n",
      " 8   number_of_payments_due              800 non-null    float64\n",
      " 9   worst_delinquency                   800 non-null    float64\n",
      " 10  worst_delinquency_past_due_balance  800 non-null    float64\n",
      " 11  account_opening_year                800 non-null    int64  \n",
      " 12  institution_enc                     800 non-null    int32  \n",
      " 13  payment_frequency_enc               800 non-null    int32  \n",
      " 14  account_PF                          800 non-null    float64\n",
      " 15  account_RE                          800 non-null    float64\n",
      " 16  account_oth                         800 non-null    float64\n",
      " 17  cred_LC                             800 non-null    float64\n",
      " 18  cred_PP                             800 non-null    float64\n",
      " 19  cred_TC                             800 non-null    float64\n",
      " 20  cred_oth                            800 non-null    float64\n",
      "dtypes: float64(17), int32(2), int64(2)\n",
      "memory usage: 131.2 KB\n"
     ]
    }
   ],
   "source": [
    "strat_train_set.info()"
   ]
  },
  {
   "cell_type": "markdown",
   "id": "94c3ae30",
   "metadata": {},
   "source": [
    "**Test set**"
   ]
  },
  {
   "cell_type": "code",
   "execution_count": 66,
   "id": "f1c36ebe",
   "metadata": {},
   "outputs": [],
   "source": [
    "strat_test_set = pipeline.fit_transform(strat_test_set)"
   ]
  },
  {
   "cell_type": "code",
   "execution_count": 67,
   "id": "acf0dc96",
   "metadata": {},
   "outputs": [
    {
     "name": "stdout",
     "output_type": "stream",
     "text": [
      "<class 'pandas.core.frame.DataFrame'>\n",
      "Int64Index: 200 entries, 491 to 62\n",
      "Data columns (total 21 columns):\n",
      " #   Column                              Non-Null Count  Dtype  \n",
      "---  ------                              --------------  -----  \n",
      " 0   monthly_income                      200 non-null    float64\n",
      " 1   monthly_outcome                     200 non-null    float64\n",
      " 2   class                               200 non-null    int64  \n",
      " 3   amount_to_pay_next_payment          200 non-null    float64\n",
      " 4   maximum_credit_amount               200 non-null    float64\n",
      " 5   current_balance                     200 non-null    float64\n",
      " 6   credit_limit                        200 non-null    float64\n",
      " 7   past_due_balance                    200 non-null    float64\n",
      " 8   number_of_payments_due              200 non-null    float64\n",
      " 9   worst_delinquency                   200 non-null    float64\n",
      " 10  worst_delinquency_past_due_balance  200 non-null    float64\n",
      " 11  account_opening_year                200 non-null    int64  \n",
      " 12  institution_enc                     200 non-null    int32  \n",
      " 13  payment_frequency_enc               200 non-null    int32  \n",
      " 14  account_PF                          200 non-null    float64\n",
      " 15  account_RE                          200 non-null    float64\n",
      " 16  account_oth                         200 non-null    float64\n",
      " 17  cred_LC                             200 non-null    float64\n",
      " 18  cred_PP                             200 non-null    float64\n",
      " 19  cred_TC                             200 non-null    float64\n",
      " 20  cred_oth                            200 non-null    float64\n",
      "dtypes: float64(17), int32(2), int64(2)\n",
      "memory usage: 32.8 KB\n"
     ]
    }
   ],
   "source": [
    "strat_test_set.info()"
   ]
  },
  {
   "cell_type": "markdown",
   "id": "3bb6740d",
   "metadata": {},
   "source": [
    "## Modeling"
   ]
  },
  {
   "cell_type": "markdown",
   "id": "7f84e160",
   "metadata": {},
   "source": [
    "### Random Forests"
   ]
  },
  {
   "cell_type": "code",
   "execution_count": 68,
   "id": "7c0fcade",
   "metadata": {},
   "outputs": [],
   "source": [
    "from sklearn.preprocessing import StandardScaler\n",
    "\n",
    "X = strat_train_set.drop(['class'], axis=1)\n",
    "Y = strat_train_set['class']\n",
    "\n",
    "scaler = StandardScaler()\n",
    "X_data1 = scaler.fit_transform(X)\n",
    "\n",
    "Y_data1 = Y.to_numpy() # we transform it because the X_data is a numpy array"
   ]
  },
  {
   "cell_type": "code",
   "execution_count": 69,
   "id": "e63ee655",
   "metadata": {},
   "outputs": [],
   "source": [
    "X_test = strat_test_set.drop([\"class\"], axis=1)\n",
    "y_test = strat_test_set['class']\n",
    "\n",
    "scaler = StandardScaler()\n",
    "X_data_test1 = scaler.fit_transform(X_test)\n",
    "y_data_test1 = y_test.to_numpy()"
   ]
  },
  {
   "cell_type": "code",
   "execution_count": 70,
   "id": "ac557a12",
   "metadata": {},
   "outputs": [
    {
     "data": {
      "text/plain": [
       "GridSearchCV(cv=3, estimator=RandomForestClassifier(),\n",
       "             param_grid=[{'max_depth': [None, 5, 10],\n",
       "                          'min_samples_split': [2, 3, 4],\n",
       "                          'n_estimators': [10, 100, 200, 500]}],\n",
       "             return_train_score=True, scoring='accuracy')"
      ]
     },
     "execution_count": 70,
     "metadata": {},
     "output_type": "execute_result"
    }
   ],
   "source": [
    "from sklearn.ensemble import RandomForestClassifier\n",
    "from sklearn.model_selection import GridSearchCV \n",
    "\n",
    "clf = RandomForestClassifier()\n",
    "\n",
    "# the following hyperparameters will be used to build all the possible combinations and test them\n",
    "param_grid = [\n",
    "    {'n_estimators': [10, 100, 200, 500], \"max_depth\": [None, 5, 10], \"min_samples_split\": [2, 3, 4]}\n",
    "]\n",
    "\n",
    "grid_search = GridSearchCV(clf, param_grid, cv=3, scoring=\"accuracy\", return_train_score=True)\n",
    "grid_search.fit(X_data1, Y_data1)"
   ]
  },
  {
   "cell_type": "code",
   "execution_count": 71,
   "id": "caf772a0",
   "metadata": {},
   "outputs": [],
   "source": [
    "final_clf = grid_search.best_estimator_"
   ]
  },
  {
   "cell_type": "code",
   "execution_count": 72,
   "id": "cd6081b5",
   "metadata": {},
   "outputs": [
    {
     "data": {
      "text/plain": [
       "RandomForestClassifier(max_depth=10, min_samples_split=4, n_estimators=200)"
      ]
     },
     "execution_count": 72,
     "metadata": {},
     "output_type": "execute_result"
    }
   ],
   "source": [
    "final_clf"
   ]
  },
  {
   "cell_type": "code",
   "execution_count": 73,
   "id": "ff9a5c76",
   "metadata": {},
   "outputs": [
    {
     "data": {
      "text/plain": [
       "0.865"
      ]
     },
     "execution_count": 73,
     "metadata": {},
     "output_type": "execute_result"
    }
   ],
   "source": [
    "final_clf.score(X_data_test1, y_data_test1)"
   ]
  },
  {
   "cell_type": "markdown",
   "id": "8c755312",
   "metadata": {},
   "source": [
    "#### Selecting the most important features"
   ]
  },
  {
   "cell_type": "code",
   "execution_count": 74,
   "id": "39709827",
   "metadata": {},
   "outputs": [
    {
     "name": "stdout",
     "output_type": "stream",
     "text": [
      "[0.04932152 0.06089754 0.0568665  0.07479775 0.04652351 0.07383447\n",
      " 0.1781973  0.09081931 0.15306191 0.1093405  0.02124306 0.02726077\n",
      " 0.00555511 0.00513835 0.00318386 0.00516452 0.00816053 0.00306492\n",
      " 0.00395975 0.02360882]\n"
     ]
    }
   ],
   "source": [
    "print(final_clf.feature_importances_)\n",
    "mask = final_clf.feature_importances_ > 0.1"
   ]
  },
  {
   "cell_type": "code",
   "execution_count": 75,
   "id": "2a99d254",
   "metadata": {},
   "outputs": [
    {
     "data": {
      "text/plain": [
       "array([False, False, False, False, False, False,  True, False,  True,\n",
       "        True, False, False, False, False, False, False, False, False,\n",
       "       False, False])"
      ]
     },
     "execution_count": 75,
     "metadata": {},
     "output_type": "execute_result"
    }
   ],
   "source": [
    "mask"
   ]
  },
  {
   "cell_type": "code",
   "execution_count": 76,
   "id": "70ede23b",
   "metadata": {},
   "outputs": [],
   "source": [
    "final_data = pipeline.fit_transform(data_merged)\n",
    "X = final_data.drop([\"class\"], axis=1)\n",
    "y = final_data['class']\n",
    "\n",
    "#scaler = StandardScaler()\n",
    "#X = scaler.fit_transform(X)\n",
    "#y = y.to_numpy()"
   ]
  },
  {
   "cell_type": "code",
   "execution_count": 77,
   "id": "da65f805",
   "metadata": {},
   "outputs": [
    {
     "name": "stdout",
     "output_type": "stream",
     "text": [
      "Index(['past_due_balance', 'worst_delinquency',\n",
      "       'worst_delinquency_past_due_balance'],\n",
      "      dtype='object')\n"
     ]
    }
   ],
   "source": [
    "X_reduced = X.loc[:, mask]\n",
    "print(X_reduced.columns)"
   ]
  },
  {
   "cell_type": "code",
   "execution_count": 78,
   "id": "5a18d6b6",
   "metadata": {},
   "outputs": [
    {
     "name": "stdout",
     "output_type": "stream",
     "text": [
      "Fitting estimator with 20 features.\n",
      "Fitting estimator with 10 features.\n"
     ]
    },
    {
     "data": {
      "text/plain": [
       "RFE(estimator=RandomForestClassifier(), n_features_to_select=6, step=10,\n",
       "    verbose=1)"
      ]
     },
     "execution_count": 78,
     "metadata": {},
     "output_type": "execute_result"
    }
   ],
   "source": [
    "from sklearn.feature_selection import RFE\n",
    "rfe = RFE(estimator=RandomForestClassifier(), n_features_to_select=6, step=10, verbose=1)\n",
    "rfe.fit(X_data1, Y_data1)"
   ]
  },
  {
   "cell_type": "code",
   "execution_count": 79,
   "id": "bcf25058",
   "metadata": {},
   "outputs": [
    {
     "name": "stdout",
     "output_type": "stream",
     "text": [
      "Index(['maximum_credit_amount', 'credit_limit', 'past_due_balance',\n",
      "       'number_of_payments_due', 'worst_delinquency',\n",
      "       'worst_delinquency_past_due_balance'],\n",
      "      dtype='object')\n"
     ]
    }
   ],
   "source": [
    "print(X.columns[rfe.support_])"
   ]
  },
  {
   "cell_type": "markdown",
   "id": "594a1982",
   "metadata": {},
   "source": [
    "##### Second Model"
   ]
  },
  {
   "cell_type": "code",
   "execution_count": 80,
   "id": "e45d1485",
   "metadata": {},
   "outputs": [],
   "source": [
    "X = strat_train_set.drop(['class'], axis=1)\n",
    "Y = strat_train_set['class']\n",
    "\n",
    "X = X[['maximum_credit_amount', 'credit_limit', 'past_due_balance',\n",
    "       'number_of_payments_due', 'worst_delinquency',\n",
    "       'worst_delinquency_past_due_balance']]\n",
    "\n",
    "scaler = StandardScaler()\n",
    "X_data2 = scaler.fit_transform(X)\n",
    "\n",
    "Y_data2 = Y.to_numpy() # we transform it because the X_data is a numpu array"
   ]
  },
  {
   "cell_type": "code",
   "execution_count": 81,
   "id": "2fc9af28",
   "metadata": {},
   "outputs": [],
   "source": [
    "X_test = strat_test_set.drop([\"class\"], axis=1)\n",
    "y_test = strat_test_set['class']\n",
    "\n",
    "X_test = X_test[['maximum_credit_amount', 'credit_limit', 'past_due_balance',\n",
    "       'number_of_payments_due', 'worst_delinquency',\n",
    "       'worst_delinquency_past_due_balance']]\n",
    "\n",
    "scaler = StandardScaler()\n",
    "X_data_test2 = scaler.fit_transform(X_test)\n",
    "y_data_test2 = y_test.to_numpy()"
   ]
  },
  {
   "cell_type": "code",
   "execution_count": 82,
   "id": "ba394a6a",
   "metadata": {},
   "outputs": [
    {
     "data": {
      "text/plain": [
       "GridSearchCV(cv=3, estimator=RandomForestClassifier(),\n",
       "             param_grid=[{'max_depth': [None, 5, 10],\n",
       "                          'min_samples_split': [2, 3, 4],\n",
       "                          'n_estimators': [10, 100, 200, 500]}],\n",
       "             return_train_score=True, scoring='accuracy')"
      ]
     },
     "execution_count": 82,
     "metadata": {},
     "output_type": "execute_result"
    }
   ],
   "source": [
    "clf2 = RandomForestClassifier()\n",
    "\n",
    "# the following hyperparameters will be used to build all the possible combinations and test them\n",
    "param_grid = [\n",
    "    {'n_estimators': [10, 100, 200, 500], \"max_depth\": [None, 5, 10], \"min_samples_split\": [2, 3, 4]}\n",
    "]\n",
    "\n",
    "grid_search = GridSearchCV(clf2, param_grid, cv=3, scoring=\"accuracy\", return_train_score=True)\n",
    "grid_search.fit(X_data2, Y_data2)"
   ]
  },
  {
   "cell_type": "code",
   "execution_count": 83,
   "id": "40f554bf",
   "metadata": {},
   "outputs": [],
   "source": [
    "final_clf2 = grid_search.best_estimator_"
   ]
  },
  {
   "cell_type": "code",
   "execution_count": 84,
   "id": "9b4e541f",
   "metadata": {},
   "outputs": [
    {
     "data": {
      "text/plain": [
       "RandomForestClassifier(min_samples_split=3, n_estimators=500)"
      ]
     },
     "execution_count": 84,
     "metadata": {},
     "output_type": "execute_result"
    }
   ],
   "source": [
    "final_clf2"
   ]
  },
  {
   "cell_type": "code",
   "execution_count": 85,
   "id": "d8b593ec",
   "metadata": {},
   "outputs": [
    {
     "data": {
      "text/plain": [
       "0.835"
      ]
     },
     "execution_count": 85,
     "metadata": {},
     "output_type": "execute_result"
    }
   ],
   "source": [
    "final_clf2.score(X_data_test2, y_data_test2)"
   ]
  },
  {
   "cell_type": "markdown",
   "id": "9a3ad520",
   "metadata": {},
   "source": [
    "##### Third model"
   ]
  },
  {
   "cell_type": "code",
   "execution_count": 86,
   "id": "91a9db46",
   "metadata": {},
   "outputs": [],
   "source": [
    "X = strat_train_set.drop(['class'], axis=1)\n",
    "Y = strat_train_set['class']\n",
    "\n",
    "X = X[['past_due_balance', 'worst_delinquency',\n",
    "       'worst_delinquency_past_due_balance']]\n",
    "\n",
    "scaler = StandardScaler()\n",
    "X_data3 = scaler.fit_transform(X)\n",
    "\n",
    "Y_data3 = Y.to_numpy() # we transform it because the X_data is a numpu array"
   ]
  },
  {
   "cell_type": "code",
   "execution_count": 87,
   "id": "9cf729e1",
   "metadata": {},
   "outputs": [],
   "source": [
    "X_test = strat_test_set.drop([\"class\"], axis=1)\n",
    "y_test = strat_test_set['class']\n",
    "\n",
    "X_test = X_test[['past_due_balance', 'worst_delinquency',\n",
    "       'worst_delinquency_past_due_balance']]\n",
    "\n",
    "scaler = StandardScaler()\n",
    "X_data_test3 = scaler.fit_transform(X_test)\n",
    "y_data_test3 = y_test.to_numpy()"
   ]
  },
  {
   "cell_type": "code",
   "execution_count": 88,
   "id": "e6167f47",
   "metadata": {},
   "outputs": [
    {
     "data": {
      "text/plain": [
       "GridSearchCV(cv=3, estimator=RandomForestClassifier(),\n",
       "             param_grid=[{'max_depth': [None, 5, 10],\n",
       "                          'min_samples_split': [2, 3, 4],\n",
       "                          'n_estimators': [10, 100, 200, 500]}],\n",
       "             return_train_score=True, scoring='accuracy')"
      ]
     },
     "execution_count": 88,
     "metadata": {},
     "output_type": "execute_result"
    }
   ],
   "source": [
    "clf3 = RandomForestClassifier()\n",
    "\n",
    "# the following hyperparameters will be used to build all the possible combinations and test them\n",
    "param_grid = [\n",
    "    {'n_estimators': [10, 100, 200, 500], \"max_depth\": [None, 5, 10], \"min_samples_split\": [2, 3, 4]}\n",
    "]\n",
    "\n",
    "grid_search = GridSearchCV(clf3, param_grid, cv=3, scoring=\"accuracy\", return_train_score=True)\n",
    "grid_search.fit(X_data3, Y_data3)"
   ]
  },
  {
   "cell_type": "code",
   "execution_count": 89,
   "id": "2df26a90",
   "metadata": {},
   "outputs": [],
   "source": [
    "final_clf3 = grid_search.best_estimator_"
   ]
  },
  {
   "cell_type": "code",
   "execution_count": 90,
   "id": "5ce0c685",
   "metadata": {},
   "outputs": [
    {
     "data": {
      "text/plain": [
       "0.81"
      ]
     },
     "execution_count": 90,
     "metadata": {},
     "output_type": "execute_result"
    }
   ],
   "source": [
    "final_clf3.score(X_data_test3, y_data_test3)"
   ]
  },
  {
   "cell_type": "markdown",
   "id": "7d36c461",
   "metadata": {},
   "source": [
    "---\n",
    "\n",
    "### Logistic Regression"
   ]
  },
  {
   "cell_type": "code",
   "execution_count": 91,
   "id": "91e5542d",
   "metadata": {},
   "outputs": [],
   "source": [
    "from sklearn.preprocessing import StandardScaler\n",
    "\n",
    "X = strat_train_set.drop(['class'], axis=1)\n",
    "Y = strat_train_set['class']\n",
    "\n",
    "scaler = StandardScaler()\n",
    "X_data1 = scaler.fit_transform(X)\n",
    "\n",
    "Y_data1 = Y.to_numpy() # we transform it because the X_data is a numpy array"
   ]
  },
  {
   "cell_type": "code",
   "execution_count": 92,
   "id": "b6820ecd",
   "metadata": {},
   "outputs": [],
   "source": [
    "X_test = strat_test_set.drop([\"class\"], axis=1)\n",
    "y_test = strat_test_set['class']\n",
    "\n",
    "scaler = StandardScaler()\n",
    "X_data_test1 = scaler.fit_transform(X_test)\n",
    "y_data_test1 = y_test.to_numpy()"
   ]
  },
  {
   "cell_type": "code",
   "execution_count": 93,
   "id": "fe9e38a3",
   "metadata": {},
   "outputs": [
    {
     "data": {
      "text/plain": [
       "LogisticRegression()"
      ]
     },
     "execution_count": 93,
     "metadata": {},
     "output_type": "execute_result"
    }
   ],
   "source": [
    "from sklearn.linear_model import LogisticRegression\n",
    "logreg = LogisticRegression()\n",
    "\n",
    "logreg.fit(X_data1, Y_data1)\n",
    "#y_pred = logreg.predict(X_test)"
   ]
  },
  {
   "cell_type": "code",
   "execution_count": 94,
   "id": "bde05dd4",
   "metadata": {},
   "outputs": [
    {
     "data": {
      "text/plain": [
       "0.86"
      ]
     },
     "execution_count": 94,
     "metadata": {},
     "output_type": "execute_result"
    }
   ],
   "source": [
    "logreg.score(X_data_test1, y_data_test1)"
   ]
  },
  {
   "cell_type": "markdown",
   "id": "a9ce8604",
   "metadata": {},
   "source": [
    "Coefficients"
   ]
  },
  {
   "cell_type": "code",
   "execution_count": 95,
   "id": "0861f474",
   "metadata": {},
   "outputs": [
    {
     "data": {
      "text/plain": [
       "array([ 0.24242617,  0.29761159, -0.88738675,  0.57483382,  0.76671232,\n",
       "        0.21464084, -1.35119061, -0.22024934, -0.93387815, -0.1206412 ,\n",
       "        0.04536787, -0.13646252, -0.21447149, -0.01000869, -0.03727323,\n",
       "        0.05038928, -0.29775616, -0.0718025 , -0.02414548,  0.42503896])"
      ]
     },
     "execution_count": 95,
     "metadata": {},
     "output_type": "execute_result"
    }
   ],
   "source": [
    "logreg.coef_[0]"
   ]
  },
  {
   "cell_type": "code",
   "execution_count": 96,
   "id": "cc12b98e",
   "metadata": {},
   "outputs": [
    {
     "data": {
      "text/plain": [
       "{'monthly_income': 0.24242617079054066,\n",
       " 'monthly_outcome': 0.29761158701991464,\n",
       " 'amount_to_pay_next_payment': -0.887386748165137,\n",
       " 'maximum_credit_amount': 0.5748338170409794,\n",
       " 'current_balance': 0.7667123219607694,\n",
       " 'credit_limit': 0.21464084411455922,\n",
       " 'past_due_balance': -1.3511906092085977,\n",
       " 'number_of_payments_due': -0.22024934209719751,\n",
       " 'worst_delinquency': -0.9338781491582093,\n",
       " 'worst_delinquency_past_due_balance': -0.12064119989695703,\n",
       " 'account_opening_year': 0.04536787182967224,\n",
       " 'institution_enc': -0.13646251707439822,\n",
       " 'payment_frequency_enc': -0.21447148574643518,\n",
       " 'account_PF': -0.010008685076187077,\n",
       " 'account_RE': -0.0372732275301548,\n",
       " 'account_oth': 0.05038927503807559,\n",
       " 'cred_LC': -0.29775616132866217,\n",
       " 'cred_PP': -0.07180250492181048,\n",
       " 'cred_TC': -0.024145479034208554,\n",
       " 'cred_oth': 0.42503895991556945}"
      ]
     },
     "execution_count": 96,
     "metadata": {},
     "output_type": "execute_result"
    }
   ],
   "source": [
    "dict(zip(X.columns, logreg.coef_[0]))"
   ]
  },
  {
   "cell_type": "markdown",
   "id": "74863118",
   "metadata": {},
   "source": [
    "#### Selecting the most important features"
   ]
  },
  {
   "cell_type": "code",
   "execution_count": 97,
   "id": "2ee0e4ab",
   "metadata": {},
   "outputs": [
    {
     "data": {
      "text/html": [
       "<div>\n",
       "<style scoped>\n",
       "    .dataframe tbody tr th:only-of-type {\n",
       "        vertical-align: middle;\n",
       "    }\n",
       "\n",
       "    .dataframe tbody tr th {\n",
       "        vertical-align: top;\n",
       "    }\n",
       "\n",
       "    .dataframe thead th {\n",
       "        text-align: right;\n",
       "    }\n",
       "</style>\n",
       "<table border=\"1\" class=\"dataframe\">\n",
       "  <thead>\n",
       "    <tr style=\"text-align: right;\">\n",
       "      <th></th>\n",
       "      <th>monthly_income</th>\n",
       "      <th>monthly_outcome</th>\n",
       "      <th>amount_to_pay_next_payment</th>\n",
       "      <th>maximum_credit_amount</th>\n",
       "      <th>current_balance</th>\n",
       "      <th>credit_limit</th>\n",
       "      <th>past_due_balance</th>\n",
       "      <th>number_of_payments_due</th>\n",
       "      <th>worst_delinquency</th>\n",
       "      <th>worst_delinquency_past_due_balance</th>\n",
       "      <th>account_opening_year</th>\n",
       "      <th>institution_enc</th>\n",
       "      <th>payment_frequency_enc</th>\n",
       "      <th>account_PF</th>\n",
       "      <th>account_RE</th>\n",
       "      <th>account_oth</th>\n",
       "      <th>cred_LC</th>\n",
       "      <th>cred_PP</th>\n",
       "      <th>cred_TC</th>\n",
       "      <th>cred_oth</th>\n",
       "    </tr>\n",
       "  </thead>\n",
       "  <tbody>\n",
       "    <tr>\n",
       "      <th>0</th>\n",
       "      <td>0.242426</td>\n",
       "      <td>0.297612</td>\n",
       "      <td>0.887387</td>\n",
       "      <td>0.574834</td>\n",
       "      <td>0.766712</td>\n",
       "      <td>0.214641</td>\n",
       "      <td>1.351191</td>\n",
       "      <td>0.220249</td>\n",
       "      <td>0.933878</td>\n",
       "      <td>0.120641</td>\n",
       "      <td>0.045368</td>\n",
       "      <td>0.136463</td>\n",
       "      <td>0.214471</td>\n",
       "      <td>0.010009</td>\n",
       "      <td>0.037273</td>\n",
       "      <td>0.050389</td>\n",
       "      <td>0.297756</td>\n",
       "      <td>0.071803</td>\n",
       "      <td>0.024145</td>\n",
       "      <td>0.425039</td>\n",
       "    </tr>\n",
       "  </tbody>\n",
       "</table>\n",
       "</div>"
      ],
      "text/plain": [
       "   monthly_income  monthly_outcome  amount_to_pay_next_payment  \\\n",
       "0        0.242426         0.297612                    0.887387   \n",
       "\n",
       "   maximum_credit_amount  current_balance  credit_limit  past_due_balance  \\\n",
       "0               0.574834         0.766712      0.214641          1.351191   \n",
       "\n",
       "   number_of_payments_due  worst_delinquency  \\\n",
       "0                0.220249           0.933878   \n",
       "\n",
       "   worst_delinquency_past_due_balance  account_opening_year  institution_enc  \\\n",
       "0                            0.120641              0.045368         0.136463   \n",
       "\n",
       "   payment_frequency_enc  account_PF  account_RE  account_oth   cred_LC  \\\n",
       "0               0.214471    0.010009    0.037273     0.050389  0.297756   \n",
       "\n",
       "    cred_PP   cred_TC  cred_oth  \n",
       "0  0.071803  0.024145  0.425039  "
      ]
     },
     "execution_count": 97,
     "metadata": {},
     "output_type": "execute_result"
    }
   ],
   "source": [
    "pd.DataFrame.from_dict(dict(zip(X.columns, abs(logreg.coef_[0]))), orient='index').T"
   ]
  },
  {
   "cell_type": "code",
   "execution_count": 98,
   "id": "443e223d",
   "metadata": {},
   "outputs": [
    {
     "name": "stdout",
     "output_type": "stream",
     "text": [
      "Fitting estimator with 20 features.\n",
      "Fitting estimator with 19 features.\n",
      "Fitting estimator with 18 features.\n",
      "Fitting estimator with 17 features.\n",
      "Fitting estimator with 16 features.\n",
      "Fitting estimator with 15 features.\n",
      "Fitting estimator with 14 features.\n",
      "Fitting estimator with 13 features.\n",
      "Fitting estimator with 12 features.\n",
      "Fitting estimator with 11 features.\n",
      "Fitting estimator with 10 features.\n",
      "Fitting estimator with 9 features.\n",
      "Fitting estimator with 8 features.\n",
      "Fitting estimator with 7 features.\n"
     ]
    },
    {
     "data": {
      "text/plain": [
       "RFE(estimator=LogisticRegression(), n_features_to_select=6, verbose=1)"
      ]
     },
     "execution_count": 98,
     "metadata": {},
     "output_type": "execute_result"
    }
   ],
   "source": [
    "from sklearn.feature_selection import RFE\n",
    "rfe = RFE(estimator=LogisticRegression(), n_features_to_select=6, verbose=1)\n",
    "rfe.fit(X_data1, Y_data1)"
   ]
  },
  {
   "cell_type": "code",
   "execution_count": 99,
   "id": "6bb0ff1d",
   "metadata": {},
   "outputs": [
    {
     "data": {
      "text/plain": [
       "Index(['amount_to_pay_next_payment', 'maximum_credit_amount',\n",
       "       'current_balance', 'past_due_balance', 'worst_delinquency', 'cred_oth'],\n",
       "      dtype='object')"
      ]
     },
     "execution_count": 99,
     "metadata": {},
     "output_type": "execute_result"
    }
   ],
   "source": [
    "X.columns[rfe.support_]"
   ]
  },
  {
   "cell_type": "code",
   "execution_count": 100,
   "id": "24be78d4",
   "metadata": {},
   "outputs": [
    {
     "name": "stdout",
     "output_type": "stream",
     "text": [
      "{'monthly_income': 5, 'monthly_outcome': 2, 'amount_to_pay_next_payment': 1, 'maximum_credit_amount': 1, 'current_balance': 1, 'credit_limit': 4, 'past_due_balance': 1, 'number_of_payments_due': 3, 'worst_delinquency': 1, 'worst_delinquency_past_due_balance': 9, 'account_opening_year': 12, 'institution_enc': 8, 'payment_frequency_enc': 6, 'account_PF': 15, 'account_RE': 13, 'account_oth': 10, 'cred_LC': 7, 'cred_PP': 11, 'cred_TC': 14, 'cred_oth': 1}\n"
     ]
    }
   ],
   "source": [
    "print(dict(zip(X.columns, rfe.ranking_)))"
   ]
  },
  {
   "cell_type": "code",
   "execution_count": 102,
   "id": "e0dd03f1",
   "metadata": {},
   "outputs": [
    {
     "name": "stdout",
     "output_type": "stream",
     "text": [
      "0.865\n"
     ]
    }
   ],
   "source": [
    "from sklearn.metrics import accuracy_score\n",
    "print(accuracy_score(y_data_test1, rfe.predict(X_data_test1)))"
   ]
  },
  {
   "cell_type": "markdown",
   "id": "ab46415e",
   "metadata": {},
   "source": [
    "##### Second model"
   ]
  },
  {
   "cell_type": "code",
   "execution_count": 103,
   "id": "d70cbac7",
   "metadata": {},
   "outputs": [],
   "source": [
    "X = strat_train_set.drop(['class'], axis=1)\n",
    "Y = strat_train_set['class']\n",
    "\n",
    "X = X[['amount_to_pay_next_payment', 'maximum_credit_amount',\n",
    "       'current_balance', 'past_due_balance', 'worst_delinquency', 'cred_oth']]\n",
    "\n",
    "scaler = StandardScaler()\n",
    "X_data2 = scaler.fit_transform(X)\n",
    "\n",
    "Y_data2 = Y.to_numpy() # we transform it because the X_data is a numpy array"
   ]
  },
  {
   "cell_type": "code",
   "execution_count": 104,
   "id": "5ab11206",
   "metadata": {},
   "outputs": [],
   "source": [
    "X_test = strat_test_set.drop([\"class\"], axis=1)\n",
    "y_test = strat_test_set['class']\n",
    "\n",
    "X_test = X_test[['amount_to_pay_next_payment', 'maximum_credit_amount',\n",
    "       'current_balance', 'past_due_balance', 'worst_delinquency', 'cred_oth']]\n",
    "\n",
    "scaler = StandardScaler()\n",
    "X_data_test2 = scaler.fit_transform(X_test)\n",
    "y_data_test2 = y_test.to_numpy()"
   ]
  },
  {
   "cell_type": "code",
   "execution_count": 105,
   "id": "49cd08a5",
   "metadata": {},
   "outputs": [
    {
     "data": {
      "text/plain": [
       "LogisticRegression()"
      ]
     },
     "execution_count": 105,
     "metadata": {},
     "output_type": "execute_result"
    }
   ],
   "source": [
    "logreg2 = LogisticRegression()\n",
    "\n",
    "logreg2.fit(X_data2, Y_data2)\n",
    "#y_pred = logreg.predict(X_test)"
   ]
  },
  {
   "cell_type": "markdown",
   "id": "e767bce0",
   "metadata": {},
   "source": [
    "## Evaluation"
   ]
  },
  {
   "cell_type": "markdown",
   "id": "7994224e-81ca-44b9-8b37-62c9a6784b1b",
   "metadata": {},
   "source": [
    "### Random Forests"
   ]
  },
  {
   "cell_type": "markdown",
   "id": "679b116a",
   "metadata": {},
   "source": [
    "#### Validation"
   ]
  },
  {
   "cell_type": "code",
   "execution_count": 106,
   "id": "859dc29f",
   "metadata": {
    "tags": []
   },
   "outputs": [],
   "source": [
    "final_data = pipeline.fit_transform(data_merged)"
   ]
  },
  {
   "cell_type": "code",
   "execution_count": 107,
   "id": "de88965f",
   "metadata": {},
   "outputs": [],
   "source": [
    "X = final_data.drop([\"class\"], axis=1)\n",
    "y = final_data['class']\n",
    "\n",
    "scaler = StandardScaler()\n",
    "X = scaler.fit_transform(X)\n",
    "y = y.to_numpy()"
   ]
  },
  {
   "cell_type": "code",
   "execution_count": 108,
   "id": "927039c0",
   "metadata": {},
   "outputs": [],
   "source": [
    "from sklearn.model_selection import cross_val_score\n",
    "\n",
    "cv_scores_three_models = list()\n",
    "\n",
    "\n",
    "cv_scores_three_models.append(cross_val_score(estimator=final_clf, X=X, y=y, cv=5, scoring='roc_auc').mean())\n",
    "\n",
    "#print(cv_scores.mean())"
   ]
  },
  {
   "cell_type": "code",
   "execution_count": 109,
   "id": "2f926af5",
   "metadata": {},
   "outputs": [],
   "source": [
    "X = final_data.drop([\"class\"], axis=1)\n",
    "y = final_data['class']\n",
    "\n",
    "X = X[['maximum_credit_amount', 'credit_limit', 'past_due_balance',\n",
    "       'number_of_payments_due', 'worst_delinquency',\n",
    "       'worst_delinquency_past_due_balance']]\n",
    "\n",
    "scaler = StandardScaler()\n",
    "X = scaler.fit_transform(X)\n",
    "y = y.to_numpy()"
   ]
  },
  {
   "cell_type": "code",
   "execution_count": 110,
   "id": "d6ad6705",
   "metadata": {},
   "outputs": [],
   "source": [
    "cv_scores_three_models.append(cross_val_score(estimator=final_clf2, X=X, y=y, cv=5, scoring='roc_auc').mean())"
   ]
  },
  {
   "cell_type": "code",
   "execution_count": 111,
   "id": "e9dcdb92",
   "metadata": {},
   "outputs": [],
   "source": [
    "X = final_data.drop([\"class\"], axis=1)\n",
    "y = final_data['class']\n",
    "\n",
    "X = X[['past_due_balance', 'worst_delinquency',\n",
    "       'worst_delinquency_past_due_balance']]\n",
    "\n",
    "scaler = StandardScaler()\n",
    "X = scaler.fit_transform(X)\n",
    "y = y.to_numpy()"
   ]
  },
  {
   "cell_type": "code",
   "execution_count": 112,
   "id": "a4df35af",
   "metadata": {},
   "outputs": [],
   "source": [
    "cv_scores_three_models.append(cross_val_score(estimator=final_clf3, X=X, y=y, cv=5, scoring='roc_auc').mean())"
   ]
  },
  {
   "cell_type": "code",
   "execution_count": 113,
   "id": "8d1e4fd3",
   "metadata": {},
   "outputs": [
    {
     "data": {
      "text/plain": [
       "[0.9345191438046427, 0.9240779821123505, 0.8939503567480657]"
      ]
     },
     "execution_count": 113,
     "metadata": {},
     "output_type": "execute_result"
    }
   ],
   "source": [
    "cv_scores_three_models"
   ]
  },
  {
   "cell_type": "markdown",
   "id": "27ade987",
   "metadata": {},
   "source": [
    "#### Confusion Matrix"
   ]
  },
  {
   "cell_type": "code",
   "execution_count": 114,
   "id": "50dfd0db",
   "metadata": {},
   "outputs": [],
   "source": [
    "y_predict = final_clf.predict(X_data_test1)"
   ]
  },
  {
   "cell_type": "code",
   "execution_count": 115,
   "id": "a78d2b04",
   "metadata": {},
   "outputs": [
    {
     "name": "stdout",
     "output_type": "stream",
     "text": [
      "[[77 16]\n",
      " [11 96]]\n",
      "              precision    recall  f1-score   support\n",
      "\n",
      "           0       0.88      0.83      0.85        93\n",
      "           1       0.86      0.90      0.88       107\n",
      "\n",
      "    accuracy                           0.86       200\n",
      "   macro avg       0.87      0.86      0.86       200\n",
      "weighted avg       0.87      0.86      0.86       200\n",
      "\n"
     ]
    }
   ],
   "source": [
    "from sklearn.metrics import classification_report\n",
    "from sklearn.metrics import confusion_matrix\n",
    "\n",
    "print(confusion_matrix(y_data_test1, y_predict))\n",
    "print(classification_report(y_data_test1, y_predict))"
   ]
  },
  {
   "cell_type": "code",
   "execution_count": 116,
   "id": "630d8616",
   "metadata": {},
   "outputs": [
    {
     "name": "stdout",
     "output_type": "stream",
     "text": [
      "0.865\n"
     ]
    }
   ],
   "source": [
    "from sklearn.metrics import accuracy_score\n",
    "print(accuracy_score(y_data_test1, y_predict))"
   ]
  },
  {
   "cell_type": "code",
   "execution_count": 119,
   "id": "4135b546",
   "metadata": {},
   "outputs": [
    {
     "data": {
      "image/png": "[encoded data removed]",
      "text/plain": [
       "<Figure size 720x720 with 1 Axes>"
      ]
     },
     "metadata": {},
     "output_type": "display_data"
    }
   ],
   "source": [
    "from sklearn.metrics import roc_curve\n",
    "fig = plt.figure(figsize = (10,10))\n",
    "y_pred_prob = final_clf.predict_proba(X_data_test1)[:,1]\n",
    "fpr, tpr, thresholds = roc_curve(y_data_test1, y_pred_prob)\n",
    "plt.plot([0, 1], [0, 1], 'k--')\n",
    "plt.plot(fpr, tpr, label='Random Forests')\n",
    "plt.xlabel('False Positive Rate')\n",
    "plt.ylabel('True Positive Rate')\n",
    "plt.title('Random Forests ROC Curve')\n",
    "#fig = p1.get_figure()\n",
    "fig.savefig(\"plots/12_random_forests_roc_curve.png\")\n",
    "plt.show();"
   ]
  },
  {
   "cell_type": "markdown",
   "id": "6e6ce479",
   "metadata": {},
   "source": [
    "#### Save the model"
   ]
  },
  {
   "cell_type": "code",
   "execution_count": 118,
   "id": "2f727345",
   "metadata": {},
   "outputs": [],
   "source": [
    "import pickle\n",
    "# save the model to disk\n",
    "filename = 'models/trained_model_random_forests.sav'\n",
    "pickle.dump(final_clf, open(filename, 'wb'))\n",
    " \n",
    "# load the model from disk\n",
    "#loaded_model = pickle.load(open(filename, 'rb'))\n",
    "#result = loaded_model.score(X_test, Y_test)\n",
    "#print(result)"
   ]
  },
  {
   "cell_type": "markdown",
   "id": "dda1e394-a624-42ff-8626-55eb0c04044d",
   "metadata": {},
   "source": [
    "### Logistic Regression"
   ]
  },
  {
   "cell_type": "markdown",
   "id": "72cf2d31-126e-4c64-a98e-944ccf225c80",
   "metadata": {},
   "source": [
    "#### Accuracy"
   ]
  },
  {
   "cell_type": "code",
   "execution_count": 120,
   "id": "468ce144",
   "metadata": {},
   "outputs": [
    {
     "data": {
      "text/plain": [
       "0.865"
      ]
     },
     "execution_count": 120,
     "metadata": {},
     "output_type": "execute_result"
    }
   ],
   "source": [
    "logreg2.score(X_data_test2, y_data_test2)"
   ]
  },
  {
   "cell_type": "code",
   "execution_count": 123,
   "id": "fc961a27",
   "metadata": {},
   "outputs": [
    {
     "data": {
      "text/html": [
       "<div>\n",
       "<style scoped>\n",
       "    .dataframe tbody tr th:only-of-type {\n",
       "        vertical-align: middle;\n",
       "    }\n",
       "\n",
       "    .dataframe tbody tr th {\n",
       "        vertical-align: top;\n",
       "    }\n",
       "\n",
       "    .dataframe thead th {\n",
       "        text-align: right;\n",
       "    }\n",
       "</style>\n",
       "<table border=\"1\" class=\"dataframe\">\n",
       "  <thead>\n",
       "    <tr style=\"text-align: right;\">\n",
       "      <th></th>\n",
       "      <th>monthly_income</th>\n",
       "      <th>monthly_outcome</th>\n",
       "      <th>amount_to_pay_next_payment</th>\n",
       "      <th>maximum_credit_amount</th>\n",
       "      <th>current_balance</th>\n",
       "      <th>credit_limit</th>\n",
       "    </tr>\n",
       "  </thead>\n",
       "  <tbody>\n",
       "    <tr>\n",
       "      <th>0</th>\n",
       "      <td>0.868459</td>\n",
       "      <td>0.840651</td>\n",
       "      <td>0.732996</td>\n",
       "      <td>1.391749</td>\n",
       "      <td>1.207662</td>\n",
       "      <td>0.745384</td>\n",
       "    </tr>\n",
       "  </tbody>\n",
       "</table>\n",
       "</div>"
      ],
      "text/plain": [
       "   monthly_income  monthly_outcome  amount_to_pay_next_payment  \\\n",
       "0        0.868459         0.840651                    0.732996   \n",
       "\n",
       "   maximum_credit_amount  current_balance  credit_limit  \n",
       "0               1.391749         1.207662      0.745384  "
      ]
     },
     "execution_count": 123,
     "metadata": {},
     "output_type": "execute_result"
    }
   ],
   "source": [
    "X = strat_train_set.drop(['class'], axis=1)\n",
    "Y = strat_train_set['class']\n",
    "pd.DataFrame.from_dict(dict(zip(X.columns, abs(logreg2.coef_[0]))), orient='index').T"
   ]
  },
  {
   "cell_type": "markdown",
   "id": "c25e3274",
   "metadata": {},
   "source": [
    "#### Confusion Matrix"
   ]
  },
  {
   "cell_type": "code",
   "execution_count": 124,
   "id": "6e2022ab",
   "metadata": {},
   "outputs": [],
   "source": [
    "y_pred = logreg2.predict(X_data_test2)"
   ]
  },
  {
   "cell_type": "code",
   "execution_count": 126,
   "id": "38ebda91",
   "metadata": {},
   "outputs": [
    {
     "name": "stdout",
     "output_type": "stream",
     "text": [
      "[[80 13]\n",
      " [14 93]]\n",
      "              precision    recall  f1-score   support\n",
      "\n",
      "           0       0.85      0.86      0.86        93\n",
      "           1       0.88      0.87      0.87       107\n",
      "\n",
      "    accuracy                           0.86       200\n",
      "   macro avg       0.86      0.86      0.86       200\n",
      "weighted avg       0.87      0.86      0.87       200\n",
      "\n"
     ]
    }
   ],
   "source": [
    "print(confusion_matrix(y_data_test2, y_pred))\n",
    "print(classification_report(y_data_test2, y_pred))"
   ]
  },
  {
   "cell_type": "markdown",
   "id": "e3be34ff",
   "metadata": {},
   "source": [
    "Recall is also known as sensitivity, f1-score is the harmontic mean of precision and recall.\n",
    "High precision: not many real events predicted as not event\n",
    "High recall: predicted most positive events correctly"
   ]
  },
  {
   "cell_type": "markdown",
   "id": "1db11042",
   "metadata": {},
   "source": [
    "#### ROC curve"
   ]
  },
  {
   "cell_type": "code",
   "execution_count": 127,
   "id": "e36fff65",
   "metadata": {},
   "outputs": [
    {
     "data": {
      "image/png": "[encoded data removed]",
      "text/plain": [
       "<Figure size 720x720 with 1 Axes>"
      ]
     },
     "metadata": {},
     "output_type": "display_data"
    }
   ],
   "source": [
    "from sklearn.metrics import roc_curve\n",
    "fig = plt.figure(figsize = (10,10))\n",
    "y_pred_prob = logreg2.predict_proba(X_data_test2)[:,1]\n",
    "fpr, tpr, thresholds = roc_curve(y_data_test2, y_pred_prob)\n",
    "plt.plot([0, 1], [0, 1], 'k--')\n",
    "plt.plot(fpr, tpr, label='Logistic Regression')\n",
    "plt.xlabel('False Positive Rate')\n",
    "plt.ylabel('True Positive Rate')\n",
    "plt.title('Logistic Regression ROC Curve')\n",
    "#fig = p1.get_figure()\n",
    "fig.savefig(\"plots/13_logistic_regression_roc_curve.png\")\n",
    "plt.show();"
   ]
  },
  {
   "cell_type": "markdown",
   "id": "c2c04ea6",
   "metadata": {},
   "source": [
    "The area under the ROC curve is larger, so we can say that it is a good model"
   ]
  },
  {
   "cell_type": "markdown",
   "id": "bec79235",
   "metadata": {},
   "source": [
    "**Are under the ROC curve**"
   ]
  },
  {
   "cell_type": "code",
   "execution_count": 128,
   "id": "2c28841e",
   "metadata": {},
   "outputs": [],
   "source": [
    "final_data = pipeline.fit_transform(data_merged)"
   ]
  },
  {
   "cell_type": "code",
   "execution_count": 129,
   "id": "54044da2",
   "metadata": {},
   "outputs": [],
   "source": [
    "X = final_data.drop([\"class\"], axis=1)\n",
    "y = final_data['class']\n",
    "\n",
    "X = X[['amount_to_pay_next_payment', 'maximum_credit_amount',\n",
    "       'current_balance', 'past_due_balance', 'worst_delinquency', 'cred_oth']]\n",
    "\n",
    "scaler = StandardScaler()\n",
    "X = scaler.fit_transform(X)\n",
    "y = y.to_numpy()"
   ]
  },
  {
   "cell_type": "code",
   "execution_count": 130,
   "id": "b8971a52",
   "metadata": {},
   "outputs": [
    {
     "name": "stdout",
     "output_type": "stream",
     "text": [
      "0.9409506582253039\n"
     ]
    }
   ],
   "source": [
    "from sklearn.model_selection import cross_val_score\n",
    "cv_scores = cross_val_score(logreg2, X, y, cv=5, scoring='roc_auc')\n",
    "print(cv_scores.mean())"
   ]
  },
  {
   "cell_type": "markdown",
   "id": "4e9c7456",
   "metadata": {},
   "source": [
    "#### Save the model"
   ]
  },
  {
   "cell_type": "code",
   "execution_count": 131,
   "id": "0bce0929",
   "metadata": {},
   "outputs": [],
   "source": [
    "import pickle\n",
    "# save the model to disk\n",
    "filename = 'models/trained_model_logistic_regression.sav'\n",
    "pickle.dump(logreg2, open(filename, 'wb'))\n",
    " \n",
    "# load the model from disk\n",
    "#loaded_model = pickle.load(open(filename, 'rb'))\n",
    "#result = loaded_model.score(X_test, Y_test)\n",
    "#print(result)"
   ]
  },
  {
   "cell_type": "markdown",
   "id": "be997c63",
   "metadata": {},
   "source": [
    "#### Evaluating collinearity in Logistic Regression"
   ]
  },
  {
   "cell_type": "code",
   "execution_count": 132,
   "id": "807f6d5c",
   "metadata": {},
   "outputs": [],
   "source": [
    "#final_data.to_csv('processed_data/data_with_variables_encoded.csv', index=False)"
   ]
  },
  {
   "cell_type": "code",
   "execution_count": 133,
   "id": "17971183",
   "metadata": {},
   "outputs": [],
   "source": [
    "X = final_data.drop([\"class\"], axis=1)\n",
    "y = final_data['class']"
   ]
  },
  {
   "cell_type": "code",
   "execution_count": 134,
   "id": "7d9e20df",
   "metadata": {},
   "outputs": [],
   "source": [
    "from statsmodels.stats.outliers_influence import variance_inflation_factor"
   ]
  },
  {
   "cell_type": "code",
   "execution_count": 135,
   "id": "33e4ea6b",
   "metadata": {},
   "outputs": [
    {
     "name": "stderr",
     "output_type": "stream",
     "text": [
      "E:\\Programas\\anaconda3\\lib\\site-packages\\statsmodels\\stats\\outliers_influence.py:193: RuntimeWarning: divide by zero encountered in double_scalars\n",
      "  vif = 1. / (1. - r_squared_i)\n"
     ]
    },
    {
     "data": {
      "text/html": [
       "<div>\n",
       "<style scoped>\n",
       "    .dataframe tbody tr th:only-of-type {\n",
       "        vertical-align: middle;\n",
       "    }\n",
       "\n",
       "    .dataframe tbody tr th {\n",
       "        vertical-align: top;\n",
       "    }\n",
       "\n",
       "    .dataframe thead th {\n",
       "        text-align: right;\n",
       "    }\n",
       "</style>\n",
       "<table border=\"1\" class=\"dataframe\">\n",
       "  <thead>\n",
       "    <tr style=\"text-align: right;\">\n",
       "      <th></th>\n",
       "      <th>variables</th>\n",
       "      <th>VIF</th>\n",
       "    </tr>\n",
       "  </thead>\n",
       "  <tbody>\n",
       "    <tr>\n",
       "      <th>0</th>\n",
       "      <td>monthly_income</td>\n",
       "      <td>1.799577</td>\n",
       "    </tr>\n",
       "    <tr>\n",
       "      <th>1</th>\n",
       "      <td>monthly_outcome</td>\n",
       "      <td>2.097022</td>\n",
       "    </tr>\n",
       "    <tr>\n",
       "      <th>2</th>\n",
       "      <td>amount_to_pay_next_payment</td>\n",
       "      <td>3.552870</td>\n",
       "    </tr>\n",
       "    <tr>\n",
       "      <th>3</th>\n",
       "      <td>maximum_credit_amount</td>\n",
       "      <td>2.674736</td>\n",
       "    </tr>\n",
       "    <tr>\n",
       "      <th>4</th>\n",
       "      <td>current_balance</td>\n",
       "      <td>4.294864</td>\n",
       "    </tr>\n",
       "    <tr>\n",
       "      <th>5</th>\n",
       "      <td>credit_limit</td>\n",
       "      <td>1.730276</td>\n",
       "    </tr>\n",
       "    <tr>\n",
       "      <th>6</th>\n",
       "      <td>past_due_balance</td>\n",
       "      <td>2.025603</td>\n",
       "    </tr>\n",
       "    <tr>\n",
       "      <th>7</th>\n",
       "      <td>number_of_payments_due</td>\n",
       "      <td>2.470802</td>\n",
       "    </tr>\n",
       "    <tr>\n",
       "      <th>8</th>\n",
       "      <td>worst_delinquency</td>\n",
       "      <td>3.591125</td>\n",
       "    </tr>\n",
       "    <tr>\n",
       "      <th>9</th>\n",
       "      <td>worst_delinquency_past_due_balance</td>\n",
       "      <td>2.892599</td>\n",
       "    </tr>\n",
       "    <tr>\n",
       "      <th>10</th>\n",
       "      <td>account_opening_year</td>\n",
       "      <td>1.134492</td>\n",
       "    </tr>\n",
       "    <tr>\n",
       "      <th>11</th>\n",
       "      <td>institution_enc</td>\n",
       "      <td>1.485226</td>\n",
       "    </tr>\n",
       "    <tr>\n",
       "      <th>12</th>\n",
       "      <td>payment_frequency_enc</td>\n",
       "      <td>1.482518</td>\n",
       "    </tr>\n",
       "    <tr>\n",
       "      <th>13</th>\n",
       "      <td>account_PF</td>\n",
       "      <td>inf</td>\n",
       "    </tr>\n",
       "    <tr>\n",
       "      <th>14</th>\n",
       "      <td>account_RE</td>\n",
       "      <td>inf</td>\n",
       "    </tr>\n",
       "    <tr>\n",
       "      <th>15</th>\n",
       "      <td>account_oth</td>\n",
       "      <td>inf</td>\n",
       "    </tr>\n",
       "    <tr>\n",
       "      <th>16</th>\n",
       "      <td>cred_LC</td>\n",
       "      <td>inf</td>\n",
       "    </tr>\n",
       "    <tr>\n",
       "      <th>17</th>\n",
       "      <td>cred_PP</td>\n",
       "      <td>inf</td>\n",
       "    </tr>\n",
       "    <tr>\n",
       "      <th>18</th>\n",
       "      <td>cred_TC</td>\n",
       "      <td>inf</td>\n",
       "    </tr>\n",
       "    <tr>\n",
       "      <th>19</th>\n",
       "      <td>cred_oth</td>\n",
       "      <td>inf</td>\n",
       "    </tr>\n",
       "  </tbody>\n",
       "</table>\n",
       "</div>"
      ],
      "text/plain": [
       "                             variables       VIF\n",
       "0                       monthly_income  1.799577\n",
       "1                      monthly_outcome  2.097022\n",
       "2           amount_to_pay_next_payment  3.552870\n",
       "3                maximum_credit_amount  2.674736\n",
       "4                      current_balance  4.294864\n",
       "5                         credit_limit  1.730276\n",
       "6                     past_due_balance  2.025603\n",
       "7               number_of_payments_due  2.470802\n",
       "8                    worst_delinquency  3.591125\n",
       "9   worst_delinquency_past_due_balance  2.892599\n",
       "10                account_opening_year  1.134492\n",
       "11                     institution_enc  1.485226\n",
       "12               payment_frequency_enc  1.482518\n",
       "13                          account_PF       inf\n",
       "14                          account_RE       inf\n",
       "15                         account_oth       inf\n",
       "16                             cred_LC       inf\n",
       "17                             cred_PP       inf\n",
       "18                             cred_TC       inf\n",
       "19                            cred_oth       inf"
      ]
     },
     "execution_count": 135,
     "metadata": {},
     "output_type": "execute_result"
    }
   ],
   "source": [
    "def calc_vif(df):\n",
    "    vif = pd.DataFrame()\n",
    "    vif[\"variables\"] = df.columns\n",
    "    vif[\"VIF\"] = [variance_inflation_factor(df.values, i) for i in range(df.shape[1])]\n",
    "    return(vif)\n",
    "\n",
    "calc_vif(X)"
   ]
  },
  {
   "cell_type": "code",
   "execution_count": null,
   "id": "b447b8c4-3dca-447c-9a26-b65fa5a9b72e",
   "metadata": {},
   "outputs": [],
   "source": []
  },
  {
   "cell_type": "markdown",
   "id": "625dcdc9",
   "metadata": {},
   "source": [
    "## Deployment"
   ]
  },
  {
   "cell_type": "code",
   "execution_count": 3,
   "id": "4406e4bf-2c17-4471-8c65-a71f2b13bac0",
   "metadata": {},
   "outputs": [],
   "source": [
    "data_merged = pd.read_csv('processed_data/data_merged.csv')\n",
    "final_data = pd.read_csv('processed_data/data_with_variables_encoded.csv')\n",
    "analysis = data_merged.copy()"
   ]
  },
  {
   "cell_type": "markdown",
   "id": "9f6024d3-3792-4d12-bbcc-87d66f105c87",
   "metadata": {},
   "source": [
    "### Pick the best clients you will give a loan to, based on the model you created.  It could be as complex as you decide (even as simpler as knock out rules), as long as the metrics support it"
   ]
  },
  {
   "cell_type": "code",
   "execution_count": 4,
   "id": "921b6acd-cc3d-4883-aabb-1c0341fe6106",
   "metadata": {},
   "outputs": [
    {
     "name": "stdout",
     "output_type": "stream",
     "text": [
      "RandomForestClassifier(max_depth=10, min_samples_split=4, n_estimators=200)\n",
      "LogisticRegression()\n"
     ]
    }
   ],
   "source": [
    "import pickle\n",
    "# load random forests\n",
    "filename = 'models/trained_model_random_forests.sav'\n",
    "final_clf = pickle.load(open(filename, 'rb'))\n",
    "#result = loaded_model.score(X_test, Y_test)\n",
    "print(final_clf)\n",
    "\n",
    "# load logistic regression\n",
    "filename = 'models/trained_model_logistic_regression.sav'\n",
    "logreg2 = pickle.load(open(filename, 'rb'))\n",
    "print(logreg2)"
   ]
  },
  {
   "cell_type": "code",
   "execution_count": 5,
   "id": "a8d9536c-8770-453e-bd23-a66ab4b048dd",
   "metadata": {},
   "outputs": [],
   "source": [
    "from sklearn.preprocessing import StandardScaler\n",
    "X = final_data.drop([\"class\"], axis=1)\n",
    "y = final_data['class']\n",
    "\n",
    "scaler = StandardScaler()\n",
    "X = scaler.fit_transform(X)\n",
    "y = y.to_numpy()"
   ]
  },
  {
   "cell_type": "code",
   "execution_count": 6,
   "id": "69a4d4a9-8df1-4d39-8c34-ac35ae8e0704",
   "metadata": {},
   "outputs": [],
   "source": [
    "mask_rf = final_clf.predict_proba(X)[:,1] > 0.90"
   ]
  },
  {
   "cell_type": "code",
   "execution_count": 8,
   "id": "00519bb8-6824-4c3b-9db6-2c2f7a8bb794",
   "metadata": {},
   "outputs": [],
   "source": [
    "best_customers_rf_data = analysis[mask_rf] "
   ]
  },
  {
   "cell_type": "markdown",
   "id": "0eded13f-2e42-4e81-91ab-281bedfb3a51",
   "metadata": {},
   "source": [
    "#### Most important variables Random Forests"
   ]
  },
  {
   "cell_type": "code",
   "execution_count": 38,
   "id": "b035f752-fe4a-4c1e-99e7-83d50ea6cc07",
   "metadata": {},
   "outputs": [
    {
     "name": "stderr",
     "output_type": "stream",
     "text": [
      "<ipython-input-38-f283e44a6acf>:5: UserWarning: To output multiple subplots, the figure containing the passed axes is being cleared\n",
      "  best_customers_rf_data[['maximum_credit_amount', 'credit_limit', 'past_due_balance',\n"
     ]
    },
    {
     "data": {
      "image/png": "[encoded data removed]",
      "text/plain": [
       "<Figure size 936x1152 with 6 Axes>"
      ]
     },
     "metadata": {},
     "output_type": "display_data"
    }
   ],
   "source": [
    "fig = plt.figure(figsize = (13,16))\n",
    "sns.set_style(\"darkgrid\")\n",
    "ax = fig.gca()\n",
    "#df.hist(ax = ax)\n",
    "best_customers_rf_data[['maximum_credit_amount', 'credit_limit', 'past_due_balance',\n",
    "       'number_of_payments_due', 'worst_delinquency',\n",
    "       'worst_delinquency_past_due_balance']].hist(ax=ax)\n",
    "\n",
    "\n",
    "\n",
    "#fig = p1.get_figure()\n",
    "fig.savefig(\"plots/15_most_important_variables_best_customers_rf.png\")\n",
    "plt.show()"
   ]
  },
  {
   "cell_type": "markdown",
   "id": "a8f86c84-14b5-4138-8275-4574d2830d11",
   "metadata": {},
   "source": [
    "#### Most important Variables in Logistic Regression"
   ]
  },
  {
   "cell_type": "code",
   "execution_count": 30,
   "id": "4a2d9c61-0bb3-4fe3-8357-ad844108e888",
   "metadata": {},
   "outputs": [],
   "source": [
    "X = final_data.drop(['class'], axis=1)\n",
    "Y = final_data['class']\n",
    "\n",
    "X = X[['amount_to_pay_next_payment', 'maximum_credit_amount',\n",
    "       'current_balance', 'past_due_balance', 'worst_delinquency', 'cred_oth']]"
   ]
  },
  {
   "cell_type": "code",
   "execution_count": 12,
   "id": "8452f5e9-4565-4987-ad5b-120ada36212f",
   "metadata": {},
   "outputs": [],
   "source": [
    "mask_lr = logreg2.predict_proba(X)[:,1] > 0.999"
   ]
  },
  {
   "cell_type": "code",
   "execution_count": 13,
   "id": "efd732eb-be63-47e1-9b5f-a906906cb164",
   "metadata": {},
   "outputs": [],
   "source": [
    "best_customers_lr_data = analysis[mask_lr]"
   ]
  },
  {
   "cell_type": "code",
   "execution_count": 39,
   "id": "d367d1db-a7e5-42b5-bbbd-aae986c9dd2b",
   "metadata": {},
   "outputs": [
    {
     "name": "stderr",
     "output_type": "stream",
     "text": [
      "<ipython-input-39-4a0c9034cd2d>:5: UserWarning: To output multiple subplots, the figure containing the passed axes is being cleared\n",
      "  best_customers_lr_data[['amount_to_pay_next_payment', 'maximum_credit_amount',\n"
     ]
    },
    {
     "data": {
      "image/png": "[encoded data removed]",
      "text/plain": [
       "<Figure size 936x1152 with 6 Axes>"
      ]
     },
     "metadata": {},
     "output_type": "display_data"
    }
   ],
   "source": [
    "fig = plt.figure(figsize = (13,16))\n",
    "sns.set_style(\"darkgrid\")\n",
    "ax = fig.gca()\n",
    "#df.hist(ax = ax)\n",
    "best_customers_lr_data[['amount_to_pay_next_payment', 'maximum_credit_amount',\n",
    "       'current_balance', 'past_due_balance', 'worst_delinquency']].hist(ax=ax)\n",
    "\n",
    "#fig = p1.get_figure()\n",
    "fig.savefig(\"plots/16_most_important_variables_best_customers_lr.png\")\n",
    "plt.show()"
   ]
  },
  {
   "cell_type": "markdown",
   "id": "bddbf489-a0a6-4a87-8122-1d678733e632",
   "metadata": {},
   "source": [
    "#### Intersection between the best customers selected by each model"
   ]
  },
  {
   "cell_type": "code",
   "execution_count": 40,
   "id": "6143f3a0-510c-4ce9-8b1f-90cef1283846",
   "metadata": {},
   "outputs": [],
   "source": [
    "best_customers_rf = analysis[mask_rf][\"id\"].values"
   ]
  },
  {
   "cell_type": "code",
   "execution_count": 41,
   "id": "0f01ed71-6fc1-4c45-b5e0-ba80ee68b81c",
   "metadata": {},
   "outputs": [],
   "source": [
    "best_customers_lr = analysis[mask_lr][\"id\"].values"
   ]
  },
  {
   "cell_type": "code",
   "execution_count": 42,
   "id": "f43889ed-c0af-458f-af69-098d4075f6a3",
   "metadata": {},
   "outputs": [],
   "source": [
    "shared= np.intersect1d(best_customers_rf, best_customers_lr).shape[0]\n",
    "best_rf = best_customers_rf.shape[0] - shared\n",
    "best_lr = best_customers_lr.shape[0] - shared"
   ]
  },
  {
   "cell_type": "code",
   "execution_count": 43,
   "id": "4715a5de-1d38-4154-a0dc-872b9b4e605e",
   "metadata": {},
   "outputs": [
    {
     "data": {
      "image/png": "[encoded data removed]",
      "text/plain": [
       "<Figure size 576x576 with 1 Axes>"
      ]
     },
     "metadata": {},
     "output_type": "display_data"
    }
   ],
   "source": [
    "from matplotlib_venn import venn2 \n",
    "\n",
    "fig = plt.figure(figsize = (8,8))\n",
    "plt.title(\"Venn Diagrams of the best customers selected \\nby the trained models\", fontsize=18)\n",
    "# depict venn diagram\n",
    "venn2(subsets = ( best_rf, best_lr, shared), \n",
    "      set_labels = ('Random Forest', 'Logistic Regression'),\n",
    "     set_colors=(\"orange\", \"blue\"), alpha=0.7)\n",
    "fig.savefig(\"plots/14_venn_diagramm_best_customers.jpg\")\n",
    "plt.show()"
   ]
  },
  {
   "cell_type": "code",
   "execution_count": null,
   "id": "c234e186-e366-4aa4-bf22-f67dc7441971",
   "metadata": {},
   "outputs": [],
   "source": []
  },
  {
   "cell_type": "markdown",
   "id": "d94718e2-f373-4030-ab87-9f3ace6d408f",
   "metadata": {},
   "source": [
    "Given the trained models, we can calculate the best customers considering the high probability to do not having defaults. The Random Forest is more strict selecting customers because of having a lower cut-off it select a few customers."
   ]
  },
  {
   "cell_type": "markdown",
   "id": "729afcd4-6cdf-4b23-a55b-5a752aba2f55",
   "metadata": {},
   "source": [
    "### Propose an amount to be lended to those clients and a term in which the loan will need to be paid back"
   ]
  },
  {
   "cell_type": "markdown",
   "id": "7c25ac06-1bd9-460e-b68a-ae03cdc3a32c",
   "metadata": {},
   "source": [
    "`monthly_income`, `monthly_outcome`\tamount_to_pay_next_payment\tmaximum_credit_amount\tcurrent_balance\tcredit_limit"
   ]
  },
  {
   "cell_type": "markdown",
   "id": "75ffa39c",
   "metadata": {},
   "source": [
    "```r\n",
    "library(MASS)\n",
    "stepAIC(glm.fits, direciton='back')\n",
    "\n",
    "model2 <- glm(formula = classes ~ monthly_outcome + amount_to_pay_next_payment + \n",
    "    maximum_credit_amount + current_balance + past_due_balance + \n",
    "    worst_delinquency + payment_frequency_enc + cred_LC + cred_PP + \n",
    "    cred_TC +credit_limit, family = binomial, data = data)\n",
    "   \n",
    "summary(model2)$coeff\n",
    "\n",
    "#                              Estimate Std. Error   z value     Pr(>|z|)\n",
    "#(Intercept)                -3.01248989 0.98597780 -3.055332 2.248112e-03\n",
    "#monthly_outcome             0.19122818 0.05675373  3.369438 7.532156e-04\n",
    "#amount_to_pay_next_payment -0.49116708 0.10463656 -4.694029 2.678759e-06\n",
    "#maximum_credit_amount       0.64429538 0.12271793  5.250214 1.519227e-07\n",
    "#current_balance             0.30338874 0.09608513  3.157500 1.591285e-03\n",
    "#past_due_balance           -0.41412371 0.04707682 -8.796764 1.408183e-18\n",
    "#worst_delinquency          -1.40659575 0.17891051 -7.862007 3.780261e-15\n",
    "#payment_frequency_enc      -0.87163760 0.32355282 -2.693958 7.060914e-03\n",
    "#cred_LC                    -1.86365336 0.34741691 -5.364314 8.125747e-08\n",
    "#cred_PP                    -1.57789059 0.37447540 -4.213603 2.513291e-05\n",
    "#cred_TC                    -1.35321889 0.37479162 -3.610590 3.055012e-04\n",
    "#credit_limit                0.06414584 0.06196844  1.035137 3.006048e-01\n",
    "```"
   ]
  },
  {
   "cell_type": "code",
   "execution_count": 33,
   "id": "bba66177-f8d5-4dbf-9847-ae4b7c60a269",
   "metadata": {},
   "outputs": [
    {
     "data": {
      "text/plain": [
       "{'amount_to_pay_next_payment': -0.8684590924858693,\n",
       " 'maximum_credit_amount': 0.8406510255916457,\n",
       " 'current_balance': 0.7329958650796538,\n",
       " 'past_due_balance': -1.3917490236057908,\n",
       " 'worst_delinquency': -1.2076620138062164,\n",
       " 'cred_oth': 0.7453836326664676}"
      ]
     },
     "execution_count": 33,
     "metadata": {},
     "output_type": "execute_result"
    }
   ],
   "source": [
    "dict(zip(X.columns, logreg2.coef_[0]))"
   ]
  },
  {
   "cell_type": "code",
   "execution_count": 37,
   "id": "81fd086c-eefd-4b75-b851-2fb1b20314ff",
   "metadata": {},
   "outputs": [
    {
     "data": {
      "text/html": [
       "<div>\n",
       "<style scoped>\n",
       "    .dataframe tbody tr th:only-of-type {\n",
       "        vertical-align: middle;\n",
       "    }\n",
       "\n",
       "    .dataframe tbody tr th {\n",
       "        vertical-align: top;\n",
       "    }\n",
       "\n",
       "    .dataframe thead th {\n",
       "        text-align: right;\n",
       "    }\n",
       "</style>\n",
       "<table border=\"1\" class=\"dataframe\">\n",
       "  <thead>\n",
       "    <tr style=\"text-align: right;\">\n",
       "      <th></th>\n",
       "      <th>maximum_credit_amount</th>\n",
       "      <th>credit_limit</th>\n",
       "      <th>past_due_balance</th>\n",
       "      <th>number_of_payments_due</th>\n",
       "      <th>worst_delinquency</th>\n",
       "      <th>worst_delinquency_past_due_balance</th>\n",
       "    </tr>\n",
       "  </thead>\n",
       "  <tbody>\n",
       "    <tr>\n",
       "      <th>count</th>\n",
       "      <td>291.000000</td>\n",
       "      <td>291.000000</td>\n",
       "      <td>291.000000</td>\n",
       "      <td>291.000000</td>\n",
       "      <td>291.000000</td>\n",
       "      <td>291.000000</td>\n",
       "    </tr>\n",
       "    <tr>\n",
       "      <th>mean</th>\n",
       "      <td>59109.121376</td>\n",
       "      <td>39576.550962</td>\n",
       "      <td>493.814262</td>\n",
       "      <td>0.424992</td>\n",
       "      <td>0.120854</td>\n",
       "      <td>137.892764</td>\n",
       "    </tr>\n",
       "    <tr>\n",
       "      <th>std</th>\n",
       "      <td>61865.761104</td>\n",
       "      <td>45997.167797</td>\n",
       "      <td>2900.161448</td>\n",
       "      <td>0.909531</td>\n",
       "      <td>0.292967</td>\n",
       "      <td>963.639413</td>\n",
       "    </tr>\n",
       "    <tr>\n",
       "      <th>min</th>\n",
       "      <td>467.000000</td>\n",
       "      <td>0.000000</td>\n",
       "      <td>0.000000</td>\n",
       "      <td>0.000000</td>\n",
       "      <td>0.000000</td>\n",
       "      <td>0.000000</td>\n",
       "    </tr>\n",
       "    <tr>\n",
       "      <th>25%</th>\n",
       "      <td>20683.715909</td>\n",
       "      <td>12275.000000</td>\n",
       "      <td>0.000000</td>\n",
       "      <td>0.000000</td>\n",
       "      <td>0.000000</td>\n",
       "      <td>0.000000</td>\n",
       "    </tr>\n",
       "    <tr>\n",
       "      <th>50%</th>\n",
       "      <td>41976.333333</td>\n",
       "      <td>27152.333333</td>\n",
       "      <td>0.000000</td>\n",
       "      <td>0.000000</td>\n",
       "      <td>0.000000</td>\n",
       "      <td>0.000000</td>\n",
       "    </tr>\n",
       "    <tr>\n",
       "      <th>75%</th>\n",
       "      <td>74343.940789</td>\n",
       "      <td>49793.250000</td>\n",
       "      <td>18.584559</td>\n",
       "      <td>0.444444</td>\n",
       "      <td>0.100000</td>\n",
       "      <td>72.472222</td>\n",
       "    </tr>\n",
       "    <tr>\n",
       "      <th>max</th>\n",
       "      <td>358189.000000</td>\n",
       "      <td>324718.238095</td>\n",
       "      <td>40361.400000</td>\n",
       "      <td>6.666667</td>\n",
       "      <td>2.470588</td>\n",
       "      <td>15748.525000</td>\n",
       "    </tr>\n",
       "  </tbody>\n",
       "</table>\n",
       "</div>"
      ],
      "text/plain": [
       "       maximum_credit_amount   credit_limit  past_due_balance  \\\n",
       "count             291.000000     291.000000        291.000000   \n",
       "mean            59109.121376   39576.550962        493.814262   \n",
       "std             61865.761104   45997.167797       2900.161448   \n",
       "min               467.000000       0.000000          0.000000   \n",
       "25%             20683.715909   12275.000000          0.000000   \n",
       "50%             41976.333333   27152.333333          0.000000   \n",
       "75%             74343.940789   49793.250000         18.584559   \n",
       "max            358189.000000  324718.238095      40361.400000   \n",
       "\n",
       "       number_of_payments_due  worst_delinquency  \\\n",
       "count              291.000000         291.000000   \n",
       "mean                 0.424992           0.120854   \n",
       "std                  0.909531           0.292967   \n",
       "min                  0.000000           0.000000   \n",
       "25%                  0.000000           0.000000   \n",
       "50%                  0.000000           0.000000   \n",
       "75%                  0.444444           0.100000   \n",
       "max                  6.666667           2.470588   \n",
       "\n",
       "       worst_delinquency_past_due_balance  \n",
       "count                          291.000000  \n",
       "mean                           137.892764  \n",
       "std                            963.639413  \n",
       "min                              0.000000  \n",
       "25%                              0.000000  \n",
       "50%                              0.000000  \n",
       "75%                             72.472222  \n",
       "max                          15748.525000  "
      ]
     },
     "execution_count": 37,
     "metadata": {},
     "output_type": "execute_result"
    }
   ],
   "source": [
    "best_customers_rf_data[['maximum_credit_amount', 'credit_limit', 'past_due_balance',\n",
    "       'number_of_payments_due', 'worst_delinquency',\n",
    "       'worst_delinquency_past_due_balance']].describe()"
   ]
  },
  {
   "cell_type": "code",
   "execution_count": 46,
   "id": "5a55697d-4312-431c-bb4e-d2665461ff5b",
   "metadata": {},
   "outputs": [
    {
     "data": {
      "text/html": [
       "<div>\n",
       "<style scoped>\n",
       "    .dataframe tbody tr th:only-of-type {\n",
       "        vertical-align: middle;\n",
       "    }\n",
       "\n",
       "    .dataframe tbody tr th {\n",
       "        vertical-align: top;\n",
       "    }\n",
       "\n",
       "    .dataframe thead th {\n",
       "        text-align: right;\n",
       "    }\n",
       "</style>\n",
       "<table border=\"1\" class=\"dataframe\">\n",
       "  <thead>\n",
       "    <tr style=\"text-align: right;\">\n",
       "      <th></th>\n",
       "      <th>amount_to_pay_next_payment</th>\n",
       "      <th>maximum_credit_amount</th>\n",
       "      <th>current_balance</th>\n",
       "      <th>past_due_balance</th>\n",
       "      <th>worst_delinquency</th>\n",
       "    </tr>\n",
       "  </thead>\n",
       "  <tbody>\n",
       "    <tr>\n",
       "      <th>count</th>\n",
       "      <td>283.000000</td>\n",
       "      <td>283.000000</td>\n",
       "      <td>283.000000</td>\n",
       "      <td>283.000000</td>\n",
       "      <td>283.000000</td>\n",
       "    </tr>\n",
       "    <tr>\n",
       "      <th>mean</th>\n",
       "      <td>1431.928565</td>\n",
       "      <td>52072.004430</td>\n",
       "      <td>29081.437764</td>\n",
       "      <td>0.602387</td>\n",
       "      <td>0.337861</td>\n",
       "    </tr>\n",
       "    <tr>\n",
       "      <th>std</th>\n",
       "      <td>7106.402580</td>\n",
       "      <td>65286.491808</td>\n",
       "      <td>46328.138721</td>\n",
       "      <td>3.696477</td>\n",
       "      <td>0.982131</td>\n",
       "    </tr>\n",
       "    <tr>\n",
       "      <th>min</th>\n",
       "      <td>0.000000</td>\n",
       "      <td>233.500000</td>\n",
       "      <td>0.000000</td>\n",
       "      <td>0.000000</td>\n",
       "      <td>0.000000</td>\n",
       "    </tr>\n",
       "    <tr>\n",
       "      <th>25%</th>\n",
       "      <td>219.857143</td>\n",
       "      <td>12574.845238</td>\n",
       "      <td>4541.783333</td>\n",
       "      <td>0.000000</td>\n",
       "      <td>0.000000</td>\n",
       "    </tr>\n",
       "    <tr>\n",
       "      <th>50%</th>\n",
       "      <td>636.680000</td>\n",
       "      <td>30582.738095</td>\n",
       "      <td>14687.454545</td>\n",
       "      <td>0.000000</td>\n",
       "      <td>0.000000</td>\n",
       "    </tr>\n",
       "    <tr>\n",
       "      <th>75%</th>\n",
       "      <td>1120.897436</td>\n",
       "      <td>62500.719298</td>\n",
       "      <td>35916.484375</td>\n",
       "      <td>0.000000</td>\n",
       "      <td>0.172322</td>\n",
       "    </tr>\n",
       "    <tr>\n",
       "      <th>max</th>\n",
       "      <td>117606.000000</td>\n",
       "      <td>448307.000000</td>\n",
       "      <td>441894.000000</td>\n",
       "      <td>35.538462</td>\n",
       "      <td>8.750000</td>\n",
       "    </tr>\n",
       "  </tbody>\n",
       "</table>\n",
       "</div>"
      ],
      "text/plain": [
       "       amount_to_pay_next_payment  maximum_credit_amount  current_balance  \\\n",
       "count                  283.000000             283.000000       283.000000   \n",
       "mean                  1431.928565           52072.004430     29081.437764   \n",
       "std                   7106.402580           65286.491808     46328.138721   \n",
       "min                      0.000000             233.500000         0.000000   \n",
       "25%                    219.857143           12574.845238      4541.783333   \n",
       "50%                    636.680000           30582.738095     14687.454545   \n",
       "75%                   1120.897436           62500.719298     35916.484375   \n",
       "max                 117606.000000          448307.000000    441894.000000   \n",
       "\n",
       "       past_due_balance  worst_delinquency  \n",
       "count        283.000000         283.000000  \n",
       "mean           0.602387           0.337861  \n",
       "std            3.696477           0.982131  \n",
       "min            0.000000           0.000000  \n",
       "25%            0.000000           0.000000  \n",
       "50%            0.000000           0.000000  \n",
       "75%            0.000000           0.172322  \n",
       "max           35.538462           8.750000  "
      ]
     },
     "execution_count": 46,
     "metadata": {},
     "output_type": "execute_result"
    }
   ],
   "source": [
    "best_customers_lr_data[['amount_to_pay_next_payment', 'maximum_credit_amount',\n",
    "       'current_balance', 'past_due_balance', 'worst_delinquency']].describe()"
   ]
  },
  {
   "cell_type": "code",
   "execution_count": null,
   "id": "1647b674-2def-40d7-80b6-bbdc4af12785",
   "metadata": {},
   "outputs": [],
   "source": []
  },
  {
   "cell_type": "markdown",
   "id": "53969725-9b19-4b8d-92bb-bc26fee0d4cc",
   "metadata": {},
   "source": [
    "### Finally choose an anual interest rate the lended amount must have in order to be profitable"
   ]
  },
  {
   "cell_type": "code",
   "execution_count": null,
   "id": "afe068d9",
   "metadata": {},
   "outputs": [],
   "source": []
  }
 ],
 "metadata": {
  "kernelspec": {
   "display_name": "Python 3",
   "language": "python",
   "name": "python3"
  },
  "language_info": {
   "codemirror_mode": {
    "name": "ipython",
    "version": 3
   },
   "file_extension": ".py",
   "mimetype": "text/x-python",
   "name": "python",
   "nbconvert_exporter": "python",
   "pygments_lexer": "ipython3",
   "version": "3.8.8"
  },
  "toc-autonumbering": true,
  "toc-showcode": false,
  "toc-showtags": false
 },
 "nbformat": 4,
 "nbformat_minor": 5
}
