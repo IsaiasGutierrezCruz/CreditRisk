{
 "cells": [
  {
   "cell_type": "markdown",
   "id": "89c6b2a2",
   "metadata": {},
   "source": [
    "# Challenge Credit Risk"
   ]
  },
  {
   "cell_type": "markdown",
   "id": "6327e1ac",
   "metadata": {},
   "source": [
    "**Packages**"
   ]
  },
  {
   "cell_type": "code",
   "execution_count": 1,
   "id": "475370b3",
   "metadata": {},
   "outputs": [],
   "source": [
    "import numpy as np\n",
    "import pandas as pd \n",
    "import matplotlib.pyplot as plt\n",
    "%matplotlib inline\n",
    "import seaborn as sns\n",
    "\n",
    "#from datetime import date, datetime"
   ]
  },
  {
   "cell_type": "code",
   "execution_count": 2,
   "id": "99ea017b",
   "metadata": {},
   "outputs": [],
   "source": [
    "#plt.rcParams['figure.figsize'] = [8,5]\n",
    "#plt.rcParams['font.size'] =14\n",
    "#plt.rcParams['font.weight']= 'bold'\n",
    "#plt.style.use('seaborn-whitegrid')"
   ]
  },
  {
   "cell_type": "markdown",
   "id": "f843eebb",
   "metadata": {},
   "source": [
    "## Business Undestanding"
   ]
  },
  {
   "cell_type": "markdown",
   "id": "627a1202",
   "metadata": {},
   "source": [
    "### Questions to answer \n",
    "\n",
    "- Pick the best clients you will give a loan to, based on the model you created. It\n",
    "could be as complex as you decide (even as simpler as knock out rules), as long as\n",
    "the metrics support it\n",
    "- Propose an amount to be lended to those clients and a term in which the loan will\n",
    "need to be paid back.\n",
    "- Finally choose an anual interest rate the lended amount must have in order to be\n",
    "profitable."
   ]
  },
  {
   "cell_type": "markdown",
   "id": "5e5f8e76",
   "metadata": {},
   "source": [
    "## Data Understanding"
   ]
  },
  {
   "cell_type": "markdown",
   "id": "38f7f7b0",
   "metadata": {},
   "source": [
    "Read datasets"
   ]
  },
  {
   "cell_type": "code",
   "execution_count": 3,
   "id": "5fd9072f",
   "metadata": {},
   "outputs": [],
   "source": [
    "from pathlib import Path\n",
    "root_dir = Path().resolve()"
   ]
  },
  {
   "cell_type": "code",
   "execution_count": 4,
   "id": "e7bf1146",
   "metadata": {},
   "outputs": [],
   "source": [
    "data_users = pd.read_csv('data/users.csv')\n",
    "data_credit_reports = pd.read_csv('data/credit_reports.csv', parse_dates=['account_opening_date', 'account_closing_date'])"
   ]
  },
  {
   "cell_type": "markdown",
   "id": "f06906fc",
   "metadata": {},
   "source": [
    "### Solving the date's format\n",
    "The dataset `data_credit_reports` has '0000-00-00' values in the column `worst_delinquency_date`, probably due to an error in the date's conversion during the data preparation."
   ]
  },
  {
   "cell_type": "code",
   "execution_count": 5,
   "id": "beceb2a5",
   "metadata": {},
   "outputs": [
    {
     "data": {
      "text/plain": [
       "16       0000-00-00\n",
       "22       0000-00-00\n",
       "23       0000-00-00\n",
       "354      0000-00-00\n",
       "355      0000-00-00\n",
       "            ...    \n",
       "15642    0000-00-00\n",
       "15884    0000-00-00\n",
       "15885    0000-00-00\n",
       "15898    0000-00-00\n",
       "15899    0000-00-00\n",
       "Name: worst_delinquency_date, Length: 428, dtype: object"
      ]
     },
     "execution_count": 5,
     "metadata": {},
     "output_type": "execute_result"
    }
   ],
   "source": [
    "data_credit_reports['worst_delinquency_date'].loc[data_credit_reports['worst_delinquency_date'].str.match('.*\\/.*\\/.*') == False]"
   ]
  },
  {
   "cell_type": "code",
   "execution_count": 6,
   "id": "db0a12bb",
   "metadata": {},
   "outputs": [],
   "source": [
    "data_credit_reports['worst_delinquency_date'].replace({\"0000-00-00\": np.NaN}, inplace=True)\n",
    "data_credit_reports['worst_delinquency_date'] = pd.to_datetime(data_credit_reports['worst_delinquency_date'], \n",
    "                                                              format='%m/%d/%y')"
   ]
  },
  {
   "cell_type": "markdown",
   "id": "057a893b",
   "metadata": {},
   "source": [
    "### Exploring user's Income and outcome "
   ]
  },
  {
   "cell_type": "code",
   "execution_count": 7,
   "id": "201ba0a8",
   "metadata": {
    "scrolled": true
   },
   "outputs": [
    {
     "data": {
      "text/html": [
       "<div>\n",
       "<style scoped>\n",
       "    .dataframe tbody tr th:only-of-type {\n",
       "        vertical-align: middle;\n",
       "    }\n",
       "\n",
       "    .dataframe tbody tr th {\n",
       "        vertical-align: top;\n",
       "    }\n",
       "\n",
       "    .dataframe thead th {\n",
       "        text-align: right;\n",
       "    }\n",
       "</style>\n",
       "<table border=\"1\" class=\"dataframe\">\n",
       "  <thead>\n",
       "    <tr style=\"text-align: right;\">\n",
       "      <th></th>\n",
       "      <th>id</th>\n",
       "      <th>monthly_income</th>\n",
       "      <th>monthly_outcome</th>\n",
       "      <th>class</th>\n",
       "    </tr>\n",
       "  </thead>\n",
       "  <tbody>\n",
       "    <tr>\n",
       "      <th>0</th>\n",
       "      <td>0</td>\n",
       "      <td>255359</td>\n",
       "      <td>151439</td>\n",
       "      <td>1</td>\n",
       "    </tr>\n",
       "    <tr>\n",
       "      <th>1</th>\n",
       "      <td>1</td>\n",
       "      <td>8940</td>\n",
       "      <td>789</td>\n",
       "      <td>0</td>\n",
       "    </tr>\n",
       "    <tr>\n",
       "      <th>2</th>\n",
       "      <td>2</td>\n",
       "      <td>11436</td>\n",
       "      <td>3316</td>\n",
       "      <td>0</td>\n",
       "    </tr>\n",
       "    <tr>\n",
       "      <th>3</th>\n",
       "      <td>3</td>\n",
       "      <td>17143</td>\n",
       "      <td>47547</td>\n",
       "      <td>1</td>\n",
       "    </tr>\n",
       "    <tr>\n",
       "      <th>4</th>\n",
       "      <td>4</td>\n",
       "      <td>26990</td>\n",
       "      <td>15585</td>\n",
       "      <td>1</td>\n",
       "    </tr>\n",
       "    <tr>\n",
       "      <th>5</th>\n",
       "      <td>5</td>\n",
       "      <td>166</td>\n",
       "      <td>5240</td>\n",
       "      <td>0</td>\n",
       "    </tr>\n",
       "    <tr>\n",
       "      <th>6</th>\n",
       "      <td>6</td>\n",
       "      <td>111662</td>\n",
       "      <td>108374</td>\n",
       "      <td>1</td>\n",
       "    </tr>\n",
       "    <tr>\n",
       "      <th>7</th>\n",
       "      <td>7</td>\n",
       "      <td>6271</td>\n",
       "      <td>44469</td>\n",
       "      <td>1</td>\n",
       "    </tr>\n",
       "    <tr>\n",
       "      <th>8</th>\n",
       "      <td>8</td>\n",
       "      <td>31695</td>\n",
       "      <td>3021</td>\n",
       "      <td>0</td>\n",
       "    </tr>\n",
       "    <tr>\n",
       "      <th>9</th>\n",
       "      <td>9</td>\n",
       "      <td>2401260</td>\n",
       "      <td>6496313</td>\n",
       "      <td>0</td>\n",
       "    </tr>\n",
       "  </tbody>\n",
       "</table>\n",
       "</div>"
      ],
      "text/plain": [
       "   id  monthly_income  monthly_outcome  class\n",
       "0   0          255359           151439      1\n",
       "1   1            8940              789      0\n",
       "2   2           11436             3316      0\n",
       "3   3           17143            47547      1\n",
       "4   4           26990            15585      1\n",
       "5   5             166             5240      0\n",
       "6   6          111662           108374      1\n",
       "7   7            6271            44469      1\n",
       "8   8           31695             3021      0\n",
       "9   9         2401260          6496313      0"
      ]
     },
     "execution_count": 7,
     "metadata": {},
     "output_type": "execute_result"
    }
   ],
   "source": [
    "data_users.head(10)"
   ]
  },
  {
   "cell_type": "code",
   "execution_count": 8,
   "id": "76142127",
   "metadata": {},
   "outputs": [
    {
     "name": "stdout",
     "output_type": "stream",
     "text": [
      "<class 'pandas.core.frame.DataFrame'>\n",
      "RangeIndex: 1000 entries, 0 to 999\n",
      "Data columns (total 4 columns):\n",
      " #   Column           Non-Null Count  Dtype\n",
      "---  ------           --------------  -----\n",
      " 0   id               1000 non-null   int64\n",
      " 1   monthly_income   1000 non-null   int64\n",
      " 2   monthly_outcome  1000 non-null   int64\n",
      " 3   class            1000 non-null   int64\n",
      "dtypes: int64(4)\n",
      "memory usage: 31.4 KB\n"
     ]
    }
   ],
   "source": [
    "data_users.info()"
   ]
  },
  {
   "cell_type": "markdown",
   "id": "1250752d",
   "metadata": {},
   "source": [
    "#### Distribution of user's Income and outcome "
   ]
  },
  {
   "cell_type": "code",
   "execution_count": 9,
   "id": "92bd308b",
   "metadata": {
    "scrolled": true
   },
   "outputs": [
    {
     "data": {
      "text/plain": [
       "'\\n# Set up the matplotlib figure\\nsns.set_palette(\"tab10\")\\nfig, axes = plt.subplots(1, 2, figsize=(12, 7), sharex=True)\\nfig.suptitle(\"Monthly Income and outcome for each user\\'s class\")\\n\\n#plt.figure(figsize=(8, 6))\\nsns.boxplot(x=\\'class\\', y=\\'monthly_income\\', data=data_users, showfliers=True, ax=axes[0])\\n#plt.show()\\n\\n#plt.figure(figsize=(8, 6))\\nsns.boxplot(x=\\'class\\', y=\\'monthly_outcome\\', data=data_users, showfliers=True, ax=axes[1])\\n#plt.show()\\n\\naxes1, axes2 = axes.ravel()\\naxes1.set_ylim(0, 0.5e6) \\naxes2.set_ylim(0, 0.5e6) \\n\\n#plt.setp(axes, yticks=[])\\nplt.tight_layout()\\n'"
      ]
     },
     "execution_count": 9,
     "metadata": {},
     "output_type": "execute_result"
    }
   ],
   "source": [
    "\"\"\"\n",
    "# Set up the matplotlib figure\n",
    "sns.set_palette(\"tab10\")\n",
    "fig, axes = plt.subplots(1, 2, figsize=(12, 7), sharex=True)\n",
    "fig.suptitle(\"Monthly Income and outcome for each user's class\")\n",
    "\n",
    "#plt.figure(figsize=(8, 6))\n",
    "sns.boxplot(x='class', y='monthly_income', data=data_users, showfliers=True, ax=axes[0])\n",
    "#plt.show()\n",
    "\n",
    "#plt.figure(figsize=(8, 6))\n",
    "sns.boxplot(x='class', y='monthly_outcome', data=data_users, showfliers=True, ax=axes[1])\n",
    "#plt.show()\n",
    "\n",
    "axes1, axes2 = axes.ravel()\n",
    "axes1.set_ylim(0, 0.5e6) \n",
    "axes2.set_ylim(0, 0.5e6) \n",
    "\n",
    "#plt.setp(axes, yticks=[])\n",
    "plt.tight_layout()\n",
    "\"\"\""
   ]
  },
  {
   "cell_type": "code",
   "execution_count": 10,
   "id": "c74e20f6",
   "metadata": {},
   "outputs": [
    {
     "data": {
      "text/html": [
       "<div>\n",
       "<style scoped>\n",
       "    .dataframe tbody tr th:only-of-type {\n",
       "        vertical-align: middle;\n",
       "    }\n",
       "\n",
       "    .dataframe tbody tr th {\n",
       "        vertical-align: top;\n",
       "    }\n",
       "\n",
       "    .dataframe thead th {\n",
       "        text-align: right;\n",
       "    }\n",
       "</style>\n",
       "<table border=\"1\" class=\"dataframe\">\n",
       "  <thead>\n",
       "    <tr style=\"text-align: right;\">\n",
       "      <th></th>\n",
       "      <th>id</th>\n",
       "      <th>monthly_income</th>\n",
       "      <th>monthly_outcome</th>\n",
       "      <th>class</th>\n",
       "    </tr>\n",
       "  </thead>\n",
       "  <tbody>\n",
       "    <tr>\n",
       "      <th>count</th>\n",
       "      <td>1000.000000</td>\n",
       "      <td>1.000000e+03</td>\n",
       "      <td>1.000000e+03</td>\n",
       "      <td>1000.000000</td>\n",
       "    </tr>\n",
       "    <tr>\n",
       "      <th>mean</th>\n",
       "      <td>499.500000</td>\n",
       "      <td>1.216138e+05</td>\n",
       "      <td>1.249657e+05</td>\n",
       "      <td>0.535000</td>\n",
       "    </tr>\n",
       "    <tr>\n",
       "      <th>std</th>\n",
       "      <td>288.819436</td>\n",
       "      <td>4.709416e+05</td>\n",
       "      <td>5.796281e+05</td>\n",
       "      <td>0.499023</td>\n",
       "    </tr>\n",
       "    <tr>\n",
       "      <th>min</th>\n",
       "      <td>0.000000</td>\n",
       "      <td>1.000000e+00</td>\n",
       "      <td>1.000000e+00</td>\n",
       "      <td>0.000000</td>\n",
       "    </tr>\n",
       "    <tr>\n",
       "      <th>25%</th>\n",
       "      <td>249.750000</td>\n",
       "      <td>2.691250e+03</td>\n",
       "      <td>3.397750e+03</td>\n",
       "      <td>0.000000</td>\n",
       "    </tr>\n",
       "    <tr>\n",
       "      <th>50%</th>\n",
       "      <td>499.500000</td>\n",
       "      <td>1.253350e+04</td>\n",
       "      <td>1.424250e+04</td>\n",
       "      <td>1.000000</td>\n",
       "    </tr>\n",
       "    <tr>\n",
       "      <th>75%</th>\n",
       "      <td>749.250000</td>\n",
       "      <td>5.868600e+04</td>\n",
       "      <td>5.722850e+04</td>\n",
       "      <td>1.000000</td>\n",
       "    </tr>\n",
       "    <tr>\n",
       "      <th>max</th>\n",
       "      <td>999.000000</td>\n",
       "      <td>9.344842e+06</td>\n",
       "      <td>9.749651e+06</td>\n",
       "      <td>1.000000</td>\n",
       "    </tr>\n",
       "  </tbody>\n",
       "</table>\n",
       "</div>"
      ],
      "text/plain": [
       "                id  monthly_income  monthly_outcome        class\n",
       "count  1000.000000    1.000000e+03     1.000000e+03  1000.000000\n",
       "mean    499.500000    1.216138e+05     1.249657e+05     0.535000\n",
       "std     288.819436    4.709416e+05     5.796281e+05     0.499023\n",
       "min       0.000000    1.000000e+00     1.000000e+00     0.000000\n",
       "25%     249.750000    2.691250e+03     3.397750e+03     0.000000\n",
       "50%     499.500000    1.253350e+04     1.424250e+04     1.000000\n",
       "75%     749.250000    5.868600e+04     5.722850e+04     1.000000\n",
       "max     999.000000    9.344842e+06     9.749651e+06     1.000000"
      ]
     },
     "execution_count": 10,
     "metadata": {},
     "output_type": "execute_result"
    }
   ],
   "source": [
    "data_users.describe()"
   ]
  },
  {
   "cell_type": "code",
   "execution_count": 11,
   "id": "4537fc2f",
   "metadata": {},
   "outputs": [
    {
     "data": {
      "image/png": "[encoded data removed]",
      "text/plain": [
       "<Figure size 864x504 with 2 Axes>"
      ]
     },
     "metadata": {
      "needs_background": "light"
     },
     "output_type": "display_data"
    }
   ],
   "source": [
    "# Set up the matplotlib figure\n",
    "sns.set_palette(\"tab10\")\n",
    "fig, axes = plt.subplots(1, 2, figsize=(12, 7), sharex=True)\n",
    "fig.suptitle(\"Monthly Income and outcome for each user's class\")\n",
    "\n",
    "#plt.figure(figsize=(8, 6))\n",
    "sns.violinplot(x='class', y='monthly_income', data=data_users, showfliers=True, ax=axes[0])\n",
    "#plt.show()\n",
    "\n",
    "#plt.figure(figsize=(8, 6))\n",
    "sns.violinplot(x='class', y='monthly_outcome', data=data_users, showfliers=True, ax=axes[1])\n",
    "#plt.show()\n",
    "\n",
    "#axes1, axes2 = axes.ravel()\n",
    "#axes1.set_ylim(0, 0.5e6) \n",
    "#axes2.set_ylim(0, 0.5e6) \n",
    "\n",
    "#plt.setp(axes, yticks=[])\n",
    "plt.tight_layout()"
   ]
  },
  {
   "cell_type": "markdown",
   "id": "cef7287b",
   "metadata": {},
   "source": [
    "If we calculate the Fisher-Pearson standardized moment coefficient, we can see that all the variables are skewed"
   ]
  },
  {
   "cell_type": "code",
   "execution_count": 58,
   "id": "55409000",
   "metadata": {},
   "outputs": [
    {
     "data": {
      "text/plain": [
       "monthly_outcome    10.895201\n",
       "monthly_income     10.634858\n",
       "dtype: float64"
      ]
     },
     "execution_count": 58,
     "metadata": {},
     "output_type": "execute_result"
    }
   ],
   "source": [
    "data_users[['monthly_income', 'monthly_outcome']].skew().sort_values(ascending=False)"
   ]
  },
  {
   "cell_type": "markdown",
   "id": "5cb3ac7e",
   "metadata": {},
   "source": [
    "The distribution of the `monthly_income` and `monthly_outcome` variable are skewed to high values. There are some outliers."
   ]
  },
  {
   "cell_type": "markdown",
   "id": "0f92fb36",
   "metadata": {},
   "source": [
    "#### Amount of each class"
   ]
  },
  {
   "cell_type": "code",
   "execution_count": 12,
   "id": "af9d4443",
   "metadata": {},
   "outputs": [
    {
     "data": {
      "image/png": "[encoded data removed]",
      "text/plain": [
       "<Figure size 576x432 with 1 Axes>"
      ]
     },
     "metadata": {
      "needs_background": "light"
     },
     "output_type": "display_data"
    }
   ],
   "source": [
    "plt.figure(figsize=(8, 6))\n",
    "class_count = pd.DataFrame(data_users['class'].value_counts())\n",
    "#sns.set(style=\"darkgrid\")\n",
    "sns.barplot(x=class_count.index, y=class_count['class'],  data=class_count, alpha=0.9)\n",
    "plt.title(\"Frequency Distribution of classes' observations\", fontsize=14)\n",
    "plt.ylabel('Number of Occurrences', fontsize=14)\n",
    "plt.xlabel('Class', fontsize=14)\n",
    "plt.show()"
   ]
  },
  {
   "cell_type": "markdown",
   "id": "9152e20d",
   "metadata": {},
   "source": [
    "The number of observation in each class are balanced. There isn't an important difference between both classes. "
   ]
  },
  {
   "cell_type": "markdown",
   "id": "9a637906",
   "metadata": {},
   "source": [
    "### Exploring user's credit reports"
   ]
  },
  {
   "cell_type": "code",
   "execution_count": 13,
   "id": "d47628c0",
   "metadata": {
    "scrolled": true
   },
   "outputs": [
    {
     "data": {
      "text/html": [
       "<div>\n",
       "<style scoped>\n",
       "    .dataframe tbody tr th:only-of-type {\n",
       "        vertical-align: middle;\n",
       "    }\n",
       "\n",
       "    .dataframe tbody tr th {\n",
       "        vertical-align: top;\n",
       "    }\n",
       "\n",
       "    .dataframe thead th {\n",
       "        text-align: right;\n",
       "    }\n",
       "</style>\n",
       "<table border=\"1\" class=\"dataframe\">\n",
       "  <thead>\n",
       "    <tr style=\"text-align: right;\">\n",
       "      <th></th>\n",
       "      <th>user_id</th>\n",
       "      <th>institution</th>\n",
       "      <th>account_type</th>\n",
       "      <th>credit_type</th>\n",
       "      <th>total_credit_payments</th>\n",
       "      <th>payment_frequency</th>\n",
       "      <th>amount_to_pay_next_payment</th>\n",
       "      <th>account_opening_date</th>\n",
       "      <th>account_closing_date</th>\n",
       "      <th>maximum_credit_amount</th>\n",
       "      <th>current_balance</th>\n",
       "      <th>credit_limit</th>\n",
       "      <th>past_due_balance</th>\n",
       "      <th>number_of_payments_due</th>\n",
       "      <th>worst_delinquency</th>\n",
       "      <th>worst_delinquency_date</th>\n",
       "      <th>worst_delinquency_past_due_balance</th>\n",
       "    </tr>\n",
       "  </thead>\n",
       "  <tbody>\n",
       "    <tr>\n",
       "      <th>0</th>\n",
       "      <td>0</td>\n",
       "      <td>MERCANCIA PARA HOGAR Y OFICINA</td>\n",
       "      <td>Pagos Fijos</td>\n",
       "      <td>Línea de Crédito</td>\n",
       "      <td>78.0</td>\n",
       "      <td>Semanal</td>\n",
       "      <td>0.0</td>\n",
       "      <td>2014-11-10</td>\n",
       "      <td>2015-12-05</td>\n",
       "      <td>9826.0</td>\n",
       "      <td>0.0</td>\n",
       "      <td>0.0</td>\n",
       "      <td>0.0</td>\n",
       "      <td>0.0</td>\n",
       "      <td>0.0</td>\n",
       "      <td>NaT</td>\n",
       "      <td>0.0</td>\n",
       "    </tr>\n",
       "    <tr>\n",
       "      <th>1</th>\n",
       "      <td>0</td>\n",
       "      <td>MERCANCIA PARA HOGAR Y OFICINA</td>\n",
       "      <td>Pagos Fijos</td>\n",
       "      <td>Préstamo Personal</td>\n",
       "      <td>80.0</td>\n",
       "      <td>Semanal</td>\n",
       "      <td>0.0</td>\n",
       "      <td>2015-12-05</td>\n",
       "      <td>2016-10-14</td>\n",
       "      <td>16000.0</td>\n",
       "      <td>0.0</td>\n",
       "      <td>0.0</td>\n",
       "      <td>0.0</td>\n",
       "      <td>3.0</td>\n",
       "      <td>1.0</td>\n",
       "      <td>2016-05-28</td>\n",
       "      <td>200.0</td>\n",
       "    </tr>\n",
       "    <tr>\n",
       "      <th>2</th>\n",
       "      <td>0</td>\n",
       "      <td>MERCANCIA PARA HOGAR Y OFICINA</td>\n",
       "      <td>Pagos Fijos</td>\n",
       "      <td>Línea de Crédito</td>\n",
       "      <td>102.0</td>\n",
       "      <td>Semanal</td>\n",
       "      <td>100.0</td>\n",
       "      <td>2016-09-02</td>\n",
       "      <td>NaT</td>\n",
       "      <td>10205.0</td>\n",
       "      <td>3505.0</td>\n",
       "      <td>0.0</td>\n",
       "      <td>0.0</td>\n",
       "      <td>3.0</td>\n",
       "      <td>1.0</td>\n",
       "      <td>2017-03-03</td>\n",
       "      <td>100.0</td>\n",
       "    </tr>\n",
       "    <tr>\n",
       "      <th>3</th>\n",
       "      <td>0</td>\n",
       "      <td>MERCANCIA PARA HOGAR Y OFICINA</td>\n",
       "      <td>Pagos Fijos</td>\n",
       "      <td>Préstamo Personal</td>\n",
       "      <td>120.0</td>\n",
       "      <td>Semanal</td>\n",
       "      <td>191.0</td>\n",
       "      <td>2016-10-14</td>\n",
       "      <td>NaT</td>\n",
       "      <td>22920.0</td>\n",
       "      <td>11269.0</td>\n",
       "      <td>0.0</td>\n",
       "      <td>0.0</td>\n",
       "      <td>3.0</td>\n",
       "      <td>1.0</td>\n",
       "      <td>2017-03-03</td>\n",
       "      <td>191.0</td>\n",
       "    </tr>\n",
       "    <tr>\n",
       "      <th>4</th>\n",
       "      <td>0</td>\n",
       "      <td>KONFIO</td>\n",
       "      <td>Pagos Fijos</td>\n",
       "      <td>Préstamo Personal</td>\n",
       "      <td>12.0</td>\n",
       "      <td>Quincenal</td>\n",
       "      <td>0.0</td>\n",
       "      <td>2016-12-27</td>\n",
       "      <td>2017-06-27</td>\n",
       "      <td>150000.0</td>\n",
       "      <td>0.0</td>\n",
       "      <td>0.0</td>\n",
       "      <td>0.0</td>\n",
       "      <td>0.0</td>\n",
       "      <td>0.0</td>\n",
       "      <td>NaT</td>\n",
       "      <td>0.0</td>\n",
       "    </tr>\n",
       "    <tr>\n",
       "      <th>5</th>\n",
       "      <td>0</td>\n",
       "      <td>KONFIO</td>\n",
       "      <td>Pagos Fijos</td>\n",
       "      <td>Préstamo Personal</td>\n",
       "      <td>26.0</td>\n",
       "      <td>Quincenal</td>\n",
       "      <td>10825.0</td>\n",
       "      <td>2017-06-28</td>\n",
       "      <td>NaT</td>\n",
       "      <td>225000.0</td>\n",
       "      <td>159142.0</td>\n",
       "      <td>0.0</td>\n",
       "      <td>0.0</td>\n",
       "      <td>0.0</td>\n",
       "      <td>0.0</td>\n",
       "      <td>NaT</td>\n",
       "      <td>0.0</td>\n",
       "    </tr>\n",
       "    <tr>\n",
       "      <th>6</th>\n",
       "      <td>0</td>\n",
       "      <td>TELEFONIA CELULAR</td>\n",
       "      <td>Revolvente</td>\n",
       "      <td>Línea de Crédito</td>\n",
       "      <td>1000.0</td>\n",
       "      <td>Mensual</td>\n",
       "      <td>0.0</td>\n",
       "      <td>2016-10-06</td>\n",
       "      <td>2017-09-15</td>\n",
       "      <td>0.0</td>\n",
       "      <td>0.0</td>\n",
       "      <td>999.0</td>\n",
       "      <td>0.0</td>\n",
       "      <td>7.0</td>\n",
       "      <td>4.0</td>\n",
       "      <td>2017-05-31</td>\n",
       "      <td>4342.0</td>\n",
       "    </tr>\n",
       "    <tr>\n",
       "      <th>7</th>\n",
       "      <td>0</td>\n",
       "      <td>MERCANCIA PARA HOGAR Y OFICINA</td>\n",
       "      <td>Sin Límite Preestablecido</td>\n",
       "      <td>Crédito Personal al Consumo</td>\n",
       "      <td>0.0</td>\n",
       "      <td>Semanal</td>\n",
       "      <td>0.0</td>\n",
       "      <td>2014-11-10</td>\n",
       "      <td>NaT</td>\n",
       "      <td>0.0</td>\n",
       "      <td>0.0</td>\n",
       "      <td>0.0</td>\n",
       "      <td>0.0</td>\n",
       "      <td>0.0</td>\n",
       "      <td>0.0</td>\n",
       "      <td>NaT</td>\n",
       "      <td>0.0</td>\n",
       "    </tr>\n",
       "    <tr>\n",
       "      <th>8</th>\n",
       "      <td>0</td>\n",
       "      <td>AUTOMOTRIZ</td>\n",
       "      <td>Pagos Fijos</td>\n",
       "      <td>Compra de Automóvil</td>\n",
       "      <td>72.0</td>\n",
       "      <td>Mensual</td>\n",
       "      <td>5874.0</td>\n",
       "      <td>2017-08-22</td>\n",
       "      <td>NaT</td>\n",
       "      <td>513069.0</td>\n",
       "      <td>475245.0</td>\n",
       "      <td>513069.0</td>\n",
       "      <td>0.0</td>\n",
       "      <td>0.0</td>\n",
       "      <td>0.0</td>\n",
       "      <td>NaT</td>\n",
       "      <td>0.0</td>\n",
       "    </tr>\n",
       "    <tr>\n",
       "      <th>9</th>\n",
       "      <td>0</td>\n",
       "      <td>AUTOMOTRIZ</td>\n",
       "      <td>Pagos Fijos</td>\n",
       "      <td>Compra de Automóvil</td>\n",
       "      <td>24.0</td>\n",
       "      <td>Mensual</td>\n",
       "      <td>10557.0</td>\n",
       "      <td>2017-01-31</td>\n",
       "      <td>NaT</td>\n",
       "      <td>247705.0</td>\n",
       "      <td>124316.0</td>\n",
       "      <td>247705.0</td>\n",
       "      <td>0.0</td>\n",
       "      <td>0.0</td>\n",
       "      <td>0.0</td>\n",
       "      <td>NaT</td>\n",
       "      <td>0.0</td>\n",
       "    </tr>\n",
       "  </tbody>\n",
       "</table>\n",
       "</div>"
      ],
      "text/plain": [
       "   user_id                     institution               account_type  \\\n",
       "0        0  MERCANCIA PARA HOGAR Y OFICINA                Pagos Fijos   \n",
       "1        0  MERCANCIA PARA HOGAR Y OFICINA                Pagos Fijos   \n",
       "2        0  MERCANCIA PARA HOGAR Y OFICINA                Pagos Fijos   \n",
       "3        0  MERCANCIA PARA HOGAR Y OFICINA                Pagos Fijos   \n",
       "4        0                          KONFIO                Pagos Fijos   \n",
       "5        0                          KONFIO                Pagos Fijos   \n",
       "6        0               TELEFONIA CELULAR                 Revolvente   \n",
       "7        0  MERCANCIA PARA HOGAR Y OFICINA  Sin Límite Preestablecido   \n",
       "8        0                      AUTOMOTRIZ                Pagos Fijos   \n",
       "9        0                      AUTOMOTRIZ                Pagos Fijos   \n",
       "\n",
       "                   credit_type  total_credit_payments payment_frequency  \\\n",
       "0             Línea de Crédito                   78.0           Semanal   \n",
       "1           Préstamo Personal                    80.0           Semanal   \n",
       "2             Línea de Crédito                  102.0           Semanal   \n",
       "3           Préstamo Personal                   120.0           Semanal   \n",
       "4           Préstamo Personal                    12.0         Quincenal   \n",
       "5           Préstamo Personal                    26.0         Quincenal   \n",
       "6             Línea de Crédito                 1000.0           Mensual   \n",
       "7  Crédito Personal al Consumo                    0.0           Semanal   \n",
       "8          Compra de Automóvil                   72.0           Mensual   \n",
       "9          Compra de Automóvil                   24.0           Mensual   \n",
       "\n",
       "   amount_to_pay_next_payment account_opening_date account_closing_date  \\\n",
       "0                         0.0           2014-11-10           2015-12-05   \n",
       "1                         0.0           2015-12-05           2016-10-14   \n",
       "2                       100.0           2016-09-02                  NaT   \n",
       "3                       191.0           2016-10-14                  NaT   \n",
       "4                         0.0           2016-12-27           2017-06-27   \n",
       "5                     10825.0           2017-06-28                  NaT   \n",
       "6                         0.0           2016-10-06           2017-09-15   \n",
       "7                         0.0           2014-11-10                  NaT   \n",
       "8                      5874.0           2017-08-22                  NaT   \n",
       "9                     10557.0           2017-01-31                  NaT   \n",
       "\n",
       "   maximum_credit_amount  current_balance  credit_limit  past_due_balance  \\\n",
       "0                 9826.0              0.0           0.0               0.0   \n",
       "1                16000.0              0.0           0.0               0.0   \n",
       "2                10205.0           3505.0           0.0               0.0   \n",
       "3                22920.0          11269.0           0.0               0.0   \n",
       "4               150000.0              0.0           0.0               0.0   \n",
       "5               225000.0         159142.0           0.0               0.0   \n",
       "6                    0.0              0.0         999.0               0.0   \n",
       "7                    0.0              0.0           0.0               0.0   \n",
       "8               513069.0         475245.0      513069.0               0.0   \n",
       "9               247705.0         124316.0      247705.0               0.0   \n",
       "\n",
       "   number_of_payments_due  worst_delinquency worst_delinquency_date  \\\n",
       "0                     0.0                0.0                    NaT   \n",
       "1                     3.0                1.0             2016-05-28   \n",
       "2                     3.0                1.0             2017-03-03   \n",
       "3                     3.0                1.0             2017-03-03   \n",
       "4                     0.0                0.0                    NaT   \n",
       "5                     0.0                0.0                    NaT   \n",
       "6                     7.0                4.0             2017-05-31   \n",
       "7                     0.0                0.0                    NaT   \n",
       "8                     0.0                0.0                    NaT   \n",
       "9                     0.0                0.0                    NaT   \n",
       "\n",
       "   worst_delinquency_past_due_balance  \n",
       "0                                 0.0  \n",
       "1                               200.0  \n",
       "2                               100.0  \n",
       "3                               191.0  \n",
       "4                                 0.0  \n",
       "5                                 0.0  \n",
       "6                              4342.0  \n",
       "7                                 0.0  \n",
       "8                                 0.0  \n",
       "9                                 0.0  "
      ]
     },
     "execution_count": 13,
     "metadata": {},
     "output_type": "execute_result"
    }
   ],
   "source": [
    "data_credit_reports.head(10)"
   ]
  },
  {
   "cell_type": "code",
   "execution_count": 14,
   "id": "17c60d58",
   "metadata": {
    "scrolled": true
   },
   "outputs": [
    {
     "name": "stdout",
     "output_type": "stream",
     "text": [
      "<class 'pandas.core.frame.DataFrame'>\n",
      "RangeIndex: 16309 entries, 0 to 16308\n",
      "Data columns (total 17 columns):\n",
      " #   Column                              Non-Null Count  Dtype         \n",
      "---  ------                              --------------  -----         \n",
      " 0   user_id                             16309 non-null  int64         \n",
      " 1   institution                         16309 non-null  object        \n",
      " 2   account_type                        16309 non-null  object        \n",
      " 3   credit_type                         16309 non-null  object        \n",
      " 4   total_credit_payments               16268 non-null  float64       \n",
      " 5   payment_frequency                   16308 non-null  object        \n",
      " 6   amount_to_pay_next_payment          16304 non-null  float64       \n",
      " 7   account_opening_date                16309 non-null  datetime64[ns]\n",
      " 8   account_closing_date                9068 non-null   datetime64[ns]\n",
      " 9   maximum_credit_amount               16307 non-null  float64       \n",
      " 10  current_balance                     16304 non-null  float64       \n",
      " 11  credit_limit                        16296 non-null  float64       \n",
      " 12  past_due_balance                    16304 non-null  float64       \n",
      " 13  number_of_payments_due              16297 non-null  float64       \n",
      " 14  worst_delinquency                   16255 non-null  float64       \n",
      " 15  worst_delinquency_date              2884 non-null   datetime64[ns]\n",
      " 16  worst_delinquency_past_due_balance  16297 non-null  float64       \n",
      "dtypes: datetime64[ns](3), float64(9), int64(1), object(4)\n",
      "memory usage: 2.1+ MB\n"
     ]
    }
   ],
   "source": [
    "data_credit_reports.info()"
   ]
  },
  {
   "cell_type": "code",
   "execution_count": 15,
   "id": "25ea550a",
   "metadata": {},
   "outputs": [
    {
     "data": {
      "text/html": [
       "<div>\n",
       "<style scoped>\n",
       "    .dataframe tbody tr th:only-of-type {\n",
       "        vertical-align: middle;\n",
       "    }\n",
       "\n",
       "    .dataframe tbody tr th {\n",
       "        vertical-align: top;\n",
       "    }\n",
       "\n",
       "    .dataframe thead th {\n",
       "        text-align: right;\n",
       "    }\n",
       "</style>\n",
       "<table border=\"1\" class=\"dataframe\">\n",
       "  <thead>\n",
       "    <tr style=\"text-align: right;\">\n",
       "      <th></th>\n",
       "      <th>user_id</th>\n",
       "      <th>total_credit_payments</th>\n",
       "      <th>amount_to_pay_next_payment</th>\n",
       "      <th>maximum_credit_amount</th>\n",
       "      <th>current_balance</th>\n",
       "      <th>credit_limit</th>\n",
       "      <th>past_due_balance</th>\n",
       "      <th>number_of_payments_due</th>\n",
       "      <th>worst_delinquency</th>\n",
       "      <th>worst_delinquency_past_due_balance</th>\n",
       "    </tr>\n",
       "  </thead>\n",
       "  <tbody>\n",
       "    <tr>\n",
       "      <th>count</th>\n",
       "      <td>16309.000000</td>\n",
       "      <td>16268.000000</td>\n",
       "      <td>1.630400e+04</td>\n",
       "      <td>1.630700e+04</td>\n",
       "      <td>1.630400e+04</td>\n",
       "      <td>1.629600e+04</td>\n",
       "      <td>1.630400e+04</td>\n",
       "      <td>16297.000000</td>\n",
       "      <td>16255.000000</td>\n",
       "      <td>1.629700e+04</td>\n",
       "    </tr>\n",
       "    <tr>\n",
       "      <th>mean</th>\n",
       "      <td>474.067631</td>\n",
       "      <td>22.405766</td>\n",
       "      <td>2.779242e+03</td>\n",
       "      <td>3.994739e+04</td>\n",
       "      <td>1.993377e+04</td>\n",
       "      <td>2.398115e+04</td>\n",
       "      <td>3.618910e+03</td>\n",
       "      <td>2.291219</td>\n",
       "      <td>1.541618</td>\n",
       "      <td>1.617189e+03</td>\n",
       "    </tr>\n",
       "    <tr>\n",
       "      <th>std</th>\n",
       "      <td>293.165091</td>\n",
       "      <td>77.413143</td>\n",
       "      <td>2.145046e+04</td>\n",
       "      <td>1.337402e+05</td>\n",
       "      <td>1.067213e+05</td>\n",
       "      <td>9.429967e+04</td>\n",
       "      <td>2.816734e+04</td>\n",
       "      <td>8.250868</td>\n",
       "      <td>6.816558</td>\n",
       "      <td>2.845180e+04</td>\n",
       "    </tr>\n",
       "    <tr>\n",
       "      <th>min</th>\n",
       "      <td>0.000000</td>\n",
       "      <td>0.000000</td>\n",
       "      <td>0.000000e+00</td>\n",
       "      <td>0.000000e+00</td>\n",
       "      <td>0.000000e+00</td>\n",
       "      <td>0.000000e+00</td>\n",
       "      <td>0.000000e+00</td>\n",
       "      <td>0.000000</td>\n",
       "      <td>0.000000</td>\n",
       "      <td>0.000000e+00</td>\n",
       "    </tr>\n",
       "    <tr>\n",
       "      <th>25%</th>\n",
       "      <td>213.000000</td>\n",
       "      <td>0.000000</td>\n",
       "      <td>0.000000e+00</td>\n",
       "      <td>2.000000e+03</td>\n",
       "      <td>0.000000e+00</td>\n",
       "      <td>0.000000e+00</td>\n",
       "      <td>0.000000e+00</td>\n",
       "      <td>0.000000</td>\n",
       "      <td>0.000000</td>\n",
       "      <td>0.000000e+00</td>\n",
       "    </tr>\n",
       "    <tr>\n",
       "      <th>50%</th>\n",
       "      <td>466.000000</td>\n",
       "      <td>1.000000</td>\n",
       "      <td>0.000000e+00</td>\n",
       "      <td>6.899000e+03</td>\n",
       "      <td>0.000000e+00</td>\n",
       "      <td>8.925000e+02</td>\n",
       "      <td>0.000000e+00</td>\n",
       "      <td>0.000000</td>\n",
       "      <td>0.000000</td>\n",
       "      <td>0.000000e+00</td>\n",
       "    </tr>\n",
       "    <tr>\n",
       "      <th>75%</th>\n",
       "      <td>726.000000</td>\n",
       "      <td>16.000000</td>\n",
       "      <td>5.830000e+02</td>\n",
       "      <td>2.634750e+04</td>\n",
       "      <td>3.224250e+03</td>\n",
       "      <td>1.440600e+04</td>\n",
       "      <td>0.000000e+00</td>\n",
       "      <td>0.000000</td>\n",
       "      <td>0.000000</td>\n",
       "      <td>0.000000e+00</td>\n",
       "    </tr>\n",
       "    <tr>\n",
       "      <th>max</th>\n",
       "      <td>999.000000</td>\n",
       "      <td>1800.000000</td>\n",
       "      <td>1.263964e+06</td>\n",
       "      <td>4.883200e+06</td>\n",
       "      <td>4.697583e+06</td>\n",
       "      <td>3.269355e+06</td>\n",
       "      <td>1.915973e+06</td>\n",
       "      <td>96.000000</td>\n",
       "      <td>84.000000</td>\n",
       "      <td>3.234351e+06</td>\n",
       "    </tr>\n",
       "  </tbody>\n",
       "</table>\n",
       "</div>"
      ],
      "text/plain": [
       "            user_id  total_credit_payments  amount_to_pay_next_payment  \\\n",
       "count  16309.000000           16268.000000                1.630400e+04   \n",
       "mean     474.067631              22.405766                2.779242e+03   \n",
       "std      293.165091              77.413143                2.145046e+04   \n",
       "min        0.000000               0.000000                0.000000e+00   \n",
       "25%      213.000000               0.000000                0.000000e+00   \n",
       "50%      466.000000               1.000000                0.000000e+00   \n",
       "75%      726.000000              16.000000                5.830000e+02   \n",
       "max      999.000000            1800.000000                1.263964e+06   \n",
       "\n",
       "       maximum_credit_amount  current_balance  credit_limit  past_due_balance  \\\n",
       "count           1.630700e+04     1.630400e+04  1.629600e+04      1.630400e+04   \n",
       "mean            3.994739e+04     1.993377e+04  2.398115e+04      3.618910e+03   \n",
       "std             1.337402e+05     1.067213e+05  9.429967e+04      2.816734e+04   \n",
       "min             0.000000e+00     0.000000e+00  0.000000e+00      0.000000e+00   \n",
       "25%             2.000000e+03     0.000000e+00  0.000000e+00      0.000000e+00   \n",
       "50%             6.899000e+03     0.000000e+00  8.925000e+02      0.000000e+00   \n",
       "75%             2.634750e+04     3.224250e+03  1.440600e+04      0.000000e+00   \n",
       "max             4.883200e+06     4.697583e+06  3.269355e+06      1.915973e+06   \n",
       "\n",
       "       number_of_payments_due  worst_delinquency  \\\n",
       "count            16297.000000       16255.000000   \n",
       "mean                 2.291219           1.541618   \n",
       "std                  8.250868           6.816558   \n",
       "min                  0.000000           0.000000   \n",
       "25%                  0.000000           0.000000   \n",
       "50%                  0.000000           0.000000   \n",
       "75%                  0.000000           0.000000   \n",
       "max                 96.000000          84.000000   \n",
       "\n",
       "       worst_delinquency_past_due_balance  \n",
       "count                        1.629700e+04  \n",
       "mean                         1.617189e+03  \n",
       "std                          2.845180e+04  \n",
       "min                          0.000000e+00  \n",
       "25%                          0.000000e+00  \n",
       "50%                          0.000000e+00  \n",
       "75%                          0.000000e+00  \n",
       "max                          3.234351e+06  "
      ]
     },
     "execution_count": 15,
     "metadata": {},
     "output_type": "execute_result"
    }
   ],
   "source": [
    "data_credit_reports.describe()"
   ]
  },
  {
   "cell_type": "markdown",
   "id": "3726bbb3",
   "metadata": {},
   "source": [
    "#### Missing Values"
   ]
  },
  {
   "cell_type": "code",
   "execution_count": 16,
   "id": "c6bdcaea",
   "metadata": {},
   "outputs": [
    {
     "data": {
      "image/png": "[encoded data removed]",
      "text/plain": [
       "<Figure size 864x288 with 1 Axes>"
      ]
     },
     "metadata": {
      "needs_background": "light"
     },
     "output_type": "display_data"
    }
   ],
   "source": [
    "plt.figure(figsize=(12, 4))\n",
    "sns.heatmap(data_credit_reports.isnull(),cbar=False,cmap='viridis',yticklabels=False)\n",
    "plt.xticks(rotation=80) \n",
    "plt.title('Missing value in the dataset');"
   ]
  },
  {
   "cell_type": "markdown",
   "id": "d5c16cde",
   "metadata": {},
   "source": [
    "We can see that the `account_closing_date` and `worst_delinquency_date` variables have a lot of missing values."
   ]
  },
  {
   "cell_type": "markdown",
   "id": "609e00b5",
   "metadata": {},
   "source": [
    "#### Categorical variables"
   ]
  },
  {
   "cell_type": "code",
   "execution_count": 17,
   "id": "f399a64a",
   "metadata": {},
   "outputs": [
    {
     "data": {
      "text/html": [
       "<div>\n",
       "<style scoped>\n",
       "    .dataframe tbody tr th:only-of-type {\n",
       "        vertical-align: middle;\n",
       "    }\n",
       "\n",
       "    .dataframe tbody tr th {\n",
       "        vertical-align: top;\n",
       "    }\n",
       "\n",
       "    .dataframe thead th {\n",
       "        text-align: right;\n",
       "    }\n",
       "</style>\n",
       "<table border=\"1\" class=\"dataframe\">\n",
       "  <thead>\n",
       "    <tr style=\"text-align: right;\">\n",
       "      <th></th>\n",
       "      <th>institution</th>\n",
       "      <th>account_type</th>\n",
       "      <th>credit_type</th>\n",
       "      <th>payment_frequency</th>\n",
       "    </tr>\n",
       "  </thead>\n",
       "  <tbody>\n",
       "    <tr>\n",
       "      <th>count</th>\n",
       "      <td>16309</td>\n",
       "      <td>16309</td>\n",
       "      <td>16309</td>\n",
       "      <td>16308</td>\n",
       "    </tr>\n",
       "    <tr>\n",
       "      <th>unique</th>\n",
       "      <td>54</td>\n",
       "      <td>8</td>\n",
       "      <td>26</td>\n",
       "      <td>10</td>\n",
       "    </tr>\n",
       "    <tr>\n",
       "      <th>top</th>\n",
       "      <td>BANCO</td>\n",
       "      <td>Pagos Fijos</td>\n",
       "      <td>Préstamo Personal</td>\n",
       "      <td>Mensual</td>\n",
       "    </tr>\n",
       "    <tr>\n",
       "      <th>freq</th>\n",
       "      <td>4285</td>\n",
       "      <td>8083</td>\n",
       "      <td>5717</td>\n",
       "      <td>11191</td>\n",
       "    </tr>\n",
       "  </tbody>\n",
       "</table>\n",
       "</div>"
      ],
      "text/plain": [
       "       institution account_type         credit_type payment_frequency\n",
       "count        16309        16309               16309             16308\n",
       "unique          54            8                  26                10\n",
       "top          BANCO  Pagos Fijos  Préstamo Personal            Mensual\n",
       "freq          4285         8083                5717             11191"
      ]
     },
     "execution_count": 17,
     "metadata": {},
     "output_type": "execute_result"
    }
   ],
   "source": [
    "data_credit_reports.describe(include=['object', 'bool'])"
   ]
  },
  {
   "cell_type": "code",
   "execution_count": 18,
   "id": "33703c26",
   "metadata": {},
   "outputs": [],
   "source": [
    "institution_count = pd.DataFrame(data_credit_reports['institution'].value_counts())\n",
    "institution_count = institution_count.reset_index()\n",
    "\n",
    "account_type_count = pd.DataFrame(data_credit_reports['account_type'].value_counts())\n",
    "account_type_count = account_type_count.reset_index()\n",
    "\n",
    "credit_type_count = pd.DataFrame(data_credit_reports['credit_type'].value_counts())\n",
    "credit_type_count = credit_type_count.reset_index()\n",
    "\n",
    "payment_frequency_count = pd.DataFrame(data_credit_reports['payment_frequency'].value_counts())\n",
    "payment_frequency_count = payment_frequency_count.reset_index()"
   ]
  },
  {
   "cell_type": "code",
   "execution_count": 19,
   "id": "1156af09",
   "metadata": {
    "scrolled": true
   },
   "outputs": [
    {
     "data": {
      "image/png": "[encoded data removed]",
      "text/plain": [
       "<Figure size 1296x936 with 4 Axes>"
      ]
     },
     "metadata": {
      "needs_background": "light"
     },
     "output_type": "display_data"
    }
   ],
   "source": [
    "fig, axes = plt.subplots(2, 2, figsize=(18, 13), sharex=True)\n",
    "fig.suptitle(\"Classes's distribution of the Categorical Variables\", size=18)\n",
    "\n",
    "sns.set(style=\"darkgrid\")\n",
    "\n",
    "p1 = sns.barplot(x=institution_count['index'], y='institution',  data=institution_count, alpha=0.9, ax=axes[0,0])\n",
    "#p1.set(xlabel=None)\n",
    "p1.set(xticklabels=[])  \n",
    "p1.set(xlabel='Classes', ylabel='Counts')\n",
    "p1.set(title=\"Classes's Distribution of the Institution Variable\")\n",
    "\n",
    "p2 = sns.barplot(x=account_type_count['index'], y='account_type',  data=account_type_count, alpha=0.9, ax=axes[0,1])\n",
    "p2.set(xticklabels=[])\n",
    "p2.set(xlabel='Classes', ylabel='Counts')\n",
    "p2.set(title=\"Classes's Distribution of the Account Type Variable\")\n",
    "\n",
    "p3 = sns.barplot(x=credit_type_count['index'], y='credit_type',  data=credit_type_count, alpha=0.9, ax=axes[1,0])\n",
    "p3.set(xticklabels=[])\n",
    "p3.set(xlabel='Classes', ylabel='Counts')\n",
    "p3.set(title=\"Classes's Distribution of the Credit Type Variable\")\n",
    "\n",
    "p4 = sns.barplot(x=payment_frequency_count['index'], y='payment_frequency',  data=payment_frequency_count, alpha=0.9, ax=axes[1,1])\n",
    "p4.set(xticklabels=[])  \n",
    "p4.set(xlabel='Classes', ylabel='Counts')\n",
    "p4.set(title=\"Classes's Distribution of the Payment Frecuency Variable\")\n",
    "\n",
    "axes1, axes2, axes3, axes4 = axes.ravel()\n",
    "axes1.set_xlim(-1, 25)\n",
    "#axes1.set_ylim(0, 0.5e6) \n",
    "#axes2.set_ylim(0, 0.5e6) \n",
    "#plt.set(xlabel=None)\n",
    "\n",
    "#plt.setp(axes, yticks=[])\n",
    "#plt.tight_layout()\n",
    "plt.show()"
   ]
  },
  {
   "cell_type": "markdown",
   "id": "ac857b70",
   "metadata": {},
   "source": [
    "There is a problem of High cardinality and imbalanced classes, specially in the `institution`, `account_type` and `payment_frecuency` variables."
   ]
  },
  {
   "cell_type": "markdown",
   "id": "9026fd74",
   "metadata": {},
   "source": [
    "#### Quantitative variables"
   ]
  },
  {
   "cell_type": "code",
   "execution_count": 20,
   "id": "0d13daf9",
   "metadata": {},
   "outputs": [
    {
     "name": "stderr",
     "output_type": "stream",
     "text": [
      "<ipython-input-20-f1dbe81d1499>:4: UserWarning: To output multiple subplots, the figure containing the passed axes is being cleared\n",
      "  data_credit_reports[[\"total_credit_payments\",\n"
     ]
    },
    {
     "data": {
      "image/png": "[encoded data removed]",
      "text/plain": [
       "<Figure size 936x1152 with 9 Axes>"
      ]
     },
     "metadata": {},
     "output_type": "display_data"
    }
   ],
   "source": [
    "fig = plt.figure(figsize = (13,16))\n",
    "ax = fig.gca()\n",
    "#df.hist(ax = ax)\n",
    "data_credit_reports[[\"total_credit_payments\", \n",
    "                    \"amount_to_pay_next_payment\", \"maximum_credit_amount\", \n",
    "                    \"current_balance\", \"credit_limit\", \"past_due_balance\", \n",
    "                    \"number_of_payments_due\", \"worst_delinquency\",  \n",
    "                    \"worst_delinquency_past_due_balance\"]].hist(ax=ax)\n",
    "plt.show()"
   ]
  },
  {
   "cell_type": "markdown",
   "id": "1c951b90",
   "metadata": {},
   "source": [
    "If we calculate the Fisher-Pearson standardized moment coefficient, we can see that all the variables are skewed"
   ]
  },
  {
   "cell_type": "code",
   "execution_count": 61,
   "id": "c8133e44",
   "metadata": {},
   "outputs": [
    {
     "data": {
      "text/plain": [
       "worst_delinquency_past_due_balance    92.203928\n",
       "past_due_balance                      29.371754\n",
       "amount_to_pay_next_payment            28.750662\n",
       "current_balance                       17.921639\n",
       "credit_limit                          15.164412\n",
       "maximum_credit_amount                 13.563707\n",
       "total_credit_payments                  9.638661\n",
       "worst_delinquency                      8.683708\n",
       "number_of_payments_due                 7.244236\n",
       "dtype: float64"
      ]
     },
     "execution_count": 61,
     "metadata": {},
     "output_type": "execute_result"
    }
   ],
   "source": [
    "variables = [\"total_credit_payments\", \n",
    "                    \"amount_to_pay_next_payment\", \"maximum_credit_amount\", \n",
    "                    \"current_balance\", \"credit_limit\", \"past_due_balance\", \n",
    "                    \"number_of_payments_due\", \"worst_delinquency\",  \n",
    "                    \"worst_delinquency_past_due_balance\"]\n",
    "\n",
    "data_credit_reports[variables].skew().sort_values(ascending=False)"
   ]
  },
  {
   "cell_type": "markdown",
   "id": "ea981c83",
   "metadata": {},
   "source": [
    "## Data Preparation"
   ]
  },
  {
   "cell_type": "code",
   "execution_count": 317,
   "id": "3acbff0e",
   "metadata": {},
   "outputs": [],
   "source": [
    "data1 = data_users.copy()\n",
    "data2 = data_credit_reports.copy()"
   ]
  },
  {
   "cell_type": "markdown",
   "id": "94d8f42a",
   "metadata": {},
   "source": [
    "### Remove the columns with a high amount of missing values"
   ]
  },
  {
   "cell_type": "markdown",
   "id": "f3a2f6a4",
   "metadata": {},
   "source": [
    "The variables with a high number of missing values won't provided enough information to the model"
   ]
  },
  {
   "cell_type": "code",
   "execution_count": 318,
   "id": "d5720f5a",
   "metadata": {},
   "outputs": [],
   "source": [
    "mask = data_credit_reports.isna().sum() / len(data_credit_reports) < 0.3\n",
    "data_credit_reports = data_credit_reports.loc[:, mask]"
   ]
  },
  {
   "cell_type": "markdown",
   "id": "17971040",
   "metadata": {},
   "source": [
    "### Clone to practice "
   ]
  },
  {
   "cell_type": "code",
   "execution_count": 395,
   "id": "40cc3198",
   "metadata": {},
   "outputs": [],
   "source": [
    "data1 = data_users.copy()\n",
    "data2 = data_credit_reports.copy()"
   ]
  },
  {
   "cell_type": "code",
   "execution_count": 375,
   "id": "cbbf7195",
   "metadata": {},
   "outputs": [
    {
     "data": {
      "text/html": [
       "<div>\n",
       "<style scoped>\n",
       "    .dataframe tbody tr th:only-of-type {\n",
       "        vertical-align: middle;\n",
       "    }\n",
       "\n",
       "    .dataframe tbody tr th {\n",
       "        vertical-align: top;\n",
       "    }\n",
       "\n",
       "    .dataframe thead th {\n",
       "        text-align: right;\n",
       "    }\n",
       "</style>\n",
       "<table border=\"1\" class=\"dataframe\">\n",
       "  <thead>\n",
       "    <tr style=\"text-align: right;\">\n",
       "      <th></th>\n",
       "      <th>user_id</th>\n",
       "      <th>institution</th>\n",
       "      <th>account_type</th>\n",
       "      <th>credit_type</th>\n",
       "      <th>total_credit_payments</th>\n",
       "      <th>payment_frequency</th>\n",
       "      <th>amount_to_pay_next_payment</th>\n",
       "      <th>account_opening_date</th>\n",
       "      <th>maximum_credit_amount</th>\n",
       "      <th>current_balance</th>\n",
       "      <th>credit_limit</th>\n",
       "      <th>past_due_balance</th>\n",
       "      <th>number_of_payments_due</th>\n",
       "      <th>worst_delinquency</th>\n",
       "      <th>worst_delinquency_past_due_balance</th>\n",
       "    </tr>\n",
       "  </thead>\n",
       "  <tbody>\n",
       "    <tr>\n",
       "      <th>0</th>\n",
       "      <td>0</td>\n",
       "      <td>MERCANCIA PARA HOGAR Y OFICINA</td>\n",
       "      <td>Pagos Fijos</td>\n",
       "      <td>Línea de Crédito</td>\n",
       "      <td>78.0</td>\n",
       "      <td>Semanal</td>\n",
       "      <td>0.0</td>\n",
       "      <td>2014-11-10</td>\n",
       "      <td>9826.0</td>\n",
       "      <td>0.0</td>\n",
       "      <td>0.0</td>\n",
       "      <td>0.0</td>\n",
       "      <td>0.0</td>\n",
       "      <td>0.0</td>\n",
       "      <td>0.0</td>\n",
       "    </tr>\n",
       "    <tr>\n",
       "      <th>1</th>\n",
       "      <td>0</td>\n",
       "      <td>MERCANCIA PARA HOGAR Y OFICINA</td>\n",
       "      <td>Pagos Fijos</td>\n",
       "      <td>Préstamo Personal</td>\n",
       "      <td>80.0</td>\n",
       "      <td>Semanal</td>\n",
       "      <td>0.0</td>\n",
       "      <td>2015-12-05</td>\n",
       "      <td>16000.0</td>\n",
       "      <td>0.0</td>\n",
       "      <td>0.0</td>\n",
       "      <td>0.0</td>\n",
       "      <td>3.0</td>\n",
       "      <td>1.0</td>\n",
       "      <td>200.0</td>\n",
       "    </tr>\n",
       "    <tr>\n",
       "      <th>2</th>\n",
       "      <td>0</td>\n",
       "      <td>MERCANCIA PARA HOGAR Y OFICINA</td>\n",
       "      <td>Pagos Fijos</td>\n",
       "      <td>Línea de Crédito</td>\n",
       "      <td>102.0</td>\n",
       "      <td>Semanal</td>\n",
       "      <td>100.0</td>\n",
       "      <td>2016-09-02</td>\n",
       "      <td>10205.0</td>\n",
       "      <td>3505.0</td>\n",
       "      <td>0.0</td>\n",
       "      <td>0.0</td>\n",
       "      <td>3.0</td>\n",
       "      <td>1.0</td>\n",
       "      <td>100.0</td>\n",
       "    </tr>\n",
       "    <tr>\n",
       "      <th>3</th>\n",
       "      <td>0</td>\n",
       "      <td>MERCANCIA PARA HOGAR Y OFICINA</td>\n",
       "      <td>Pagos Fijos</td>\n",
       "      <td>Préstamo Personal</td>\n",
       "      <td>120.0</td>\n",
       "      <td>Semanal</td>\n",
       "      <td>191.0</td>\n",
       "      <td>2016-10-14</td>\n",
       "      <td>22920.0</td>\n",
       "      <td>11269.0</td>\n",
       "      <td>0.0</td>\n",
       "      <td>0.0</td>\n",
       "      <td>3.0</td>\n",
       "      <td>1.0</td>\n",
       "      <td>191.0</td>\n",
       "    </tr>\n",
       "    <tr>\n",
       "      <th>4</th>\n",
       "      <td>0</td>\n",
       "      <td>KONFIO</td>\n",
       "      <td>Pagos Fijos</td>\n",
       "      <td>Préstamo Personal</td>\n",
       "      <td>12.0</td>\n",
       "      <td>Quincenal</td>\n",
       "      <td>0.0</td>\n",
       "      <td>2016-12-27</td>\n",
       "      <td>150000.0</td>\n",
       "      <td>0.0</td>\n",
       "      <td>0.0</td>\n",
       "      <td>0.0</td>\n",
       "      <td>0.0</td>\n",
       "      <td>0.0</td>\n",
       "      <td>0.0</td>\n",
       "    </tr>\n",
       "  </tbody>\n",
       "</table>\n",
       "</div>"
      ],
      "text/plain": [
       "   user_id                     institution account_type         credit_type  \\\n",
       "0        0  MERCANCIA PARA HOGAR Y OFICINA  Pagos Fijos    Línea de Crédito   \n",
       "1        0  MERCANCIA PARA HOGAR Y OFICINA  Pagos Fijos  Préstamo Personal    \n",
       "2        0  MERCANCIA PARA HOGAR Y OFICINA  Pagos Fijos    Línea de Crédito   \n",
       "3        0  MERCANCIA PARA HOGAR Y OFICINA  Pagos Fijos  Préstamo Personal    \n",
       "4        0                          KONFIO  Pagos Fijos  Préstamo Personal    \n",
       "\n",
       "   total_credit_payments payment_frequency  amount_to_pay_next_payment  \\\n",
       "0                   78.0           Semanal                         0.0   \n",
       "1                   80.0           Semanal                         0.0   \n",
       "2                  102.0           Semanal                       100.0   \n",
       "3                  120.0           Semanal                       191.0   \n",
       "4                   12.0         Quincenal                         0.0   \n",
       "\n",
       "  account_opening_date  maximum_credit_amount  current_balance  credit_limit  \\\n",
       "0           2014-11-10                 9826.0              0.0           0.0   \n",
       "1           2015-12-05                16000.0              0.0           0.0   \n",
       "2           2016-09-02                10205.0           3505.0           0.0   \n",
       "3           2016-10-14                22920.0          11269.0           0.0   \n",
       "4           2016-12-27               150000.0              0.0           0.0   \n",
       "\n",
       "   past_due_balance  number_of_payments_due  worst_delinquency  \\\n",
       "0               0.0                     0.0                0.0   \n",
       "1               0.0                     3.0                1.0   \n",
       "2               0.0                     3.0                1.0   \n",
       "3               0.0                     3.0                1.0   \n",
       "4               0.0                     0.0                0.0   \n",
       "\n",
       "   worst_delinquency_past_due_balance  \n",
       "0                                 0.0  \n",
       "1                               200.0  \n",
       "2                               100.0  \n",
       "3                               191.0  \n",
       "4                                 0.0  "
      ]
     },
     "execution_count": 375,
     "metadata": {},
     "output_type": "execute_result"
    }
   ],
   "source": [
    "data2.head()"
   ]
  },
  {
   "cell_type": "markdown",
   "id": "22c696d4",
   "metadata": {},
   "source": [
    "### Treating categorical variables in `data_credit_reports`"
   ]
  },
  {
   "cell_type": "markdown",
   "id": "48184c72",
   "metadata": {},
   "source": [
    "There are a high number of classes in the categorical variables, and many of them don't provide us with enough information because of their low number of observations. For this reason, it is a better option to group the classes with low frequency in an unique class."
   ]
  },
  {
   "cell_type": "code",
   "execution_count": 460,
   "id": "fae585d5",
   "metadata": {},
   "outputs": [],
   "source": [
    "def createDataToNewColumn(values_to_scan, classes):\n",
    "    data_to_new_column = list()\n",
    "    for i in values_to_scan:\n",
    "        if ((i == classes).any()):\n",
    "            data_to_new_column.append(i)\n",
    "        else:\n",
    "            data_to_new_column.append('Other')\n",
    "    return data_to_new_column"
   ]
  },
  {
   "cell_type": "markdown",
   "id": "27d7be60",
   "metadata": {},
   "source": [
    "Group the classes of the variable `institution`"
   ]
  },
  {
   "cell_type": "code",
   "execution_count": 461,
   "id": "6194651c",
   "metadata": {},
   "outputs": [],
   "source": [
    "classes = institution_count[institution_count.institution > institution_count.institution.quantile(0.80)]['index']#.sum()\n",
    "new_column = createDataToNewColumn(data_credit_reports['institution'], classes)\n",
    "data_credit_reports.insert(1, 'institution_mod', new_column, True)\n",
    "data_credit_reports.drop(['institution'], axis=1, inplace=True)"
   ]
  },
  {
   "cell_type": "markdown",
   "id": "9867cfa7",
   "metadata": {},
   "source": [
    "Group the classes of the variable `account_type`"
   ]
  },
  {
   "cell_type": "code",
   "execution_count": 462,
   "id": "abdbdc66",
   "metadata": {},
   "outputs": [],
   "source": [
    "classes = account_type_count[account_type_count.account_type > account_type_count.account_type.quantile(0.75)]['index']#.sum()\n",
    "new_column = createDataToNewColumn(data_credit_reports['account_type'], classes)\n",
    "data_credit_reports.insert(2, 'account_type_mod', new_column, True)\n",
    "data_credit_reports.drop(['account_type'], axis=1, inplace=True)"
   ]
  },
  {
   "cell_type": "markdown",
   "id": "8b8cc000",
   "metadata": {},
   "source": [
    "Group the classes of the variable `credit_type`"
   ]
  },
  {
   "cell_type": "code",
   "execution_count": 464,
   "id": "28eca8c5",
   "metadata": {},
   "outputs": [],
   "source": [
    "classes = credit_type_count[credit_type_count.credit_type > credit_type_count.credit_type.quantile(0.9)]['index']#.sum()\n",
    "new_column = createDataToNewColumn(data_credit_reports['credit_type'], classes)\n",
    "data_credit_reports.insert(3, 'credit_type_mod', new_column, True)\n",
    "data_credit_reports.drop(['credit_type'], axis=1, inplace=True)"
   ]
  },
  {
   "cell_type": "markdown",
   "id": "d3b611b0",
   "metadata": {},
   "source": [
    "Group the classes of the variable `payment_frequency`"
   ]
  },
  {
   "cell_type": "code",
   "execution_count": 465,
   "id": "6cfba2cb",
   "metadata": {},
   "outputs": [],
   "source": [
    "classes = payment_frequency_count[payment_frequency_count.payment_frequency > payment_frequency_count.payment_frequency.quantile(0.9)]['index']#.sum()\n",
    "new_column = createDataToNewColumn(data_credit_reports['payment_frequency'], classes)\n",
    "data_credit_reports.insert(5, 'payment_frequency_mod', new_column, True)\n",
    "data_credit_reports.drop(['payment_frequency'], axis=1, inplace=True)"
   ]
  },
  {
   "cell_type": "markdown",
   "id": "87f8d9b8",
   "metadata": {},
   "source": [
    "### Add new columns to variables related with the `account_opening_date`"
   ]
  },
  {
   "cell_type": "code",
   "execution_count": 470,
   "id": "83b612ab",
   "metadata": {},
   "outputs": [],
   "source": [
    "data_credit_reports['account_opening_year'] = data_credit_reports['account_opening_date'].dt.year\n",
    "data_credit_reports['account_opening_month'] = data_credit_reports['account_opening_date'].dt.month\n",
    "data_credit_reports['account_opening_week'] = data_credit_reports['account_opening_date'].dt.isocalendar().week"
   ]
  },
  {
   "cell_type": "code",
   "execution_count": 472,
   "id": "4a224fad",
   "metadata": {},
   "outputs": [],
   "source": [
    "data_credit_reports.drop(['account_opening_date'], axis=1, inplace=True)"
   ]
  },
  {
   "cell_type": "markdown",
   "id": "0ec9a182",
   "metadata": {},
   "source": [
    "### Group the data from the users"
   ]
  },
  {
   "cell_type": "code",
   "execution_count": 447,
   "id": "1d6bb6da",
   "metadata": {},
   "outputs": [],
   "source": [
    "agg_data2 = data2.groupby('user_id').agg({'institution_mod': [pd.Series.mode], 'account_type_mod':[pd.Series.mode]})"
   ]
  },
  {
   "cell_type": "code",
   "execution_count": 476,
   "id": "b2e21f7a",
   "metadata": {},
   "outputs": [
    {
     "name": "stderr",
     "output_type": "stream",
     "text": [
      "<ipython-input-476-8e1e45567b75>:1: FutureWarning: Indexing with multiple keys (implicitly converted to a tuple of keys) will be deprecated, use a list instead.\n",
      "  agg_data2_cate = data_credit_reports.groupby(['user_id'])['institution_mod', 'account_type_mod',\n"
     ]
    }
   ],
   "source": [
    "agg_data2_cate = data_credit_reports.groupby(['user_id'])['institution_mod', 'account_type_mod', \n",
    "                                            'credit_type_mod', 'payment_frequency_mod', \n",
    "                                            'account_opening_year', 'account_opening_month',\n",
    "                                           'account_opening_week'].agg(lambda x: pd.Series.mode(x)[0])\n"
   ]
  },
  {
   "cell_type": "code",
   "execution_count": 477,
   "id": "53a16630",
   "metadata": {},
   "outputs": [
    {
     "data": {
      "text/html": [
       "<div>\n",
       "<style scoped>\n",
       "    .dataframe tbody tr th:only-of-type {\n",
       "        vertical-align: middle;\n",
       "    }\n",
       "\n",
       "    .dataframe tbody tr th {\n",
       "        vertical-align: top;\n",
       "    }\n",
       "\n",
       "    .dataframe thead th {\n",
       "        text-align: right;\n",
       "    }\n",
       "</style>\n",
       "<table border=\"1\" class=\"dataframe\">\n",
       "  <thead>\n",
       "    <tr style=\"text-align: right;\">\n",
       "      <th></th>\n",
       "      <th>institution_mod</th>\n",
       "      <th>account_type_mod</th>\n",
       "      <th>credit_type_mod</th>\n",
       "      <th>payment_frequency_mod</th>\n",
       "      <th>account_opening_year</th>\n",
       "      <th>account_opening_month</th>\n",
       "      <th>account_opening_week</th>\n",
       "    </tr>\n",
       "    <tr>\n",
       "      <th>user_id</th>\n",
       "      <th></th>\n",
       "      <th></th>\n",
       "      <th></th>\n",
       "      <th></th>\n",
       "      <th></th>\n",
       "      <th></th>\n",
       "      <th></th>\n",
       "    </tr>\n",
       "  </thead>\n",
       "  <tbody>\n",
       "    <tr>\n",
       "      <th>0</th>\n",
       "      <td>MERCANCIA PARA HOGAR Y OFICINA</td>\n",
       "      <td>Pagos Fijos</td>\n",
       "      <td>Línea de Crédito</td>\n",
       "      <td>Mensual</td>\n",
       "      <td>2016</td>\n",
       "      <td>9</td>\n",
       "      <td>35</td>\n",
       "    </tr>\n",
       "    <tr>\n",
       "      <th>1</th>\n",
       "      <td>MERCANCIA PARA HOGAR Y OFICINA</td>\n",
       "      <td>Pagos Fijos</td>\n",
       "      <td>Préstamo Personal</td>\n",
       "      <td>Other</td>\n",
       "      <td>2004</td>\n",
       "      <td>5</td>\n",
       "      <td>21</td>\n",
       "    </tr>\n",
       "    <tr>\n",
       "      <th>2</th>\n",
       "      <td>MERCANCIA PARA HOGAR Y OFICINA</td>\n",
       "      <td>Other</td>\n",
       "      <td>Préstamo Personal</td>\n",
       "      <td>Other</td>\n",
       "      <td>2017</td>\n",
       "      <td>7</td>\n",
       "      <td>19</td>\n",
       "    </tr>\n",
       "    <tr>\n",
       "      <th>3</th>\n",
       "      <td>BANCO</td>\n",
       "      <td>Pagos Fijos</td>\n",
       "      <td>Other</td>\n",
       "      <td>Mensual</td>\n",
       "      <td>2011</td>\n",
       "      <td>4</td>\n",
       "      <td>15</td>\n",
       "    </tr>\n",
       "    <tr>\n",
       "      <th>4</th>\n",
       "      <td>BANCO</td>\n",
       "      <td>Revolvente</td>\n",
       "      <td>Tarjeta de Crédito</td>\n",
       "      <td>Mensual</td>\n",
       "      <td>2012</td>\n",
       "      <td>5</td>\n",
       "      <td>22</td>\n",
       "    </tr>\n",
       "    <tr>\n",
       "      <th>...</th>\n",
       "      <td>...</td>\n",
       "      <td>...</td>\n",
       "      <td>...</td>\n",
       "      <td>...</td>\n",
       "      <td>...</td>\n",
       "      <td>...</td>\n",
       "      <td>...</td>\n",
       "    </tr>\n",
       "    <tr>\n",
       "      <th>995</th>\n",
       "      <td>SOCIEDAD FINANCIERA DE OBJETO MULTIPLE</td>\n",
       "      <td>Pagos Fijos</td>\n",
       "      <td>Préstamo Personal</td>\n",
       "      <td>Other</td>\n",
       "      <td>2017</td>\n",
       "      <td>9</td>\n",
       "      <td>39</td>\n",
       "    </tr>\n",
       "    <tr>\n",
       "      <th>996</th>\n",
       "      <td>Other</td>\n",
       "      <td>Pagos Fijos</td>\n",
       "      <td>Préstamo Personal</td>\n",
       "      <td>Mensual</td>\n",
       "      <td>2016</td>\n",
       "      <td>3</td>\n",
       "      <td>33</td>\n",
       "    </tr>\n",
       "    <tr>\n",
       "      <th>997</th>\n",
       "      <td>BANCOS</td>\n",
       "      <td>Pagos Fijos</td>\n",
       "      <td>Préstamo Personal</td>\n",
       "      <td>Other</td>\n",
       "      <td>2015</td>\n",
       "      <td>5</td>\n",
       "      <td>21</td>\n",
       "    </tr>\n",
       "    <tr>\n",
       "      <th>998</th>\n",
       "      <td>BANCO</td>\n",
       "      <td>Revolvente</td>\n",
       "      <td>Tarjeta de Crédito</td>\n",
       "      <td>Mensual</td>\n",
       "      <td>2009</td>\n",
       "      <td>5</td>\n",
       "      <td>3</td>\n",
       "    </tr>\n",
       "    <tr>\n",
       "      <th>999</th>\n",
       "      <td>Other</td>\n",
       "      <td>Other</td>\n",
       "      <td>Línea de Crédito</td>\n",
       "      <td>Mensual</td>\n",
       "      <td>2009</td>\n",
       "      <td>7</td>\n",
       "      <td>8</td>\n",
       "    </tr>\n",
       "  </tbody>\n",
       "</table>\n",
       "<p>1000 rows × 7 columns</p>\n",
       "</div>"
      ],
      "text/plain": [
       "                                institution_mod account_type_mod  \\\n",
       "user_id                                                            \n",
       "0                MERCANCIA PARA HOGAR Y OFICINA      Pagos Fijos   \n",
       "1                MERCANCIA PARA HOGAR Y OFICINA      Pagos Fijos   \n",
       "2                MERCANCIA PARA HOGAR Y OFICINA            Other   \n",
       "3                                         BANCO      Pagos Fijos   \n",
       "4                                         BANCO       Revolvente   \n",
       "...                                         ...              ...   \n",
       "995      SOCIEDAD FINANCIERA DE OBJETO MULTIPLE      Pagos Fijos   \n",
       "996                                       Other      Pagos Fijos   \n",
       "997                                      BANCOS      Pagos Fijos   \n",
       "998                                       BANCO       Revolvente   \n",
       "999                                       Other            Other   \n",
       "\n",
       "            credit_type_mod payment_frequency_mod  account_opening_year  \\\n",
       "user_id                                                                   \n",
       "0          Línea de Crédito               Mensual                  2016   \n",
       "1        Préstamo Personal                  Other                  2004   \n",
       "2        Préstamo Personal                  Other                  2017   \n",
       "3                     Other               Mensual                  2011   \n",
       "4        Tarjeta de Crédito               Mensual                  2012   \n",
       "...                     ...                   ...                   ...   \n",
       "995      Préstamo Personal                  Other                  2017   \n",
       "996      Préstamo Personal                Mensual                  2016   \n",
       "997      Préstamo Personal                  Other                  2015   \n",
       "998      Tarjeta de Crédito               Mensual                  2009   \n",
       "999        Línea de Crédito               Mensual                  2009   \n",
       "\n",
       "         account_opening_month  account_opening_week  \n",
       "user_id                                               \n",
       "0                            9                    35  \n",
       "1                            5                    21  \n",
       "2                            7                    19  \n",
       "3                            4                    15  \n",
       "4                            5                    22  \n",
       "...                        ...                   ...  \n",
       "995                          9                    39  \n",
       "996                          3                    33  \n",
       "997                          5                    21  \n",
       "998                          5                     3  \n",
       "999                          7                     8  \n",
       "\n",
       "[1000 rows x 7 columns]"
      ]
     },
     "execution_count": 477,
     "metadata": {},
     "output_type": "execute_result"
    }
   ],
   "source": [
    "agg_data2_cate"
   ]
  },
  {
   "cell_type": "code",
   "execution_count": 478,
   "id": "544f7cf2",
   "metadata": {},
   "outputs": [
    {
     "data": {
      "text/html": [
       "<div>\n",
       "<style scoped>\n",
       "    .dataframe tbody tr th:only-of-type {\n",
       "        vertical-align: middle;\n",
       "    }\n",
       "\n",
       "    .dataframe tbody tr th {\n",
       "        vertical-align: top;\n",
       "    }\n",
       "\n",
       "    .dataframe thead th {\n",
       "        text-align: right;\n",
       "    }\n",
       "</style>\n",
       "<table border=\"1\" class=\"dataframe\">\n",
       "  <thead>\n",
       "    <tr style=\"text-align: right;\">\n",
       "      <th></th>\n",
       "      <th>institution_mod</th>\n",
       "      <th>account_type_mod</th>\n",
       "      <th>credit_type_mod</th>\n",
       "      <th>payment_frequency_mod</th>\n",
       "    </tr>\n",
       "  </thead>\n",
       "  <tbody>\n",
       "    <tr>\n",
       "      <th>count</th>\n",
       "      <td>1000</td>\n",
       "      <td>1000</td>\n",
       "      <td>1000</td>\n",
       "      <td>1000</td>\n",
       "    </tr>\n",
       "    <tr>\n",
       "      <th>unique</th>\n",
       "      <td>12</td>\n",
       "      <td>3</td>\n",
       "      <td>4</td>\n",
       "      <td>2</td>\n",
       "    </tr>\n",
       "    <tr>\n",
       "      <th>top</th>\n",
       "      <td>BANCO</td>\n",
       "      <td>Pagos Fijos</td>\n",
       "      <td>Línea de Crédito</td>\n",
       "      <td>Mensual</td>\n",
       "    </tr>\n",
       "    <tr>\n",
       "      <th>freq</th>\n",
       "      <td>418</td>\n",
       "      <td>481</td>\n",
       "      <td>318</td>\n",
       "      <td>839</td>\n",
       "    </tr>\n",
       "  </tbody>\n",
       "</table>\n",
       "</div>"
      ],
      "text/plain": [
       "       institution_mod account_type_mod   credit_type_mod  \\\n",
       "count             1000             1000              1000   \n",
       "unique              12                3                 4   \n",
       "top              BANCO      Pagos Fijos  Línea de Crédito   \n",
       "freq               418              481               318   \n",
       "\n",
       "       payment_frequency_mod  \n",
       "count                   1000  \n",
       "unique                     2  \n",
       "top                  Mensual  \n",
       "freq                     839  "
      ]
     },
     "execution_count": 478,
     "metadata": {},
     "output_type": "execute_result"
    }
   ],
   "source": [
    "agg_data2_cate.describe(include=['object', 'bool'])"
   ]
  },
  {
   "cell_type": "code",
   "execution_count": 488,
   "id": "1d3d7efd",
   "metadata": {},
   "outputs": [],
   "source": [
    "agg_data2_qua = data_credit_reports.groupby('user_id').agg({'total_credit_payments': ['mean'], \n",
    "                                              'amount_to_pay_next_payment':['mean'],\n",
    "                                             'maximum_credit_amount':['mean'],\n",
    "                                             'current_balance':['mean'],\n",
    "                                             'credit_limit':['mean'],\n",
    "                                             'past_due_balance':['mean'],\n",
    "                                             'number_of_payments_due':['mean'],\n",
    "                                             'worst_delinquency':['mean'],\n",
    "                                             'worst_delinquency_past_due_balance':['mean']})"
   ]
  },
  {
   "cell_type": "code",
   "execution_count": 489,
   "id": "e2195c05",
   "metadata": {},
   "outputs": [
    {
     "name": "stderr",
     "output_type": "stream",
     "text": [
      "<ipython-input-489-026e1377fb11>:4: UserWarning: To output multiple subplots, the figure containing the passed axes is being cleared\n",
      "  agg_data2_qua[[\"total_credit_payments\",\n"
     ]
    },
    {
     "data": {
      "image/png": "[encoded data removed]",
      "text/plain": [
       "<Figure size 936x1152 with 9 Axes>"
      ]
     },
     "metadata": {},
     "output_type": "display_data"
    }
   ],
   "source": [
    "fig = plt.figure(figsize = (13,16))\n",
    "ax = fig.gca()\n",
    "#df.hist(ax = ax)\n",
    "agg_data2_qua[[\"total_credit_payments\", \n",
    "                    \"amount_to_pay_next_payment\", \"maximum_credit_amount\", \n",
    "                    \"current_balance\", \"credit_limit\", \"past_due_balance\", \n",
    "                    \"number_of_payments_due\", \"worst_delinquency\",  \n",
    "                    \"worst_delinquency_past_due_balance\"]].hist(ax=ax)\n",
    "plt.show()"
   ]
  },
  {
   "cell_type": "markdown",
   "id": "e4641bf0",
   "metadata": {},
   "source": [
    "### Treat NA values in `data_credit_reports`"
   ]
  },
  {
   "cell_type": "code",
   "execution_count": 25,
   "id": "3bd0dac0",
   "metadata": {},
   "outputs": [],
   "source": [
    "from sklearn.base import BaseEstimator, TransformerMixin\n",
    "from sklearn.impute import SimpleImputer"
   ]
  },
  {
   "cell_type": "code",
   "execution_count": 36,
   "id": "28feaaf5",
   "metadata": {},
   "outputs": [
    {
     "name": "stdout",
     "output_type": "stream",
     "text": [
      "<class 'pandas.core.frame.DataFrame'>\n",
      "RangeIndex: 16309 entries, 0 to 16308\n",
      "Data columns (total 17 columns):\n",
      " #   Column                              Non-Null Count  Dtype         \n",
      "---  ------                              --------------  -----         \n",
      " 0   user_id                             16309 non-null  int64         \n",
      " 1   institution                         16309 non-null  object        \n",
      " 2   account_type                        16309 non-null  object        \n",
      " 3   credit_type                         16309 non-null  object        \n",
      " 4   total_credit_payments               16268 non-null  float64       \n",
      " 5   payment_frequency                   16308 non-null  object        \n",
      " 6   amount_to_pay_next_payment          16304 non-null  float64       \n",
      " 7   account_opening_date                16309 non-null  datetime64[ns]\n",
      " 8   account_closing_date                9068 non-null   datetime64[ns]\n",
      " 9   maximum_credit_amount               16307 non-null  float64       \n",
      " 10  current_balance                     16304 non-null  float64       \n",
      " 11  credit_limit                        16296 non-null  float64       \n",
      " 12  past_due_balance                    16304 non-null  float64       \n",
      " 13  number_of_payments_due              16297 non-null  float64       \n",
      " 14  worst_delinquency                   16255 non-null  float64       \n",
      " 15  worst_delinquency_date              2884 non-null   datetime64[ns]\n",
      " 16  worst_delinquency_past_due_balance  16297 non-null  float64       \n",
      "dtypes: datetime64[ns](3), float64(9), int64(1), object(4)\n",
      "memory usage: 2.1+ MB\n"
     ]
    }
   ],
   "source": [
    "data2.info()"
   ]
  },
  {
   "cell_type": "code",
   "execution_count": 37,
   "id": "562d3656",
   "metadata": {},
   "outputs": [],
   "source": [
    "class CreditReportsImputer(BaseEstimator, TransformerMixin):\n",
    "    # it is used by BaseEstimator\n",
    "    def fit(self,X, y=None):\n",
    "        return self\n",
    "    \n",
    "    def transform(self, X):\n",
    "        imputer = SimpleImputer(strategy=\"mean\")\n",
    "        imputer2 = SimpleImputer(strategy=\"median\")\n",
    "        X['total_credit_payments'] = imputer.fit_transform(X[['total_credit_payments']])\n",
    "        X['amount_to_pay_next_payment'] = imputer.fit_transform(X[['amount_to_pay_next_payment']])\n",
    "        X['maximum_credit_amount'] = imputer.fit_transform(X[['maximum_credit_amount']])\n",
    "        X['current_balance'] = imputer.fit_transform(X[['current_balance']])\n",
    "        X['credit_limit'] = imputer.fit_transform(X[['credit_limit']])\n",
    "        X['past_due_balance'] = imputer.fit_transform(X[['past_due_balance']])\n",
    "        X['number_of_payments_due'] = imputer.fit_transform(X[['number_of_payments_due']])\n",
    "        X['worst_delinquency'] = imputer2.fit_transform(X[['worst_delinquency']])\n",
    "        X['worst_delinquency_past_due_balance'] = imputer.fit_transform(X[['worst_delinquency_past_due_balance']])\n",
    "        return X"
   ]
  },
  {
   "cell_type": "code",
   "execution_count": 41,
   "id": "29778189",
   "metadata": {},
   "outputs": [],
   "source": [
    "from sklearn.pipeline import Pipeline\n",
    "pipeline = Pipeline([('creditreporstimputer', CreditReportsImputer())])"
   ]
  },
  {
   "cell_type": "code",
   "execution_count": 42,
   "id": "19eefcc6",
   "metadata": {},
   "outputs": [],
   "source": [
    "data_transformed = pipeline.fit_transform(data2)"
   ]
  },
  {
   "cell_type": "markdown",
   "id": "e54fab16",
   "metadata": {},
   "source": [
    "### Transformation and standardization"
   ]
  },
  {
   "cell_type": "markdown",
   "id": "825931d4",
   "metadata": {},
   "source": [
    "#### `data_users`"
   ]
  },
  {
   "cell_type": "code",
   "execution_count": 62,
   "id": "52d56d1a",
   "metadata": {},
   "outputs": [],
   "source": [
    "data1['monthly_income'] = np.log(data1['monthly_income'])\n",
    "data1['monthly_outcome'] = np.log(data1['monthly_outcome'])"
   ]
  },
  {
   "cell_type": "code",
   "execution_count": 64,
   "id": "09b07e48",
   "metadata": {},
   "outputs": [],
   "source": [
    "from sklearn.preprocessing import StandardScaler\n",
    "scaler = StandardScaler()\n",
    "\n",
    "data1['monthly_income'] = scaler.fit_transform(data1[['monthly_income']])\n",
    "data1['monthly_outcome'] = scaler.fit_transform(data1[['monthly_outcome']])\n"
   ]
  },
  {
   "cell_type": "code",
   "execution_count": 65,
   "id": "f0cdcde1",
   "metadata": {},
   "outputs": [
    {
     "data": {
      "image/png": "[encoded data removed]",
      "text/plain": [
       "<Figure size 864x504 with 2 Axes>"
      ]
     },
     "metadata": {},
     "output_type": "display_data"
    }
   ],
   "source": [
    "# Set up the matplotlib figure\n",
    "sns.set_palette(\"tab10\")\n",
    "fig, axes = plt.subplots(1, 2, figsize=(12, 7), sharex=True)\n",
    "fig.suptitle(\"Monthly Income and outcome for each user's class\")\n",
    "\n",
    "#plt.figure(figsize=(8, 6))\n",
    "sns.violinplot(x='class', y='monthly_income', data=data1, showfliers=True, ax=axes[0])\n",
    "#plt.show()\n",
    "\n",
    "#plt.figure(figsize=(8, 6))\n",
    "sns.violinplot(x='class', y='monthly_outcome', data=data1, showfliers=True, ax=axes[1])\n",
    "#plt.show()\n",
    "\n",
    "#axes1, axes2 = axes.ravel()\n",
    "#axes1.set_ylim(0, 0.5e6) \n",
    "#axes2.set_ylim(0, 0.5e6) \n",
    "\n",
    "#plt.setp(axes, yticks=[])\n",
    "plt.tight_layout()"
   ]
  },
  {
   "cell_type": "code",
   "execution_count": 67,
   "id": "178be56a",
   "metadata": {},
   "outputs": [
    {
     "data": {
      "text/plain": [
       "monthly_income    -0.264397\n",
       "monthly_outcome   -0.332458\n",
       "dtype: float64"
      ]
     },
     "execution_count": 67,
     "metadata": {},
     "output_type": "execute_result"
    }
   ],
   "source": [
    "data1[['monthly_income', 'monthly_outcome']].skew().sort_values(ascending=False)"
   ]
  },
  {
   "cell_type": "markdown",
   "id": "1d1d7d52",
   "metadata": {},
   "source": [
    "`data_credit_reports`"
   ]
  },
  {
   "cell_type": "code",
   "execution_count": 70,
   "id": "8bd0c656",
   "metadata": {},
   "outputs": [],
   "source": [
    "data_transformed[variables] = data_transformed[variables] +1"
   ]
  },
  {
   "cell_type": "code",
   "execution_count": 73,
   "id": "94c5a7b5",
   "metadata": {},
   "outputs": [],
   "source": [
    "# Log transform multiple columns in dataframe \n",
    "data_transformed[variables] = data_transformed[variables].apply(lambda x: np.log(x))"
   ]
  },
  {
   "cell_type": "code",
   "execution_count": 77,
   "id": "60ebd385",
   "metadata": {},
   "outputs": [],
   "source": [
    "from sklearn.preprocessing import StandardScaler\n",
    "scaler = StandardScaler()\n",
    "\n",
    "for i in variables:\n",
    "    data_transformed[i] = scaler.fit_transform(data_transformed[[i]])\n"
   ]
  },
  {
   "cell_type": "code",
   "execution_count": 78,
   "id": "490e75fa",
   "metadata": {},
   "outputs": [
    {
     "name": "stderr",
     "output_type": "stream",
     "text": [
      "<ipython-input-78-3b0946b68c1f>:4: UserWarning: To output multiple subplots, the figure containing the passed axes is being cleared\n",
      "  data_transformed[[\"total_credit_payments\",\n"
     ]
    },
    {
     "data": {
      "image/png": "[encoded data removed]",
      "text/plain": [
       "<Figure size 936x1152 with 9 Axes>"
      ]
     },
     "metadata": {},
     "output_type": "display_data"
    }
   ],
   "source": [
    "fig = plt.figure(figsize = (13,16))\n",
    "ax = fig.gca()\n",
    "#df.hist(ax = ax)\n",
    "data_transformed[[\"total_credit_payments\", \n",
    "                    \"amount_to_pay_next_payment\", \"maximum_credit_amount\", \n",
    "                    \"current_balance\", \"credit_limit\", \"past_due_balance\", \n",
    "                    \"number_of_payments_due\", \"worst_delinquency\",  \n",
    "                    \"worst_delinquency_past_due_balance\"]].hist(ax=ax)\n",
    "plt.show()"
   ]
  },
  {
   "cell_type": "markdown",
   "id": "ba2b8c14",
   "metadata": {},
   "source": [
    "## Modeling"
   ]
  },
  {
   "cell_type": "code",
   "execution_count": null,
   "id": "082fd534",
   "metadata": {},
   "outputs": [],
   "source": []
  },
  {
   "cell_type": "markdown",
   "id": "e767bce0",
   "metadata": {},
   "source": [
    "## Evaluation"
   ]
  },
  {
   "cell_type": "code",
   "execution_count": null,
   "id": "65928d3f",
   "metadata": {},
   "outputs": [],
   "source": []
  },
  {
   "cell_type": "markdown",
   "id": "625dcdc9",
   "metadata": {},
   "source": [
    "## Deployment"
   ]
  },
  {
   "cell_type": "code",
   "execution_count": null,
   "id": "afe068d9",
   "metadata": {},
   "outputs": [],
   "source": []
  }
 ],
 "metadata": {
  "kernelspec": {
   "display_name": "Python 3",
   "language": "python",
   "name": "python3"
  },
  "language_info": {
   "codemirror_mode": {
    "name": "ipython",
    "version": 3
   },
   "file_extension": ".py",
   "mimetype": "text/x-python",
   "name": "python",
   "nbconvert_exporter": "python",
   "pygments_lexer": "ipython3",
   "version": "3.8.8"
  }
 },
 "nbformat": 4,
 "nbformat_minor": 5
}
